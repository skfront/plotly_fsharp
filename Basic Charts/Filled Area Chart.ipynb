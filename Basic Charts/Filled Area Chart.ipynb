{
 "metadata": {
  "kernelspec": {
   "display_name": ".NET (F#)",
   "language": "F#",
   "name": ".net-fsharp"
  },
  "language_info": {
   "name": "F#"
  }
 },
 "cells": [
  {
   "cell_type": "markdown",
   "source": [
    "# Filled Area Charts"
   ],
   "metadata": {}
  },
  {
   "cell_type": "markdown",
   "source": [
    "## Imports"
   ],
   "metadata": {}
  },
  {
   "cell_type": "code",
   "execution_count": null,
   "source": [
    "#r \"nuget: Plotly.NET, 2.0.0-preview.6\"\r\n",
    "#r \"nuget: Plotly.NET.Interactive, 2.0.0-preview.6\"\r\n",
    "open Plotly.NET"
   ],
   "outputs": [
    {
     "data": {
      "text/html": [
       "<div><div></div><div></div><div><strong>Installed Packages</strong><ul><li><span>Plotly.NET, 2.0.0-preview.6</span></li><li><span>Plotly.NET.Interactive, 2.0.0-preview.6</span></li></ul></div></div>"
      ]
     },
     "metadata": {},
     "output_type": "display_data"
    }
   ],
   "metadata": {
    "dotnet_interactive": {
     "language": "fsharp"
    }
   }
  },
  {
   "cell_type": "markdown",
   "source": [
    "## Filled area chart with plotly.graph_objects"
   ],
   "metadata": {}
  },
  {
   "cell_type": "code",
   "execution_count": null,
   "source": [
    "open Plotly.NET\r\n",
    "\r\n",
    "let x = [1; 2; 3; 4]\r\n",
    "let y0 = [0; 2; 3; 5]\r\n",
    "let y1 = [3; 5; 1; 7]\r\n",
    "\r\n",
    "[\r\n",
    "    Chart.Area(x, y0) \r\n",
    "    Chart.Area(x, y1)\r\n",
    "] \r\n",
    "|> Chart.Combine"
   ],
   "outputs": [
    {
     "data": {
      "text/html": [
       "<div id=\"95bb00dd-303f-4818-ac39-57dbd42f54e0\" style=\"width: 600px; height: 600px;\"><!-- Plotly chart will be drawn inside this DIV --></div>\r\n",
       "<script type=\"text/javascript\">\r\n",
       "\n",
       "            var renderPlotly_95bb00dd303f4818ac3957dbd42f54e0 = function() {\n",
       "            var fsharpPlotlyRequire = requirejs.config({context:'fsharp-plotly',paths:{plotly:'https://cdn.plot.ly/plotly-latest.min'}}) || require;\n",
       "            fsharpPlotlyRequire(['plotly'], function(Plotly) {\r\n",
       "\n",
       "            var data = [{\"type\":\"scatter\",\"x\":[1,2,3,4],\"y\":[0,2,3,5],\"mode\":\"lines\",\"fill\":\"tozeroy\",\"line\":{},\"marker\":{}},{\"type\":\"scatter\",\"x\":[1,2,3,4],\"y\":[3,5,1,7],\"mode\":\"lines\",\"fill\":\"tozeroy\",\"line\":{},\"marker\":{}}];\n",
       "            var layout = {};\n",
       "            var config = {};\n",
       "            Plotly.newPlot('95bb00dd-303f-4818-ac39-57dbd42f54e0', data, layout, config);\r\n",
       "});\n",
       "            };\n",
       "            if ((typeof(requirejs) !==  typeof(Function)) || (typeof(requirejs.config) !== typeof(Function))) {\n",
       "                var script = document.createElement(\"script\");\n",
       "                script.setAttribute(\"src\", \"https://cdnjs.cloudflare.com/ajax/libs/require.js/2.3.6/require.min.js\");\n",
       "                script.onload = function(){\n",
       "                    renderPlotly_95bb00dd303f4818ac3957dbd42f54e0();\n",
       "                };\n",
       "                document.getElementsByTagName(\"head\")[0].appendChild(script);\n",
       "            }\n",
       "            else {\n",
       "                renderPlotly_95bb00dd303f4818ac3957dbd42f54e0();\n",
       "            }\r\n",
       "</script>\r\n"
      ]
     },
     "metadata": {},
     "output_type": "display_data"
    }
   ],
   "metadata": {
    "dotnet_interactive": {
     "language": "fsharp"
    }
   }
  },
  {
   "cell_type": "markdown",
   "source": [
    "## Overlaid Area Chart Without Boundary Lines"
   ],
   "metadata": {}
  },
  {
   "cell_type": "code",
   "execution_count": null,
   "source": [
    "open Plotly.NET\r\n",
    "\r\n",
    "let x = [1; 2; 3; 4]\r\n",
    "let y0 = [0; 2; 3; 5]\r\n",
    "let y1 = [3; 5; 1; 7]\r\n",
    "\r\n",
    "[\r\n",
    "    Chart.Area(x, y0) \r\n",
    "    Chart.Area(x, y1)\r\n",
    "] \r\n",
    "|> Chart.Combine\r\n",
    "|> Chart.withLineStyle(Width=0.0)"
   ],
   "outputs": [
    {
     "data": {
      "text/html": [
       "<div id=\"58f3d35f-5496-46b2-9ce5-963e2a54fd04\" style=\"width: 600px; height: 600px;\"><!-- Plotly chart will be drawn inside this DIV --></div>\r\n",
       "<script type=\"text/javascript\">\r\n",
       "\n",
       "            var renderPlotly_58f3d35f549646b29ce5963e2a54fd04 = function() {\n",
       "            var fsharpPlotlyRequire = requirejs.config({context:'fsharp-plotly',paths:{plotly:'https://cdn.plot.ly/plotly-latest.min'}}) || require;\n",
       "            fsharpPlotlyRequire(['plotly'], function(Plotly) {\r\n",
       "\n",
       "            var data = [{\"type\":\"scatter\",\"x\":[1,2,3,4],\"y\":[0,2,3,5],\"mode\":\"lines\",\"fill\":\"tozeroy\",\"line\":{\"width\":0.0},\"marker\":{}},{\"type\":\"scatter\",\"x\":[1,2,3,4],\"y\":[3,5,1,7],\"mode\":\"lines\",\"fill\":\"tozeroy\",\"line\":{\"width\":0.0},\"marker\":{}}];\n",
       "            var layout = {};\n",
       "            var config = {};\n",
       "            Plotly.newPlot('58f3d35f-5496-46b2-9ce5-963e2a54fd04', data, layout, config);\r\n",
       "});\n",
       "            };\n",
       "            if ((typeof(requirejs) !==  typeof(Function)) || (typeof(requirejs.config) !== typeof(Function))) {\n",
       "                var script = document.createElement(\"script\");\n",
       "                script.setAttribute(\"src\", \"https://cdnjs.cloudflare.com/ajax/libs/require.js/2.3.6/require.min.js\");\n",
       "                script.onload = function(){\n",
       "                    renderPlotly_58f3d35f549646b29ce5963e2a54fd04();\n",
       "                };\n",
       "                document.getElementsByTagName(\"head\")[0].appendChild(script);\n",
       "            }\n",
       "            else {\n",
       "                renderPlotly_58f3d35f549646b29ce5963e2a54fd04();\n",
       "            }\r\n",
       "</script>\r\n"
      ]
     },
     "metadata": {},
     "output_type": "display_data"
    }
   ],
   "metadata": {
    "dotnet_interactive": {
     "language": "fsharp"
    }
   }
  },
  {
   "cell_type": "markdown",
   "source": [
    "## Interior Filling for Area Chart"
   ],
   "metadata": {}
  },
  {
   "cell_type": "code",
   "execution_count": null,
   "source": [
    "open Plotly.NET\r\n",
    "\r\n",
    "let x = [1; 2; 3; 4]\r\n",
    "let y0 = [3; 4; 8; 3]\r\n",
    "let y1 = [1; 6; 2; 6]\r\n",
    "\r\n",
    "let stackGroup = \"filling\"\r\n",
    "\r\n",
    "[\r\n",
    "    Chart.Scatter(x, y0, Plotly.NET.StyleParam.Mode.Lines)\r\n",
    "    Chart.Scatter(x, y1, Plotly.NET.StyleParam.Mode.Lines)\r\n",
    "]\r\n",
    "|> Chart.Combine\r\n",
    "\r\n"
   ],
   "outputs": [
    {
     "data": {
      "text/html": [
       "<div id=\"ef620f5d-bc4f-4ab9-b97a-c81ef320680f\" style=\"width: 600px; height: 600px;\"><!-- Plotly chart will be drawn inside this DIV --></div>\r\n",
       "<script type=\"text/javascript\">\r\n",
       "\n",
       "            var renderPlotly_ef620f5dbc4f4ab9b97ac81ef320680f = function() {\n",
       "            var fsharpPlotlyRequire = requirejs.config({context:'fsharp-plotly',paths:{plotly:'https://cdn.plot.ly/plotly-latest.min'}}) || require;\n",
       "            fsharpPlotlyRequire(['plotly'], function(Plotly) {\r\n",
       "\n",
       "            var data = [{\"type\":\"scatter\",\"x\":[1,2,3,4],\"y\":[3,4,8,3],\"mode\":\"lines\",\"line\":{},\"marker\":{}},{\"type\":\"scatter\",\"x\":[1,2,3,4],\"y\":[1,6,2,6],\"mode\":\"lines\",\"line\":{},\"marker\":{}}];\n",
       "            var layout = {};\n",
       "            var config = {};\n",
       "            Plotly.newPlot('ef620f5d-bc4f-4ab9-b97a-c81ef320680f', data, layout, config);\r\n",
       "});\n",
       "            };\n",
       "            if ((typeof(requirejs) !==  typeof(Function)) || (typeof(requirejs.config) !== typeof(Function))) {\n",
       "                var script = document.createElement(\"script\");\n",
       "                script.setAttribute(\"src\", \"https://cdnjs.cloudflare.com/ajax/libs/require.js/2.3.6/require.min.js\");\n",
       "                script.onload = function(){\n",
       "                    renderPlotly_ef620f5dbc4f4ab9b97ac81ef320680f();\n",
       "                };\n",
       "                document.getElementsByTagName(\"head\")[0].appendChild(script);\n",
       "            }\n",
       "            else {\n",
       "                renderPlotly_ef620f5dbc4f4ab9b97ac81ef320680f();\n",
       "            }\r\n",
       "</script>\r\n"
      ]
     },
     "metadata": {},
     "output_type": "display_data"
    }
   ],
   "metadata": {
    "dotnet_interactive": {
     "language": "fsharp"
    }
   }
  },
  {
   "cell_type": "markdown",
   "source": [
    "## Stacked Area Chart"
   ],
   "metadata": {}
  },
  {
   "cell_type": "code",
   "execution_count": null,
   "source": [
    "open Plotly.NET\r\n",
    "\r\n",
    "let x = [\"Winter\"; \"Spring\"; \"Summer\"; \"Fall\"]\r\n",
    "let y0 = [40; 60; 40; 10]\r\n",
    "let y1 = [20; 10; 10; 60]\r\n",
    "let y2 = [40; 30; 50; 30]\r\n",
    "\r\n",
    "[\r\n",
    "    Chart.StackedArea(x, y0, Color=\"#B4A3F4\") \r\n",
    "    Chart.StackedArea(x, y1, Color=\"#AAE9E8\")\r\n",
    "    Chart.StackedArea(x, y2, Color=\"#CEF2E5\")\r\n",
    "] \r\n",
    "|> Chart.Combine\r\n",
    "|> Chart.withLineStyle(Width=0.0)"
   ],
   "outputs": [
    {
     "data": {
      "text/html": [
       "<div id=\"88b67ca4-fe4d-4468-8838-cba4bac0b83a\" style=\"width: 600px; height: 600px;\"><!-- Plotly chart will be drawn inside this DIV --></div>\r\n",
       "<script type=\"text/javascript\">\r\n",
       "\n",
       "            var renderPlotly_88b67ca4fe4d44688838cba4bac0b83a = function() {\n",
       "            var fsharpPlotlyRequire = requirejs.config({context:'fsharp-plotly',paths:{plotly:'https://cdn.plot.ly/plotly-latest.min'}}) || require;\n",
       "            fsharpPlotlyRequire(['plotly'], function(Plotly) {\r\n",
       "\n",
       "            var data = [{\"type\":\"scatter\",\"x\":[\"Winter\",\"Spring\",\"Summer\",\"Fall\"],\"y\":[40,60,40,10],\"mode\":\"lines\",\"line\":{\"width\":0.0},\"marker\":{\"color\":\"#B4A3F4\"},\"stackgroup\":\"static\"},{\"type\":\"scatter\",\"x\":[\"Winter\",\"Spring\",\"Summer\",\"Fall\"],\"y\":[20,10,10,60],\"mode\":\"lines\",\"line\":{\"width\":0.0},\"marker\":{\"color\":\"#AAE9E8\"},\"stackgroup\":\"static\"},{\"type\":\"scatter\",\"x\":[\"Winter\",\"Spring\",\"Summer\",\"Fall\"],\"y\":[40,30,50,30],\"mode\":\"lines\",\"line\":{\"width\":0.0},\"marker\":{\"color\":\"#CEF2E5\"},\"stackgroup\":\"static\"}];\n",
       "            var layout = {};\n",
       "            var config = {};\n",
       "            Plotly.newPlot('88b67ca4-fe4d-4468-8838-cba4bac0b83a', data, layout, config);\r\n",
       "});\n",
       "            };\n",
       "            if ((typeof(requirejs) !==  typeof(Function)) || (typeof(requirejs.config) !== typeof(Function))) {\n",
       "                var script = document.createElement(\"script\");\n",
       "                script.setAttribute(\"src\", \"https://cdnjs.cloudflare.com/ajax/libs/require.js/2.3.6/require.min.js\");\n",
       "                script.onload = function(){\n",
       "                    renderPlotly_88b67ca4fe4d44688838cba4bac0b83a();\n",
       "                };\n",
       "                document.getElementsByTagName(\"head\")[0].appendChild(script);\n",
       "            }\n",
       "            else {\n",
       "                renderPlotly_88b67ca4fe4d44688838cba4bac0b83a();\n",
       "            }\r\n",
       "</script>\r\n"
      ]
     },
     "metadata": {},
     "output_type": "display_data"
    }
   ],
   "metadata": {
    "dotnet_interactive": {
     "language": "fsharp"
    }
   }
  },
  {
   "cell_type": "markdown",
   "source": [
    "## Stacked Area Chart with Normalized Values"
   ],
   "metadata": {}
  },
  {
   "cell_type": "code",
   "execution_count": null,
   "source": [
    "open Plotly.NET\r\n",
    "\r\n",
    "let x = [\"Winter\"; \"Spring\"; \"Summer\"; \"Fall\"]\r\n",
    "let y0 = [40; 20; 30; 40]\r\n",
    "let y1 = [50; 70; 40; 60]\r\n",
    "let y2 = [70; 80; 60; 70]\r\n",
    "let y3 = [100; 100; 100; 100]\r\n",
    "\r\n",
    "let xAxis = Axis.LinearAxis.init(AxisType = StyleParam.AxisType.Category)\r\n",
    "\r\n",
    "let yAxis = Axis.LinearAxis.init(AxisType = StyleParam.AxisType.Linear,\r\n",
    "                                 Range = StyleParam.Range.MinMax(1.0, 100.0),\r\n",
    "                                 Ticksuffix = \"%\")\r\n",
    "\r\n",
    "[\r\n",
    "    Chart.Scatter(x, \r\n",
    "                  y0, \r\n",
    "                  StyleParam.Mode.Lines,\r\n",
    "                  StackGroup = stackGroup,\r\n",
    "                  GroupNorm = StyleParam.GroupNorm.Percent,\r\n",
    "                  Color=\"#B4A3F4\")\r\n",
    "    Chart.Scatter(x, \r\n",
    "                  y1, \r\n",
    "                  StyleParam.Mode.Lines,\r\n",
    "                  StackGroup = stackGroup,\r\n",
    "                  Color=\"#B2C9F2\")\r\n",
    "    Chart.Scatter(x, \r\n",
    "                  y2, \r\n",
    "                  StyleParam.Mode.Lines,\r\n",
    "                  StackGroup = stackGroup,\r\n",
    "                  Color=\"#AAE9E8\")\r\n",
    "    Chart.Scatter(x, \r\n",
    "                  y3, \r\n",
    "                  StyleParam.Mode.Lines,\r\n",
    "                  StackGroup = stackGroup,\r\n",
    "                  Color=\"#CEF2E5\")\r\n",
    "] \r\n",
    "|> Chart.Combine\r\n",
    "|> Chart.withLineStyle(Width=0.0)\r\n",
    "|> Chart.withX_Axis xAxis\r\n",
    "|> Chart.withY_Axis yAxis"
   ],
   "outputs": [
    {
     "data": {
      "text/html": [
       "<div id=\"0202c6ac-19fd-4c40-a0fe-cb0a2285404a\" style=\"width: 600px; height: 600px;\"><!-- Plotly chart will be drawn inside this DIV --></div>\r\n",
       "<script type=\"text/javascript\">\r\n",
       "\n",
       "            var renderPlotly_0202c6ac19fd4c40a0fecb0a2285404a = function() {\n",
       "            var fsharpPlotlyRequire = requirejs.config({context:'fsharp-plotly',paths:{plotly:'https://cdn.plot.ly/plotly-latest.min'}}) || require;\n",
       "            fsharpPlotlyRequire(['plotly'], function(Plotly) {\r\n",
       "\n",
       "            var data = [{\"type\":\"scatter\",\"x\":[\"Winter\",\"Spring\",\"Summer\",\"Fall\"],\"y\":[40,20,30,40],\"mode\":\"lines\",\"stackgroup\":\"filling\",\"groupnorm\":\"percent\",\"line\":{\"width\":0.0},\"marker\":{\"color\":\"#B4A3F4\"}},{\"type\":\"scatter\",\"x\":[\"Winter\",\"Spring\",\"Summer\",\"Fall\"],\"y\":[50,70,40,60],\"mode\":\"lines\",\"stackgroup\":\"filling\",\"line\":{\"width\":0.0},\"marker\":{\"color\":\"#B2C9F2\"}},{\"type\":\"scatter\",\"x\":[\"Winter\",\"Spring\",\"Summer\",\"Fall\"],\"y\":[70,80,60,70],\"mode\":\"lines\",\"stackgroup\":\"filling\",\"line\":{\"width\":0.0},\"marker\":{\"color\":\"#AAE9E8\"}},{\"type\":\"scatter\",\"x\":[\"Winter\",\"Spring\",\"Summer\",\"Fall\"],\"y\":[100,100,100,100],\"mode\":\"lines\",\"stackgroup\":\"filling\",\"line\":{\"width\":0.0},\"marker\":{\"color\":\"#CEF2E5\"}}];\n",
       "            var layout = {\"xaxis\":{\"type\":\"category\"},\"yaxis\":{\"type\":\"linear\",\"range\":[1.0,100.0],\"ticksuffix\":\"%\"}};\n",
       "            var config = {};\n",
       "            Plotly.newPlot('0202c6ac-19fd-4c40-a0fe-cb0a2285404a', data, layout, config);\r\n",
       "});\n",
       "            };\n",
       "            if ((typeof(requirejs) !==  typeof(Function)) || (typeof(requirejs.config) !== typeof(Function))) {\n",
       "                var script = document.createElement(\"script\");\n",
       "                script.setAttribute(\"src\", \"https://cdnjs.cloudflare.com/ajax/libs/require.js/2.3.6/require.min.js\");\n",
       "                script.onload = function(){\n",
       "                    renderPlotly_0202c6ac19fd4c40a0fecb0a2285404a();\n",
       "                };\n",
       "                document.getElementsByTagName(\"head\")[0].appendChild(script);\n",
       "            }\n",
       "            else {\n",
       "                renderPlotly_0202c6ac19fd4c40a0fecb0a2285404a();\n",
       "            }\r\n",
       "</script>\r\n"
      ]
     },
     "metadata": {},
     "output_type": "display_data"
    }
   ],
   "metadata": {
    "dotnet_interactive": {
     "language": "fsharp"
    }
   }
  },
  {
   "cell_type": "markdown",
   "source": [
    "## Select Hover Points"
   ],
   "metadata": {}
  },
  {
   "cell_type": "code",
   "execution_count": null,
   "source": [
    "let x0 = [0.0; 0.5; 1.0; 1.5; 2.0]\r\n",
    "let y = [0.0; 1.0; 2.0; 1.0; 0.0]\r\n",
    "let x1 = [3.0; 3.5; 4.0; 4.5; 5.0]\r\n",
    "\r\n",
    "let xAxis = Axis.LinearAxis.init(AxisType = StyleParam.AxisType.Linear,\r\n",
    "                                 Range = StyleParam.Range.MinMax(0.0, 5.2))\r\n",
    "\r\n",
    "let yAxis = Axis.LinearAxis.init(AxisType = StyleParam.AxisType.Linear,\r\n",
    "                                 Range = StyleParam.Range.MinMax(0.0, 3.0))\r\n",
    "\r\n",
    "[\r\n",
    "    Chart.Area(x0, \r\n",
    "               y, \r\n",
    "               Color=\"#9400D3\")\r\n",
    "    Chart.Area(x1, \r\n",
    "               y, \r\n",
    "               Color=\"#EE82EE\")\r\n",
    "] \r\n",
    "|> Chart.Combine\r\n",
    "|> Chart.withX_Axis xAxis\r\n",
    "|> Chart.withY_Axis yAxis"
   ],
   "outputs": [
    {
     "data": {
      "text/html": [
       "<div id=\"a568e211-85a8-4958-9876-85899bbb3f99\" style=\"width: 600px; height: 600px;\"><!-- Plotly chart will be drawn inside this DIV --></div>\r\n",
       "<script type=\"text/javascript\">\r\n",
       "\n",
       "            var renderPlotly_a568e21185a84958987685899bbb3f99 = function() {\n",
       "            var fsharpPlotlyRequire = requirejs.config({context:'fsharp-plotly',paths:{plotly:'https://cdn.plot.ly/plotly-latest.min'}}) || require;\n",
       "            fsharpPlotlyRequire(['plotly'], function(Plotly) {\r\n",
       "\n",
       "            var data = [{\"type\":\"scatter\",\"x\":[0.0,0.5,1.0,1.5,2.0],\"y\":[0.0,1.0,2.0,1.0,0.0],\"mode\":\"lines\",\"fill\":\"tozeroy\",\"opacity\":1.0,\"line\":{\"color\":\"#9400D3\"},\"marker\":{\"color\":\"#9400D3\"}},{\"type\":\"scatter\",\"x\":[3.0,3.5,4.0,4.5,5.0],\"y\":[0.0,1.0,2.0,1.0,0.0],\"mode\":\"lines\",\"fill\":\"tozeroy\",\"opacity\":1.0,\"line\":{\"color\":\"#EE82EE\"},\"marker\":{\"color\":\"#EE82EE\"}}];\n",
       "            var layout = {\"xaxis\":{\"type\":\"linear\",\"range\":[0.0,5.2]},\"yaxis\":{\"type\":\"linear\",\"range\":[0.0,3.0]}};\n",
       "            var config = {};\n",
       "            Plotly.newPlot('a568e211-85a8-4958-9876-85899bbb3f99', data, layout, config);\r\n",
       "});\n",
       "            };\n",
       "            if ((typeof(requirejs) !==  typeof(Function)) || (typeof(requirejs.config) !== typeof(Function))) {\n",
       "                var script = document.createElement(\"script\");\n",
       "                script.setAttribute(\"src\", \"https://cdnjs.cloudflare.com/ajax/libs/require.js/2.3.6/require.min.js\");\n",
       "                script.onload = function(){\n",
       "                    renderPlotly_a568e21185a84958987685899bbb3f99();\n",
       "                };\n",
       "                document.getElementsByTagName(\"head\")[0].appendChild(script);\n",
       "            }\n",
       "            else {\n",
       "                renderPlotly_a568e21185a84958987685899bbb3f99();\n",
       "            }\r\n",
       "</script>\r\n"
      ]
     },
     "metadata": {},
     "output_type": "display_data"
    }
   ],
   "metadata": {
    "dotnet_interactive": {
     "language": "fsharp"
    }
   }
  }
 ],
 "nbformat": 4,
 "nbformat_minor": 2
}