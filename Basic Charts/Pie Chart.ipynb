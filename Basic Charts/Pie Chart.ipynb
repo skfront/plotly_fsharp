{
 "cells": [
  {
   "cell_type": "markdown",
   "source": [
    "## Basic Pie Chart with go.Pie"
   ],
   "metadata": {}
  },
  {
   "cell_type": "code",
   "execution_count": null,
   "source": [
    "#r \"nuget: Plotly.NET, 2.0.0-preview.6\"\n",
    "#r \"nuget: Plotly.NET.Interactive, 2.0.0-preview.6\"\n",
    "open Plotly.NET\n",
    "\n",
    "let labels = [\"Oxygen\"; \"Hydrogen\"; \"Carbon_Dioxide\"; \"Nitrogen\"]\n",
    "let values = [4500; 2500; 1053; 500]\n",
    "\n",
    "Chart.Pie(Labels=labels, values=values)"
   ],
   "outputs": [],
   "metadata": {
    "dotnet_interactive": {
     "language": "fsharp"
    }
   }
  },
  {
   "cell_type": "markdown",
   "source": [
    "## Styled Pie Chart"
   ],
   "metadata": {}
  },
  {
   "cell_type": "code",
   "execution_count": null,
   "source": [
    "#r \"nuget: Plotly.NET, 2.0.0-preview.6\"\n",
    "#r \"nuget: Plotly.NET.Interactive, 2.0.0-preview.6\"\n",
    "open Plotly.NET\n",
    "\n",
    "let colors = [\"gold\"; \"mediumturquoise\"; \"darkorange\"; \"lightgreen\"]\n",
    "let labels = [\"Oxygen\"; \"Hydrogen\"; \"Carbon_Dioxide\"; \"Nitrogen\"]\n",
    "let values = [4500; 2500; 1053; 500]\n",
    "\n",
    "let layout = \n",
    "    let obj = Layout()\n",
    "    obj?hoverinfo <- \"label+percent\"\n",
    "    obj?textinfo <- \"value\"\n",
    "    obj?textfont_size <- 20\n",
    "    obj\n",
    "\n",
    "Chart.Pie(Labels=labels, values=values, Colors = colors)\n",
    "|> Chart.withLayout(layout)"
   ],
   "outputs": [],
   "metadata": {
    "dotnet_interactive": {
     "language": "fsharp"
    }
   }
  },
  {
   "cell_type": "markdown",
   "source": [
    "## Controlling text orientation inside pie sectors"
   ],
   "metadata": {}
  },
  {
   "cell_type": "code",
   "execution_count": null,
   "source": [
    "#r \"nuget: Plotly.NET, 2.0.0-preview.6\"\n",
    "#r \"nuget: Plotly.NET.Interactive, 2.0.0-preview.6\"\n",
    "open Plotly.NET\n",
    "\n",
    "let colors = [\"gold\"; \"mediumturquoise\"; \"darkorange\"; \"lightgreen\"]\n",
    "let labels = [\"Oxygen\"; \"Hydrogen\"; \"Carbon_Dioxide\"; \"Nitrogen\"]\n",
    "let values = [4500; 2500; 1053; 500]\n",
    "\n",
    "let layout = \n",
    "    let obj = Layout()\n",
    "    obj?insidetextorientation <- \"radial\"\n",
    "    obj\n",
    "\n",
    "Chart.Pie(Labels=labels, values=values, Textinfo=\"label+percent\")\n",
    "|> Chart.withLayout(layout)"
   ],
   "outputs": [],
   "metadata": {
    "dotnet_interactive": {
     "language": "fsharp"
    }
   }
  },
  {
   "cell_type": "markdown",
   "source": [
    "## Donut Chart"
   ],
   "metadata": {}
  },
  {
   "cell_type": "code",
   "execution_count": null,
   "source": [
    "#r \"nuget: Plotly.NET, 2.0.0-preview.6\"\n",
    "#r \"nuget: Plotly.NET.Interactive, 2.0.0-preview.6\"\n",
    "open Plotly.NET\n",
    "\n",
    "let labels = [\"Oxygen\"; \"Hydrogen\"; \"Carbon_Dioxide\"; \"Nitrogen\"]\n",
    "let values = [4500; 2500; 1053; 500]\n",
    "\n",
    "\n",
    "Chart.Doughnut(Labels=labels, values=values, Hole=0.3)"
   ],
   "outputs": [],
   "metadata": {
    "dotnet_interactive": {
     "language": "fsharp"
    }
   }
  },
  {
   "cell_type": "markdown",
   "source": [
    "## Pulling sectors out from the center"
   ],
   "metadata": {}
  },
  {
   "cell_type": "code",
   "execution_count": null,
   "source": [
    "\n",
    "#r \"nuget: Plotly.NET, 2.0.0-preview.6\"\n",
    "#r \"nuget: Plotly.NET.Interactive, 2.0.0-preview.6\"\n",
    "open Plotly.NET\n",
    "\n",
    "let labels = [\"Oxygen\"; \"Hydrogen\"; \"Carbon_Dioxide\"; \"Nitrogen\"]\n",
    "let values = [4500.; 2500.; 1053.; 500.]\n",
    "\n",
    "\n",
    "let trace = \n",
    "    let tmp = Trace(\"pie\")\n",
    "    tmp?labels <- labels\n",
    "    tmp?values <- values\n",
    "    tmp?pull <- [0.;0.;0.2;0.]\n",
    "    tmp\n",
    "\n",
    "GenericChart.ofTraceObject(trace)"
   ],
   "outputs": [],
   "metadata": {
    "dotnet_interactive": {
     "language": "fsharp"
    }
   }
  },
  {
   "cell_type": "markdown",
   "source": [
    "## Pie Charts in subplots"
   ],
   "metadata": {}
  },
  {
   "cell_type": "code",
   "execution_count": null,
   "source": [
    "#r \"nuget: Plotly.NET, 2.0.0-preview.6\"\n",
    "#r \"nuget: Plotly.NET.Interactive, 2.0.0-preview.6\"\n",
    "open Plotly.NET\n",
    "\n",
    "let labels = [\"US\"; \"China\"; \"European Union\"; \"Russian Federation\"; \"Brazil\"; \"India\"; \"Rest of the World\"]\n",
    "let values = [4500.; 2500.; 1053.; 500.]\n",
    "\n",
    "let layout =\n",
    "    let tmp = Layout()\n",
    "    tmp?title_text <- \"Global Emissions 1990-2011\"\n",
    "    tmp?annotations <- [{|text = \"CHG\"; x = 0.18; y = 0.5; font_size = 20; showarrow = false|};{|text = \"CO2\"; x = 0.82; y = 0.5; font_size = 20; showarrow = false|}]\n",
    "    tmp\n",
    "    \n",
    "let chg = \n",
    "    let tmp = Trace(\"pie\")\n",
    "    tmp?labels <- labels\n",
    "    tmp?domain <- {|x = [0.; 0.5]|}\n",
    "    tmp?hole <- 0.4\n",
    "    tmp?hoverinfo <- \"label+percent+name\"\n",
    "    tmp?name <- \"CHG Emissions\"\n",
    "    tmp?values <- [16; 15; 12; 6; 5; 4; 42]\n",
    "    tmp\n",
    "\n",
    "let co2 = \n",
    "    let tmp = Trace(\"pie\")\n",
    "    tmp?labels <- labels\n",
    "    tmp?domain <- {|x = [0.5; 1.0]|}\n",
    "    tmp?hole <- 0.4\n",
    "    tmp?hoverinfo <- \"label+percent+name\"\n",
    "    tmp?name <- \"CO2 Emissions\"\n",
    "    tmp?values <- [27; 11; 25; 8; 1; 3; 25]\n",
    "    tmp\n",
    "\n",
    "Chart.Grid(\n",
    "    [\n",
    "        [GenericChart.ofTraceObject(chg); GenericChart.ofTraceObject(co2)]\n",
    "    ]\n",
    ") |> Chart.withLayout(layout)"
   ],
   "outputs": [],
   "metadata": {
    "dotnet_interactive": {
     "language": "fsharp"
    }
   }
  },
  {
   "cell_type": "code",
   "execution_count": null,
   "source": [
    "#r \"nuget: Plotly.NET, 2.0.0-preview.6\"\n",
    "#r \"nuget: Plotly.NET.Interactive, 2.0.0-preview.6\"\n",
    "open Plotly.NET\n",
    "\n",
    "let labels = [\"1st\"; \"2nd\"; \"3rd\"; \"4th\"; \"5th\"]\n",
    "let nightColors = [\"rgb(56, 75, 126)\"; \"rgb(18, 36, 37)\"; \"rgb(34, 53, 101)\"; \"rgb(36, 55, 57)\"; \"rgb(6, 4, 4)\"]\n",
    "let sunflowersColors = [\"rgb(177; 127; 38)\"; \"rgb(205; 152; 36)\"; \"rgb(99; 79; 37)\"; \"rgb(129; 180; 179)\"; \"rgb(124; 103; 37)\"]\n",
    "let irisesColors = [\"rgb(33; 75; 99)\"; \"rgb(79; 129; 102)\"; \"rgb(151; 179; 100)\";\"rgb(175; 49; 35)\"; \"rgb(36; 73; 147)\"]\n",
    "let cafeColors =  [\"rgb(146; 123; 21)\"; \"rgb(177; 180; 34)\"; \"rgb(206; 206; 40)\"; \"rgb(175; 51; 21)\"; \"rgb(35; 36; 21)\"]\n",
    "\n",
    "let layout =\n",
    "    let tmp = Layout()\n",
    "    tmp?title_text <- \"Van Gogh: 5 Most Prominent Colors Shown Proportionally\"\n",
    "    tmp?showlegend <- false\n",
    "    tmp?width <- 1000.\n",
    "    tmp?height <- 500.\n",
    "    tmp\n",
    "    \n",
    "let starryNight = \n",
    "    let tmp = Trace(\"pie\")\n",
    "    tmp?labels <- labels\n",
    "    tmp?domain <- {|x = [0.; 0.5]; y = [0.5; 1.0]|}\n",
    "    tmp?name <- \"Starry Night\"\n",
    "    tmp?marker_colors <- nightColors\n",
    "    tmp?values <- [38; 27; 18; 10; 7]\n",
    "    tmp\n",
    "\n",
    "let sunflowers = \n",
    "    let tmp = Trace(\"pie\")\n",
    "    tmp?labels <- labels\n",
    "    tmp?domain <- {|x = [0.5; 1.0]; y = [0.5; 1.0]|}\n",
    "    tmp?marker_colors <- sunflowersColors\n",
    "    tmp?name <- \"Sunflowers\"\n",
    "    tmp?values <- [28; 26; 21; 15; 10]\n",
    "    tmp\n",
    "\n",
    "let irises = \n",
    "    let tmp = Trace(\"pie\")\n",
    "    tmp?labels <- labels\n",
    "    tmp?domain <- {|x = [0.0; 0.5]; y = [0.0; 0.5]|}\n",
    "    tmp?marker_colors <- irisesColors\n",
    "    tmp?name <- \"Irises\"\n",
    "    tmp?values <- [38; 19; 16; 14; 13]\n",
    "    tmp\n",
    "\n",
    "let nightCafe = \n",
    "    let tmp = Trace(\"pie\")\n",
    "    tmp?labels <- labels\n",
    "    tmp?domain <- {|x = [0.5; 1.0]; y = [0.0; 0.5]|}\n",
    "    tmp?marker_colors <- cafeColors\n",
    "    tmp?name <- \"The Night Café\"\n",
    "    tmp?values <- [31; 24; 19; 18; 8]\n",
    "    tmp\n",
    "\n",
    "Chart.Grid(\n",
    "    [\n",
    "        [GenericChart.ofTraceObject(starryNight); GenericChart.ofTraceObject(sunflowers)]\n",
    "        [GenericChart.ofTraceObject(irises); GenericChart.ofTraceObject(nightCafe)]\n",
    "    ]\n",
    ")\n",
    "|> Chart.withLayout(layout)\n",
    "|> Chart.withLayoutGrid(LayoutGrid.init(Rows=2, Columns=2))"
   ],
   "outputs": [],
   "metadata": {
    "dotnet_interactive": {
     "language": "fsharp"
    }
   }
  },
  {
   "cell_type": "markdown",
   "source": [
    "## Plot chart with area proportional to total count"
   ],
   "metadata": {}
  },
  {
   "cell_type": "code",
   "execution_count": null,
   "source": [
    "#r \"nuget: Plotly.NET, 2.0.0-preview.6\"\n",
    "#r \"nuget: Plotly.NET.Interactive, 2.0.0-preview.6\"\n",
    "open Plotly.NET\n",
    "\n",
    "let labels = [\"Asia\"; \"Europe\"; \"Africa\"; \"Americas\"; \"Oceania\"]\n",
    "\n",
    "let layout =\n",
    "    let tmp = Layout()\n",
    "    tmp?title <- \"World GDP\"\n",
    "    tmp?width <- 1700.\n",
    "    tmp\n",
    "    \n",
    "let gdp1980 = \n",
    "    let tmp = Trace(\"pie\")\n",
    "    tmp?labels <- labels\n",
    "    tmp?domain <- Domain.init(Row = 1, Column = 2)\n",
    "    tmp?title <- \"World GDP 1980\"\n",
    "    tmp?scalegroup <- \"one\"\n",
    "    tmp?values <- [4.;7.;1.;7.;0.5]\n",
    "    tmp\n",
    "\n",
    "let gdp2007 = \n",
    "    let tmp = Trace(\"pie\")\n",
    "    tmp?labels <- labels\n",
    "    tmp?domain <- Domain.init(Row = 1, Column = 1)\n",
    "    tmp?title <- \"World GDP 2007\"\n",
    "    tmp?scalegroup <- \"one\"\n",
    "    tmp?values <- [21.;15.;3.;19.;1.]\n",
    "    tmp\n",
    "\n",
    "[\n",
    "    GenericChart.ofTraceObject(gdp1980)\n",
    "    GenericChart.ofTraceObject(gdp2007)\n",
    "]\n",
    "|> Chart.Combine\n",
    "|> Chart.withLayout(layout)\n",
    "|> Chart.withLayoutGrid(LayoutGrid.init(Rows = 1, Columns = 2))"
   ],
   "outputs": [],
   "metadata": {
    "dotnet_interactive": {
     "language": "fsharp"
    }
   }
  },
  {
   "cell_type": "markdown",
   "source": [
    "## Sunburst charts"
   ],
   "metadata": {}
  },
  {
   "cell_type": "code",
   "execution_count": null,
   "source": [
    "#r \"nuget: Plotly.NET, 2.0.0-preview.6\"\n",
    "#r \"nuget: Plotly.NET.Interactive, 2.0.0-preview.6\"\n",
    "open Plotly.NET\n",
    "\n",
    "let labels = [\"Eve\"; \"Cain\"; \"Seth\"; \"Enos\"; \"Noam\"; \"Abel\"; \"Awan\"; \"Enoch\"; \"Azura\"]\n",
    "let parents = [\"\"; \"Eve\"; \"Eve\"; \"Seth\"; \"Seth\"; \"Eve\"; \"Eve\"; \"Awan\"; \"Eve\"]\n",
    "let values = [10.;14.;12.;10.;2.;6.;6.;4.;4.]\n",
    "\n",
    "let layout =\n",
    "    let tmp = Layout()\n",
    "    tmp?margin <- {|t = 0.; l = 0.;  r = 0.; b = 0.|}\n",
    "    tmp\n",
    "\n",
    "Chart.Sunburst(labels = labels, parents = parents, Values = values)\n",
    "|> Chart.withLayout(layout)"
   ],
   "outputs": [],
   "metadata": {
    "dotnet_interactive": {
     "language": "fsharp"
    }
   }
  }
 ],
 "metadata": {
  "orig_nbformat": 4,
  "language_info": {
   "file_extension": ".cs",
   "mimetype": "text/x-csharp",
   "name": "C#",
   "pygments_lexer": "csharp",
   "version": "9.0"
  },
  "kernelspec": {
   "display_name": ".NET (C#)",
   "language": "C#",
   "name": ".net-csharp"
  }
 },
 "nbformat": 4,
 "nbformat_minor": 2
}