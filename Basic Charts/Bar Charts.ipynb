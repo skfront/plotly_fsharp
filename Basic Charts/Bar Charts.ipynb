{
 "cells": [
  {
   "cell_type": "markdown",
   "source": [
    "# Bar Charts\n",
    "\n",
    "## Imports"
   ],
   "metadata": {
    "dotnet_interactive": {
     "language": "fsharp"
    }
   }
  },
  {
   "cell_type": "code",
   "execution_count": null,
   "source": [
    "#r \"nuget: Plotly.NET, 2.0.0-preview.6\"\r\n",
    "#r \"nuget: newtonsoft.json\"\r\n",
    "#r \"nuget: Plotly.NET.Interactive, 2.0.0-preview.6\"\r\n",
    "open Plotly.NET\r\n"
   ],
   "outputs": [
    {
     "data": {
      "text/html": [
       "<div><div></div><div></div><div><strong>Installed Packages</strong><ul><li><span>newtonsoft.json, 13.0.1</span></li><li><span>Plotly.NET, 2.0.0-preview.6</span></li><li><span>Plotly.NET.Interactive, 2.0.0-preview.6</span></li></ul></div></div>"
      ]
     },
     "metadata": {},
     "output_type": "display_data"
    },
    {
     "data": {
      "text/markdown": [
       "Loading extensions from `Plotly.NET.Interactive.dll`"
      ]
     },
     "metadata": {},
     "output_type": "display_data"
    },
    {
     "data": {
      "text/markdown": [
       "Added Kernel Extension including formatters for Plotly.NET charts."
      ]
     },
     "metadata": {},
     "output_type": "display_data"
    }
   ],
   "metadata": {
    "dotnet_interactive": {
     "language": "fsharp"
    }
   }
  },
  {
   "cell_type": "markdown",
   "source": [
    "## Basic Bar Chart with plotly.graph_objects"
   ],
   "metadata": {
    "dotnet_interactive": {
     "language": "fsharp"
    }
   }
  },
  {
   "cell_type": "code",
   "execution_count": null,
   "source": [
    "let animals = [\"giraffes\"; \"orangutans\"; \"monkeys\"];\r\n",
    "let sfValues = [20; 14; 23]\r\n",
    "Chart.Column (animals, sfValues);\r\n"
   ],
   "outputs": [
    {
     "data": {
      "text/html": [
       "<div id=\"33e74264-595c-452c-b31d-6ef5001c6feb\" style=\"width: 600px; height: 600px;\"><!-- Plotly chart will be drawn inside this DIV --></div>\r\n",
       "<script type=\"text/javascript\">\r\n",
       "\n",
       "            var renderPlotly_33e74264595c452cb31d6ef5001c6feb = function() {\n",
       "            var fsharpPlotlyRequire = requirejs.config({context:'fsharp-plotly',paths:{plotly:'https://cdn.plot.ly/plotly-latest.min'}}) || require;\n",
       "            fsharpPlotlyRequire(['plotly'], function(Plotly) {\r\n",
       "\n",
       "            var data = [{\"type\":\"bar\",\"x\":[\"giraffes\",\"orangutans\",\"monkeys\"],\"y\":[20,14,23],\"marker\":{}}];\n",
       "            var layout = {};\n",
       "            var config = {};\n",
       "            Plotly.newPlot('33e74264-595c-452c-b31d-6ef5001c6feb', data, layout, config);\r\n",
       "});\n",
       "            };\n",
       "            if ((typeof(requirejs) !==  typeof(Function)) || (typeof(requirejs.config) !== typeof(Function))) {\n",
       "                var script = document.createElement(\"script\");\n",
       "                script.setAttribute(\"src\", \"https://cdnjs.cloudflare.com/ajax/libs/require.js/2.3.6/require.min.js\");\n",
       "                script.onload = function(){\n",
       "                    renderPlotly_33e74264595c452cb31d6ef5001c6feb();\n",
       "                };\n",
       "                document.getElementsByTagName(\"head\")[0].appendChild(script);\n",
       "            }\n",
       "            else {\n",
       "                renderPlotly_33e74264595c452cb31d6ef5001c6feb();\n",
       "            }\r\n",
       "</script>\r\n"
      ]
     },
     "metadata": {},
     "output_type": "display_data"
    }
   ],
   "metadata": {
    "dotnet_interactive": {
     "language": "fsharp"
    }
   }
  },
  {
   "cell_type": "markdown",
   "source": [
    "## Grouped Bar Chart"
   ],
   "metadata": {
    "dotnet_interactive": {
     "language": "fsharp"
    }
   }
  },
  {
   "cell_type": "code",
   "execution_count": null,
   "source": [
    "let animals = [\"giraffes\"; \"orangutans\"; \"monkeys\"];\r\n",
    "let sfValues = [20; 14; 23]\r\n",
    "let laValues = [12; 18; 29]\r\n",
    "\r\n",
    "[\r\n",
    "    Chart.Column (animals, sfValues, Name=\"SF Zoo\");\r\n",
    "    Chart.Column (animals, laValues, Name=\"LA Zoo\")\r\n",
    "]\r\n",
    "|> Chart.Combine\r\n"
   ],
   "outputs": [
    {
     "data": {
      "text/html": [
       "<div id=\"cc0761a6-6ae6-4e88-b2a7-b3cacbe00d0e\" style=\"width: 600px; height: 600px;\"><!-- Plotly chart will be drawn inside this DIV --></div>\r\n",
       "<script type=\"text/javascript\">\r\n",
       "\n",
       "            var renderPlotly_cc0761a66ae64e88b2a7b3cacbe00d0e = function() {\n",
       "            var fsharpPlotlyRequire = requirejs.config({context:'fsharp-plotly',paths:{plotly:'https://cdn.plot.ly/plotly-latest.min'}}) || require;\n",
       "            fsharpPlotlyRequire(['plotly'], function(Plotly) {\r\n",
       "\n",
       "            var data = [{\"type\":\"bar\",\"x\":[\"giraffes\",\"orangutans\",\"monkeys\"],\"y\":[20,14,23],\"marker\":{},\"name\":\"SF Zoo\"},{\"type\":\"bar\",\"x\":[\"giraffes\",\"orangutans\",\"monkeys\"],\"y\":[12,18,29],\"marker\":{},\"name\":\"LA Zoo\"}];\n",
       "            var layout = {};\n",
       "            var config = {};\n",
       "            Plotly.newPlot('cc0761a6-6ae6-4e88-b2a7-b3cacbe00d0e', data, layout, config);\r\n",
       "});\n",
       "            };\n",
       "            if ((typeof(requirejs) !==  typeof(Function)) || (typeof(requirejs.config) !== typeof(Function))) {\n",
       "                var script = document.createElement(\"script\");\n",
       "                script.setAttribute(\"src\", \"https://cdnjs.cloudflare.com/ajax/libs/require.js/2.3.6/require.min.js\");\n",
       "                script.onload = function(){\n",
       "                    renderPlotly_cc0761a66ae64e88b2a7b3cacbe00d0e();\n",
       "                };\n",
       "                document.getElementsByTagName(\"head\")[0].appendChild(script);\n",
       "            }\n",
       "            else {\n",
       "                renderPlotly_cc0761a66ae64e88b2a7b3cacbe00d0e();\n",
       "            }\r\n",
       "</script>\r\n"
      ]
     },
     "metadata": {},
     "output_type": "display_data"
    }
   ],
   "metadata": {
    "dotnet_interactive": {
     "language": "fsharp"
    }
   }
  },
  {
   "cell_type": "markdown",
   "source": [
    "## Stacked Bar Chart"
   ],
   "metadata": {}
  },
  {
   "cell_type": "code",
   "execution_count": null,
   "source": [
    "let animals = [\"giraffes\"; \"orangutans\"; \"monkeys\"];\r\n",
    "let sfValues = [20; 14; 23]\r\n",
    "let laValues = [12; 18; 29]\r\n",
    "\r\n",
    "[\r\n",
    "    Chart.StackedColumn (animals, sfValues, Name=\"SF Zoo\");\r\n",
    "    Chart.StackedColumn (animals, laValues, Name=\"LA Zoo\")\r\n",
    "]\r\n",
    "|> Chart.Combine\r\n"
   ],
   "outputs": [
    {
     "data": {
      "text/html": [
       "<div id=\"0b7baf7c-ddc0-4b57-b48d-258c75971317\" style=\"width: 600px; height: 600px;\"><!-- Plotly chart will be drawn inside this DIV --></div>\r\n",
       "<script type=\"text/javascript\">\r\n",
       "\n",
       "            var renderPlotly_0b7baf7cddc04b57b48d258c75971317 = function() {\n",
       "            var fsharpPlotlyRequire = requirejs.config({context:'fsharp-plotly',paths:{plotly:'https://cdn.plot.ly/plotly-latest.min'}}) || require;\n",
       "            fsharpPlotlyRequire(['plotly'], function(Plotly) {\r\n",
       "\n",
       "            var data = [{\"type\":\"bar\",\"x\":[\"giraffes\",\"orangutans\",\"monkeys\"],\"y\":[20,14,23],\"marker\":{},\"name\":\"SF Zoo\"},{\"type\":\"bar\",\"x\":[\"giraffes\",\"orangutans\",\"monkeys\"],\"y\":[12,18,29],\"marker\":{},\"name\":\"LA Zoo\"}];\n",
       "            var layout = {\"barmode\":\"stack\"};\n",
       "            var config = {};\n",
       "            Plotly.newPlot('0b7baf7c-ddc0-4b57-b48d-258c75971317', data, layout, config);\r\n",
       "});\n",
       "            };\n",
       "            if ((typeof(requirejs) !==  typeof(Function)) || (typeof(requirejs.config) !== typeof(Function))) {\n",
       "                var script = document.createElement(\"script\");\n",
       "                script.setAttribute(\"src\", \"https://cdnjs.cloudflare.com/ajax/libs/require.js/2.3.6/require.min.js\");\n",
       "                script.onload = function(){\n",
       "                    renderPlotly_0b7baf7cddc04b57b48d258c75971317();\n",
       "                };\n",
       "                document.getElementsByTagName(\"head\")[0].appendChild(script);\n",
       "            }\n",
       "            else {\n",
       "                renderPlotly_0b7baf7cddc04b57b48d258c75971317();\n",
       "            }\r\n",
       "</script>\r\n"
      ]
     },
     "metadata": {},
     "output_type": "display_data"
    }
   ],
   "metadata": {
    "dotnet_interactive": {
     "language": "fsharp"
    }
   }
  },
  {
   "cell_type": "markdown",
   "source": [
    "## Bar Chart with Hover Text"
   ],
   "metadata": {}
  },
  {
   "cell_type": "code",
   "execution_count": null,
   "source": [
    "let products = [\"Product A\"; \"Product B\"; \"Product C\"];\r\n",
    "let labels = [\"27% market share\"; \"24% market share\"; \"19% market share\"]\r\n",
    "let sfValues = [20; 14; 23]\r\n",
    "\r\n",
    "Chart.Column (\r\n",
    "    products,\r\n",
    "    sfValues,\r\n",
    "    Labels=labels,\r\n",
    "    Opacity=0.6\r\n",
    ")\r\n",
    "|> Chart.withMarker (\r\n",
    "    Marker.init (\r\n",
    "        Color=\"rgb(158,202,225)\", \r\n",
    "        Line=Line.init (Width=1.5, Color=\"rgb(8,48,107)\")\r\n",
    "    )\r\n",
    ")\r\n",
    "|> Chart.withTitle (\"January 2013 Sales Report\")\r\n"
   ],
   "outputs": [
    {
     "data": {
      "text/html": [
       "<div id=\"33bfd1d7-3cbb-4646-baea-5e9954623c80\" style=\"width: 600px; height: 600px;\"><!-- Plotly chart will be drawn inside this DIV --></div>\r\n",
       "<script type=\"text/javascript\">\r\n",
       "\n",
       "            var renderPlotly_33bfd1d73cbb4646baea5e9954623c80 = function() {\n",
       "            var fsharpPlotlyRequire = requirejs.config({context:'fsharp-plotly',paths:{plotly:'https://cdn.plot.ly/plotly-latest.min'}}) || require;\n",
       "            fsharpPlotlyRequire(['plotly'], function(Plotly) {\r\n",
       "\n",
       "            var data = [{\"type\":\"bar\",\"x\":[\"Product A\",\"Product B\",\"Product C\"],\"y\":[20,14,23],\"marker\":{\"color\":\"rgb(158,202,225)\",\"line\":{\"color\":\"rgb(8,48,107)\",\"width\":1.5}},\"opacity\":0.6,\"text\":[\"27% market share\",\"24% market share\",\"19% market share\"]}];\n",
       "            var layout = {\"title\":\"January 2013 Sales Report\"};\n",
       "            var config = {};\n",
       "            Plotly.newPlot('33bfd1d7-3cbb-4646-baea-5e9954623c80', data, layout, config);\r\n",
       "});\n",
       "            };\n",
       "            if ((typeof(requirejs) !==  typeof(Function)) || (typeof(requirejs.config) !== typeof(Function))) {\n",
       "                var script = document.createElement(\"script\");\n",
       "                script.setAttribute(\"src\", \"https://cdnjs.cloudflare.com/ajax/libs/require.js/2.3.6/require.min.js\");\n",
       "                script.onload = function(){\n",
       "                    renderPlotly_33bfd1d73cbb4646baea5e9954623c80();\n",
       "                };\n",
       "                document.getElementsByTagName(\"head\")[0].appendChild(script);\n",
       "            }\n",
       "            else {\n",
       "                renderPlotly_33bfd1d73cbb4646baea5e9954623c80();\n",
       "            }\r\n",
       "</script>\r\n"
      ]
     },
     "metadata": {},
     "output_type": "display_data"
    }
   ],
   "metadata": {
    "dotnet_interactive": {
     "language": "fsharp"
    }
   }
  },
  {
   "cell_type": "markdown",
   "source": [
    "## Bar Chart with Direct Labels"
   ],
   "metadata": {}
  },
  {
   "cell_type": "code",
   "execution_count": null,
   "source": [
    "let products = [\"Product A\"; \"Product B\"; \"Product C\"];\r\n",
    "let sfValues = [20; 14; 23]\r\n",
    "Chart.Column (\r\n",
    "    products,\r\n",
    "    sfValues,\r\n",
    "    Labels= sfValues\r\n",
    ") |> GenericChart.mapTrace(fun t-> \r\n",
    "                            t?textposition<- \"auto\" //workaround\r\n",
    "                            t)\r\n"
   ],
   "outputs": [
    {
     "data": {
      "text/html": [
       "<div id=\"42fa813e-8f3b-448a-959e-09def027c54e\" style=\"width: 600px; height: 600px;\"><!-- Plotly chart will be drawn inside this DIV --></div>\r\n",
       "<script type=\"text/javascript\">\r\n",
       "\n",
       "            var renderPlotly_42fa813e8f3b448a959e09def027c54e = function() {\n",
       "            var fsharpPlotlyRequire = requirejs.config({context:'fsharp-plotly',paths:{plotly:'https://cdn.plot.ly/plotly-latest.min'}}) || require;\n",
       "            fsharpPlotlyRequire(['plotly'], function(Plotly) {\r\n",
       "\n",
       "            var data = [{\"type\":\"bar\",\"x\":[\"Product A\",\"Product B\",\"Product C\"],\"y\":[20,14,23],\"marker\":{},\"text\":[20,14,23],\"textposition\":\"auto\"}];\n",
       "            var layout = {};\n",
       "            var config = {};\n",
       "            Plotly.newPlot('42fa813e-8f3b-448a-959e-09def027c54e', data, layout, config);\r\n",
       "});\n",
       "            };\n",
       "            if ((typeof(requirejs) !==  typeof(Function)) || (typeof(requirejs.config) !== typeof(Function))) {\n",
       "                var script = document.createElement(\"script\");\n",
       "                script.setAttribute(\"src\", \"https://cdnjs.cloudflare.com/ajax/libs/require.js/2.3.6/require.min.js\");\n",
       "                script.onload = function(){\n",
       "                    renderPlotly_42fa813e8f3b448a959e09def027c54e();\n",
       "                };\n",
       "                document.getElementsByTagName(\"head\")[0].appendChild(script);\n",
       "            }\n",
       "            else {\n",
       "                renderPlotly_42fa813e8f3b448a959e09def027c54e();\n",
       "            }\r\n",
       "</script>\r\n"
      ]
     },
     "metadata": {},
     "output_type": "display_data"
    }
   ],
   "metadata": {
    "dotnet_interactive": {
     "language": "fsharp"
    }
   }
  },
  {
   "cell_type": "markdown",
   "source": [
    "## Rotated Bar Chart Labels"
   ],
   "metadata": {}
  },
  {
   "cell_type": "code",
   "execution_count": null,
   "source": [
    "let months = [\"Jan\"; \"Feb\"; \"Mar\"; \"Apr\"; \"May\"; \"Jun\";\r\n",
    "              \"Jul\"; \"Aug\"; \"Sep\"; \"Oct\"; \"Nov\"; \"Dec\"]\r\n",
    "let primaryProduct = [20; 14; 25; 16; 18; 22; 19; 15; 12; 16; 14; 17]\r\n",
    "let secondProduct = [19; 14; 22; 14; 16; 19; 15; 14; 10; 12; 12; 16]\r\n",
    "\r\n",
    "[\r\n",
    "    Chart.Column (months, primaryProduct, Name=\"Primary Product\")\r\n",
    "    |> Chart.withMarker (Marker.init (Color=\"indianred\"));\r\n",
    "\r\n",
    "    Chart.Column (months, secondProduct, Name=\"Second Product\")\r\n",
    "    |> Chart.withMarker (Marker.init (Color=\"lightSalmon\"))\r\n",
    "]\r\n",
    "|> Chart.Combine\r\n",
    "|> Chart.withX_Axis (Axis.LinearAxis.init (Tickangle= -45))\r\n"
   ],
   "outputs": [
    {
     "output_type": "display_data",
     "data": {
      "text/html": [
       "<div id=\"156b968b-06bf-4a78-8e34-d7aabfccfb7a\" style=\"width: 600px; height: 600px;\"><!-- Plotly chart will be drawn inside this DIV --></div>\r\n",
       "<script type=\"text/javascript\">\r\n",
       "\n",
       "            var renderPlotly_156b968b06bf4a788e34d7aabfccfb7a = function() {\n",
       "            var fsharpPlotlyRequire = requirejs.config({context:'fsharp-plotly',paths:{plotly:'https://cdn.plot.ly/plotly-latest.min'}}) || require;\n",
       "            fsharpPlotlyRequire(['plotly'], function(Plotly) {\r\n",
       "\n",
       "            var data = [{\"type\":\"bar\",\"x\":[\"Jan\",\"Feb\",\"Mar\",\"Apr\",\"May\",\"Jun\",\"Jul\",\"Aug\",\"Sep\",\"Oct\",\"Nov\",\"Dec\"],\"y\":[20,14,25,16,18,22,19,15,12,16,14,17],\"marker\":{\"color\":\"indianred\"},\"name\":\"Primary Product\"},{\"type\":\"bar\",\"x\":[\"Jan\",\"Feb\",\"Mar\",\"Apr\",\"May\",\"Jun\",\"Jul\",\"Aug\",\"Sep\",\"Oct\",\"Nov\",\"Dec\"],\"y\":[19,14,22,14,16,19,15,14,10,12,12,16],\"marker\":{\"color\":\"lightSalmon\"},\"name\":\"Second Product\"}];\n",
       "            var layout = {\"xaxis\":{\"tickangle\":-45}};\n",
       "            var config = {};\n",
       "            Plotly.newPlot('156b968b-06bf-4a78-8e34-d7aabfccfb7a', data, layout, config);\r\n",
       "});\n",
       "            };\n",
       "            if ((typeof(requirejs) !==  typeof(Function)) || (typeof(requirejs.config) !== typeof(Function))) {\n",
       "                var script = document.createElement(\"script\");\n",
       "                script.setAttribute(\"src\", \"https://cdnjs.cloudflare.com/ajax/libs/require.js/2.3.6/require.min.js\");\n",
       "                script.onload = function(){\n",
       "                    renderPlotly_156b968b06bf4a788e34d7aabfccfb7a();\n",
       "                };\n",
       "                document.getElementsByTagName(\"head\")[0].appendChild(script);\n",
       "            }\n",
       "            else {\n",
       "                renderPlotly_156b968b06bf4a788e34d7aabfccfb7a();\n",
       "            }\r\n",
       "</script>\r\n"
      ]
     },
     "metadata": {}
    }
   ],
   "metadata": {
    "dotnet_interactive": {
     "language": "fsharp"
    }
   }
  },
  {
   "cell_type": "markdown",
   "source": [
    "## Customizing Individual Bar Colors"
   ],
   "metadata": {}
  },
  {
   "cell_type": "code",
   "execution_count": null,
   "source": [
    "let featureKeys = [\"Feature A\"; \"Feature B\"; \"Feature C\";\r\n",
    "                   \"Feature D\"; \"Feature E\"]\r\n",
    "let featureValues = [20; 14; 23; 25; 22]\r\n",
    "\r\n",
    "let colors = \r\n",
    "    [1..5]\r\n",
    "    |> List.mapi (fun i x -> if i = 1 then \"crimson\" else \"lightslategray\" )\r\n",
    "    |> List.toSeq\r\n",
    "\r\n",
    "let marker = Marker.init();\r\n",
    "marker?color<-colors // wordaround\r\n",
    "\r\n",
    "Chart.Column (featureKeys, featureValues, Marker=marker)\r\n"
   ],
   "outputs": [
    {
     "data": {
      "text/html": [
       "<div id=\"5642bb88-6500-4fec-82d3-1b1a63228e69\" style=\"width: 600px; height: 600px;\"><!-- Plotly chart will be drawn inside this DIV --></div>\r\n",
       "<script type=\"text/javascript\">\r\n",
       "\n",
       "            var renderPlotly_5642bb8865004fec82d31b1a63228e69 = function() {\n",
       "            var fsharpPlotlyRequire = requirejs.config({context:'fsharp-plotly',paths:{plotly:'https://cdn.plot.ly/plotly-latest.min'}}) || require;\n",
       "            fsharpPlotlyRequire(['plotly'], function(Plotly) {\r\n",
       "\n",
       "            var data = [{\"type\":\"bar\",\"x\":[\"Feature A\",\"Feature B\",\"Feature C\",\"Feature D\",\"Feature E\"],\"y\":[20,14,23,25,22],\"marker\":{\"color\":[\"lightslategray\",\"crimson\",\"lightslategray\",\"lightslategray\",\"lightslategray\"]}}];\n",
       "            var layout = {};\n",
       "            var config = {};\n",
       "            Plotly.newPlot('5642bb88-6500-4fec-82d3-1b1a63228e69', data, layout, config);\r\n",
       "});\n",
       "            };\n",
       "            if ((typeof(requirejs) !==  typeof(Function)) || (typeof(requirejs.config) !== typeof(Function))) {\n",
       "                var script = document.createElement(\"script\");\n",
       "                script.setAttribute(\"src\", \"https://cdnjs.cloudflare.com/ajax/libs/require.js/2.3.6/require.min.js\");\n",
       "                script.onload = function(){\n",
       "                    renderPlotly_5642bb8865004fec82d31b1a63228e69();\n",
       "                };\n",
       "                document.getElementsByTagName(\"head\")[0].appendChild(script);\n",
       "            }\n",
       "            else {\n",
       "                renderPlotly_5642bb8865004fec82d31b1a63228e69();\n",
       "            }\r\n",
       "</script>\r\n"
      ]
     },
     "metadata": {},
     "output_type": "display_data"
    }
   ],
   "metadata": {
    "dotnet_interactive": {
     "language": "fsharp"
    }
   }
  },
  {
   "cell_type": "markdown",
   "source": [
    "## Customizing Individual Bar Widths"
   ],
   "metadata": {}
  },
  {
   "cell_type": "code",
   "execution_count": null,
   "source": [
    "let featureKeys = [1.; 2.; 3.; 5.5; 10.]\r\n",
    "let featureValues = [20; 14; 23; 25; 22]\r\n",
    "let width = [0.8; 0.8; 0.8; 3.5; 4.]\r\n",
    "Chart.Column (featureKeys, featureValues)\r\n",
    "|> Chart.withMarker(Marker.init(MultiSizes= width))\r\n",
    "|> GenericChart.mapTrace(fun t-> \r\n",
    "                                t?width<-width;\r\n",
    "                                t)  // wordaround\r\n",
    "\r\n"
   ],
   "outputs": [
    {
     "data": {
      "text/html": [
       "<div id=\"6fdd8bfb-f998-455d-94ec-7fdaa4d913fb\" style=\"width: 600px; height: 600px;\"><!-- Plotly chart will be drawn inside this DIV --></div>\r\n",
       "<script type=\"text/javascript\">\r\n",
       "\n",
       "            var renderPlotly_6fdd8bfbf998455d94ec7fdaa4d913fb = function() {\n",
       "            var fsharpPlotlyRequire = requirejs.config({context:'fsharp-plotly',paths:{plotly:'https://cdn.plot.ly/plotly-latest.min'}}) || require;\n",
       "            fsharpPlotlyRequire(['plotly'], function(Plotly) {\r\n",
       "\n",
       "            var data = [{\"type\":\"bar\",\"x\":[1.0,2.0,3.0,5.5,10.0],\"y\":[20,14,23,25,22],\"marker\":{\"size\":[0.8,0.8,0.8,3.5,4.0]},\"width\":[0.8,0.8,0.8,3.5,4.0]}];\n",
       "            var layout = {};\n",
       "            var config = {};\n",
       "            Plotly.newPlot('6fdd8bfb-f998-455d-94ec-7fdaa4d913fb', data, layout, config);\r\n",
       "});\n",
       "            };\n",
       "            if ((typeof(requirejs) !==  typeof(Function)) || (typeof(requirejs.config) !== typeof(Function))) {\n",
       "                var script = document.createElement(\"script\");\n",
       "                script.setAttribute(\"src\", \"https://cdnjs.cloudflare.com/ajax/libs/require.js/2.3.6/require.min.js\");\n",
       "                script.onload = function(){\n",
       "                    renderPlotly_6fdd8bfbf998455d94ec7fdaa4d913fb();\n",
       "                };\n",
       "                document.getElementsByTagName(\"head\")[0].appendChild(script);\n",
       "            }\n",
       "            else {\n",
       "                renderPlotly_6fdd8bfbf998455d94ec7fdaa4d913fb();\n",
       "            }\r\n",
       "</script>\r\n"
      ]
     },
     "metadata": {},
     "output_type": "display_data"
    }
   ],
   "metadata": {
    "dotnet_interactive": {
     "language": "fsharp"
    }
   }
  },
  {
   "cell_type": "code",
   "execution_count": null,
   "source": [
    "open Plotly.NET\r\n",
    "\r\n",
    "let years = [ \"2016\"; \"2017\"; \"2018\" ]\r\n",
    "\r\n",
    "[\r\n",
    "    Chart.Column(years, [500; 600; 700], Name=\"expenses\", Marker=Marker.init(Color=\"crimson\"))\r\n",
    "        |> GenericChart.mapTrace(fun t-> \r\n",
    "                        t.SetValue(\"base\",[-500;-600;-700])// wordaround\r\n",
    "                        t) \r\n",
    "\r\n",
    "    ;Chart.Column(years, [300; 400; 700], Name=\"revenue\", Marker=Marker.init(Color=\"lightslategrey\"))\r\n",
    "         |> GenericChart.mapTrace(fun t-> \r\n",
    "                            t.SetValue(\"base\",0)\r\n",
    "                            t)  // wordaround\r\n",
    "]\r\n",
    "|> Chart.Combine"
   ],
   "outputs": [
    {
     "data": {
      "text/html": [
       "<div id=\"1ffe12c8-0029-456f-94f9-07e8772996c5\" style=\"width: 600px; height: 600px;\"><!-- Plotly chart will be drawn inside this DIV --></div>\r\n",
       "<script type=\"text/javascript\">\r\n",
       "\n",
       "            var renderPlotly_1ffe12c80029456f94f907e8772996c5 = function() {\n",
       "            var fsharpPlotlyRequire = requirejs.config({context:'fsharp-plotly',paths:{plotly:'https://cdn.plot.ly/plotly-latest.min'}}) || require;\n",
       "            fsharpPlotlyRequire(['plotly'], function(Plotly) {\r\n",
       "\n",
       "            var data = [{\"type\":\"bar\",\"x\":[\"2016\",\"2017\",\"2018\"],\"y\":[500,600,700],\"marker\":{\"color\":\"crimson\"},\"name\":\"expenses\",\"base\":[-500,-600,-700]},{\"type\":\"bar\",\"x\":[\"2016\",\"2017\",\"2018\"],\"y\":[300,400,700],\"marker\":{\"color\":\"lightslategrey\"},\"name\":\"revenue\",\"base\":0}];\n",
       "            var layout = {};\n",
       "            var config = {};\n",
       "            Plotly.newPlot('1ffe12c8-0029-456f-94f9-07e8772996c5', data, layout, config);\r\n",
       "});\n",
       "            };\n",
       "            if ((typeof(requirejs) !==  typeof(Function)) || (typeof(requirejs.config) !== typeof(Function))) {\n",
       "                var script = document.createElement(\"script\");\n",
       "                script.setAttribute(\"src\", \"https://cdnjs.cloudflare.com/ajax/libs/require.js/2.3.6/require.min.js\");\n",
       "                script.onload = function(){\n",
       "                    renderPlotly_1ffe12c80029456f94f907e8772996c5();\n",
       "                };\n",
       "                document.getElementsByTagName(\"head\")[0].appendChild(script);\n",
       "            }\n",
       "            else {\n",
       "                renderPlotly_1ffe12c80029456f94f907e8772996c5();\n",
       "            }\r\n",
       "</script>\r\n"
      ]
     },
     "metadata": {},
     "output_type": "display_data"
    }
   ],
   "metadata": {
    "dotnet_interactive": {
     "language": "fsharp"
    }
   }
  },
  {
   "cell_type": "markdown",
   "source": [
    "## Colored and Styled Bar Chart"
   ],
   "metadata": {}
  },
  {
   "cell_type": "code",
   "execution_count": null,
   "source": [
    "open Plotly.NET\r\n",
    "\r\n",
    "let years = [ for year in 1995..2013 do year ]\r\n",
    "\r\n",
    "let layout =\r\n",
    "    let obj = Layout()\r\n",
    "    obj?title <- \"US Export of Plastic Scrap\"\r\n",
    "    obj?barmode <- \"group\"\r\n",
    "    obj?bargap <- 0.15\r\n",
    "    obj?legend <- {|x = 0.0; y = 1.0; bgcolor = \"rgba(255, 255, 255, 0)\"; bordercolor = \"rgba(255, 255, 255, 0)\"|}\r\n",
    "    obj?bargroupgap <- 0.1\r\n",
    "    obj?yaxis <- {|title = \"USD (millions)\"; titlefont_size = 16; tickfont_size = 14|}\r\n",
    "    obj?xaxis_tickfont_size <- 14\r\n",
    "    obj\r\n",
    "\r\n",
    "[\r\n",
    "    Chart.Column(years, [219; 146; 112; 127; 124; 180; 236; 207; 236; 263; 350; 430; 474; 526; 488; 537; 500; 439], Name = \"Rest of the World\", Marker=Marker.init(Color = \"rgb(55, 83, 109)\"))\r\n",
    "    Chart.Column(years, [16; 13; 10; 11; 28; 37; 43; 55; 56; 88; 105; 156; 270; 299; 340; 403; 549; 499], Name = \"China\", Marker=Marker.init(Color = \"rgb(26, 118, 255)\"))\r\n",
    "]\r\n",
    "|> Chart.Combine\r\n",
    "|> Chart.withLayout(layout)\r\n"
   ],
   "outputs": [
    {
     "data": {
      "text/html": [
       "<div id=\"098abf9c-23cd-40ee-b79a-9d66d5f2318a\" style=\"width: 600px; height: 600px;\"><!-- Plotly chart will be drawn inside this DIV --></div>\r\n",
       "<script type=\"text/javascript\">\r\n",
       "\n",
       "            var renderPlotly_098abf9c23cd40eeb79a9d66d5f2318a = function() {\n",
       "            var fsharpPlotlyRequire = requirejs.config({context:'fsharp-plotly',paths:{plotly:'https://cdn.plot.ly/plotly-latest.min'}}) || require;\n",
       "            fsharpPlotlyRequire(['plotly'], function(Plotly) {\r\n",
       "\n",
       "            var data = [{\"type\":\"bar\",\"x\":[1995,1996,1997,1998,1999,2000,2001,2002,2003,2004,2005,2006,2007,2008,2009,2010,2011,2012,2013],\"y\":[219,146,112,127,124,180,236,207,236,263,350,430,474,526,488,537,500,439],\"marker\":{\"color\":\"rgb(55, 83, 109)\"},\"name\":\"Rest of the World\"},{\"type\":\"bar\",\"x\":[1995,1996,1997,1998,1999,2000,2001,2002,2003,2004,2005,2006,2007,2008,2009,2010,2011,2012,2013],\"y\":[16,13,10,11,28,37,43,55,56,88,105,156,270,299,340,403,549,499],\"marker\":{\"color\":\"rgb(26, 118, 255)\"},\"name\":\"China\"}];\n",
       "            var layout = {\"title\":\"US Export of Plastic Scrap\",\"barmode\":\"group\",\"bargap\":0.15,\"legend\":{\"bgcolor\":\"rgba(255, 255, 255, 0)\",\"bordercolor\":\"rgba(255, 255, 255, 0)\",\"x\":0.0,\"y\":1.0},\"bargroupgap\":0.1,\"yaxis\":{\"tickfont_size\":14,\"title\":\"USD (millions)\",\"titlefont_size\":16},\"xaxis_tickfont_size\":14};\n",
       "            var config = {};\n",
       "            Plotly.newPlot('098abf9c-23cd-40ee-b79a-9d66d5f2318a', data, layout, config);\r\n",
       "});\n",
       "            };\n",
       "            if ((typeof(requirejs) !==  typeof(Function)) || (typeof(requirejs.config) !== typeof(Function))) {\n",
       "                var script = document.createElement(\"script\");\n",
       "                script.setAttribute(\"src\", \"https://cdnjs.cloudflare.com/ajax/libs/require.js/2.3.6/require.min.js\");\n",
       "                script.onload = function(){\n",
       "                    renderPlotly_098abf9c23cd40eeb79a9d66d5f2318a();\n",
       "                };\n",
       "                document.getElementsByTagName(\"head\")[0].appendChild(script);\n",
       "            }\n",
       "            else {\n",
       "                renderPlotly_098abf9c23cd40eeb79a9d66d5f2318a();\n",
       "            }\r\n",
       "</script>\r\n"
      ]
     },
     "metadata": {},
     "output_type": "display_data"
    }
   ],
   "metadata": {
    "dotnet_interactive": {
     "language": "fsharp"
    }
   }
  },
  {
   "cell_type": "markdown",
   "source": [
    "## Bar Chart with Relative Barmode"
   ],
   "metadata": {}
  },
  {
   "cell_type": "code",
   "execution_count": null,
   "source": [
    "open Plotly.NET\r\n",
    "\r\n",
    "let x = [1; 2; 3; 4]\r\n",
    "\r\n",
    "let layout = \r\n",
    "    let obj = Layout()\r\n",
    "    obj?barmode <- \"relative\"// wordaround\r\n",
    "    obj?title_text <- \"Relative Barmode\"// wordaround\r\n",
    "    obj\r\n",
    "\r\n",
    "[\r\n",
    "    Chart.Column(keys=x, values= [1.; 4.; 9.; 16.])\r\n",
    "    Chart.Column(keys=x, values= [6.; -8.; -4.5; 8.])\r\n",
    "    Chart.Column(keys=x, values= [-15.; -3.; 4.5; -8.])\r\n",
    "    Chart.Column(keys=x, values= [-1.; 3.; -3.; -4.])\r\n",
    "]\r\n",
    "|> Chart.Combine\r\n",
    "|> Chart.withLayout(layout)"
   ],
   "outputs": [
    {
     "data": {
      "text/html": [
       "<div id=\"7e2775bf-93da-4ae7-b746-fbbb14465e7e\" style=\"width: 600px; height: 600px;\"><!-- Plotly chart will be drawn inside this DIV --></div>\r\n",
       "<script type=\"text/javascript\">\r\n",
       "\n",
       "            var renderPlotly_7e2775bf93da4ae7b746fbbb14465e7e = function() {\n",
       "            var fsharpPlotlyRequire = requirejs.config({context:'fsharp-plotly',paths:{plotly:'https://cdn.plot.ly/plotly-latest.min'}}) || require;\n",
       "            fsharpPlotlyRequire(['plotly'], function(Plotly) {\r\n",
       "\n",
       "            var data = [{\"type\":\"bar\",\"x\":[1,2,3,4],\"y\":[1.0,4.0,9.0,16.0],\"marker\":{}},{\"type\":\"bar\",\"x\":[1,2,3,4],\"y\":[6.0,-8.0,-4.5,8.0],\"marker\":{}},{\"type\":\"bar\",\"x\":[1,2,3,4],\"y\":[-15.0,-3.0,4.5,-8.0],\"marker\":{}},{\"type\":\"bar\",\"x\":[1,2,3,4],\"y\":[-1.0,3.0,-3.0,-4.0],\"marker\":{}}];\n",
       "            var layout = {\"barmode\":\"relative\",\"title_text\":\"Relative Barmode\"};\n",
       "            var config = {};\n",
       "            Plotly.newPlot('7e2775bf-93da-4ae7-b746-fbbb14465e7e', data, layout, config);\r\n",
       "});\n",
       "            };\n",
       "            if ((typeof(requirejs) !==  typeof(Function)) || (typeof(requirejs.config) !== typeof(Function))) {\n",
       "                var script = document.createElement(\"script\");\n",
       "                script.setAttribute(\"src\", \"https://cdnjs.cloudflare.com/ajax/libs/require.js/2.3.6/require.min.js\");\n",
       "                script.onload = function(){\n",
       "                    renderPlotly_7e2775bf93da4ae7b746fbbb14465e7e();\n",
       "                };\n",
       "                document.getElementsByTagName(\"head\")[0].appendChild(script);\n",
       "            }\n",
       "            else {\n",
       "                renderPlotly_7e2775bf93da4ae7b746fbbb14465e7e();\n",
       "            }\r\n",
       "</script>\r\n"
      ]
     },
     "metadata": {},
     "output_type": "display_data"
    }
   ],
   "metadata": {
    "dotnet_interactive": {
     "language": "fsharp"
    }
   }
  },
  {
   "cell_type": "markdown",
   "source": [
    "## Bar Chart with Sorted or Ordered Categories"
   ],
   "metadata": {}
  },
  {
   "cell_type": "code",
   "execution_count": null,
   "source": [
    "open Plotly.NET\r\n",
    "\r\n",
    "let x = ['b'; 'a'; 'c'; 'd']\r\n",
    "\r\n",
    "let layout = \r\n",
    "    let obj = Layout()\r\n",
    "    obj?barmode <- \"stack\"// wordaround\r\n",
    "    obj?xaxis <- {|categoryorder = \"category ascending\"|} // wordaround\r\n",
    "    obj\r\n",
    "\r\n",
    "[\r\n",
    "    Chart.Column(x, [2.;5.;1.;9.], Name = \"Montreal\")\r\n",
    "    Chart.Column(x, [1.;4.;9.;16.], Name = \"Ottawa\")\r\n",
    "    Chart.Column(x, [6.;8.;4.5;8.], Name = \"Toronto\")\r\n",
    "]\r\n",
    "|> Chart.Combine\r\n",
    "|> Chart.withLayout(layout)"
   ],
   "outputs": [
    {
     "data": {
      "text/html": [
       "<div id=\"987e15ec-f590-40ae-a48b-f2ecb93ee470\" style=\"width: 600px; height: 600px;\"><!-- Plotly chart will be drawn inside this DIV --></div>\r\n",
       "<script type=\"text/javascript\">\r\n",
       "\n",
       "            var renderPlotly_987e15ecf59040aea48bf2ecb93ee470 = function() {\n",
       "            var fsharpPlotlyRequire = requirejs.config({context:'fsharp-plotly',paths:{plotly:'https://cdn.plot.ly/plotly-latest.min'}}) || require;\n",
       "            fsharpPlotlyRequire(['plotly'], function(Plotly) {\r\n",
       "\n",
       "            var data = [{\"type\":\"bar\",\"x\":[\"b\",\"a\",\"c\",\"d\"],\"y\":[2.0,5.0,1.0,9.0],\"marker\":{},\"name\":\"Montreal\"},{\"type\":\"bar\",\"x\":[\"b\",\"a\",\"c\",\"d\"],\"y\":[1.0,4.0,9.0,16.0],\"marker\":{},\"name\":\"Ottawa\"},{\"type\":\"bar\",\"x\":[\"b\",\"a\",\"c\",\"d\"],\"y\":[6.0,8.0,4.5,8.0],\"marker\":{},\"name\":\"Toronto\"}];\n",
       "            var layout = {\"barmode\":\"stack\",\"xaxis\":{\"categoryorder\":\"category ascending\"}};\n",
       "            var config = {};\n",
       "            Plotly.newPlot('987e15ec-f590-40ae-a48b-f2ecb93ee470', data, layout, config);\r\n",
       "});\n",
       "            };\n",
       "            if ((typeof(requirejs) !==  typeof(Function)) || (typeof(requirejs.config) !== typeof(Function))) {\n",
       "                var script = document.createElement(\"script\");\n",
       "                script.setAttribute(\"src\", \"https://cdnjs.cloudflare.com/ajax/libs/require.js/2.3.6/require.min.js\");\n",
       "                script.onload = function(){\n",
       "                    renderPlotly_987e15ecf59040aea48bf2ecb93ee470();\n",
       "                };\n",
       "                document.getElementsByTagName(\"head\")[0].appendChild(script);\n",
       "            }\n",
       "            else {\n",
       "                renderPlotly_987e15ecf59040aea48bf2ecb93ee470();\n",
       "            }\r\n",
       "</script>\r\n"
      ]
     },
     "metadata": {},
     "output_type": "display_data"
    }
   ],
   "metadata": {
    "dotnet_interactive": {
     "language": "fsharp"
    }
   }
  },
  {
   "cell_type": "code",
   "execution_count": null,
   "source": [
    "open Plotly.NET\r\n",
    "\r\n",
    "let x = ['b'; 'a'; 'c'; 'd']\r\n",
    "\r\n",
    "let layout = \r\n",
    "    let obj = Layout()\r\n",
    "    obj?barmode <- \"stack\"// wordaround\r\n",
    "    obj?xaxis <- {|categoryorder = \"array\"; categoryarray = ['d';'a';'c';'b']|}// wordaround\r\n",
    "    obj\r\n",
    "\r\n",
    "[\r\n",
    "    Chart.Column(x, [2.;5.;1.;9.], Name = \"Montreal\")\r\n",
    "    Chart.Column(x, [1.;4.;9.;16.], Name = \"Ottawa\")\r\n",
    "    Chart.Column(x, [6.;8.;4.5;8.], Name = \"Toronto\")\r\n",
    "]\r\n",
    "|> Chart.Combine\r\n",
    "|> Chart.withLayout(layout)"
   ],
   "outputs": [
    {
     "data": {
      "text/html": [
       "<div id=\"2502594f-c005-47cf-96da-a5101539098f\" style=\"width: 600px; height: 600px;\"><!-- Plotly chart will be drawn inside this DIV --></div>\r\n",
       "<script type=\"text/javascript\">\r\n",
       "\n",
       "            var renderPlotly_2502594fc00547cf96daa5101539098f = function() {\n",
       "            var fsharpPlotlyRequire = requirejs.config({context:'fsharp-plotly',paths:{plotly:'https://cdn.plot.ly/plotly-latest.min'}}) || require;\n",
       "            fsharpPlotlyRequire(['plotly'], function(Plotly) {\r\n",
       "\n",
       "            var data = [{\"type\":\"bar\",\"x\":[\"b\",\"a\",\"c\",\"d\"],\"y\":[2.0,5.0,1.0,9.0],\"marker\":{},\"name\":\"Montreal\"},{\"type\":\"bar\",\"x\":[\"b\",\"a\",\"c\",\"d\"],\"y\":[1.0,4.0,9.0,16.0],\"marker\":{},\"name\":\"Ottawa\"},{\"type\":\"bar\",\"x\":[\"b\",\"a\",\"c\",\"d\"],\"y\":[6.0,8.0,4.5,8.0],\"marker\":{},\"name\":\"Toronto\"}];\n",
       "            var layout = {\"barmode\":\"stack\",\"xaxis\":{\"categoryarray\":[\"d\",\"a\",\"c\",\"b\"],\"categoryorder\":\"array\"}};\n",
       "            var config = {};\n",
       "            Plotly.newPlot('2502594f-c005-47cf-96da-a5101539098f', data, layout, config);\r\n",
       "});\n",
       "            };\n",
       "            if ((typeof(requirejs) !==  typeof(Function)) || (typeof(requirejs.config) !== typeof(Function))) {\n",
       "                var script = document.createElement(\"script\");\n",
       "                script.setAttribute(\"src\", \"https://cdnjs.cloudflare.com/ajax/libs/require.js/2.3.6/require.min.js\");\n",
       "                script.onload = function(){\n",
       "                    renderPlotly_2502594fc00547cf96daa5101539098f();\n",
       "                };\n",
       "                document.getElementsByTagName(\"head\")[0].appendChild(script);\n",
       "            }\n",
       "            else {\n",
       "                renderPlotly_2502594fc00547cf96daa5101539098f();\n",
       "            }\r\n",
       "</script>\r\n"
      ]
     },
     "metadata": {},
     "output_type": "display_data"
    }
   ],
   "metadata": {
    "dotnet_interactive": {
     "language": "fsharp"
    }
   }
  },
  {
   "cell_type": "code",
   "execution_count": null,
   "source": [
    "open Plotly.NET\r\n",
    "\r\n",
    "let x = ['b'; 'a'; 'c'; 'd']\r\n",
    "\r\n",
    "let layout = \r\n",
    "    let obj = Layout()\r\n",
    "    obj?barmode <- \"stack\" // wordaround\r\n",
    "    obj?xaxis <- {|categoryorder = \"total descending\"|} // wordaround\r\n",
    "    obj\r\n",
    "\r\n",
    "[\r\n",
    "    Chart.Column(x, [2.;5.;1.;9.], Name = \"Montreal\")\r\n",
    "    Chart.Column(x, [1.;4.;9.;16.], Name = \"Ottawa\")\r\n",
    "    Chart.Column(x, [6.;8.;4.5;8.], Name = \"Toronto\")\r\n",
    "]\r\n",
    "|> Chart.Combine\r\n",
    "|> Chart.withLayout(layout)"
   ],
   "outputs": [
    {
     "data": {
      "text/html": [
       "<div id=\"2fa99010-1a37-467b-9139-8e7740b0da58\" style=\"width: 600px; height: 600px;\"><!-- Plotly chart will be drawn inside this DIV --></div>\r\n",
       "<script type=\"text/javascript\">\r\n",
       "\n",
       "            var renderPlotly_2fa990101a37467b91398e7740b0da58 = function() {\n",
       "            var fsharpPlotlyRequire = requirejs.config({context:'fsharp-plotly',paths:{plotly:'https://cdn.plot.ly/plotly-latest.min'}}) || require;\n",
       "            fsharpPlotlyRequire(['plotly'], function(Plotly) {\r\n",
       "\n",
       "            var data = [{\"type\":\"bar\",\"x\":[\"b\",\"a\",\"c\",\"d\"],\"y\":[2.0,5.0,1.0,9.0],\"marker\":{},\"name\":\"Montreal\"},{\"type\":\"bar\",\"x\":[\"b\",\"a\",\"c\",\"d\"],\"y\":[1.0,4.0,9.0,16.0],\"marker\":{},\"name\":\"Ottawa\"},{\"type\":\"bar\",\"x\":[\"b\",\"a\",\"c\",\"d\"],\"y\":[6.0,8.0,4.5,8.0],\"marker\":{},\"name\":\"Toronto\"}];\n",
       "            var layout = {\"barmode\":\"stack\",\"xaxis\":{\"categoryorder\":\"total descending\"}};\n",
       "            var config = {};\n",
       "            Plotly.newPlot('2fa99010-1a37-467b-9139-8e7740b0da58', data, layout, config);\r\n",
       "});\n",
       "            };\n",
       "            if ((typeof(requirejs) !==  typeof(Function)) || (typeof(requirejs.config) !== typeof(Function))) {\n",
       "                var script = document.createElement(\"script\");\n",
       "                script.setAttribute(\"src\", \"https://cdnjs.cloudflare.com/ajax/libs/require.js/2.3.6/require.min.js\");\n",
       "                script.onload = function(){\n",
       "                    renderPlotly_2fa990101a37467b91398e7740b0da58();\n",
       "                };\n",
       "                document.getElementsByTagName(\"head\")[0].appendChild(script);\n",
       "            }\n",
       "            else {\n",
       "                renderPlotly_2fa990101a37467b91398e7740b0da58();\n",
       "            }\r\n",
       "</script>\r\n"
      ]
     },
     "metadata": {},
     "output_type": "display_data"
    }
   ],
   "metadata": {
    "dotnet_interactive": {
     "language": "fsharp"
    }
   }
  },
  {
   "cell_type": "markdown",
   "source": [
    "# Horizontal Bar Charts\r\n",
    "\r\n",
    "## Bar Charts With Multicategory Axis Type"
   ],
   "metadata": {}
  },
  {
   "cell_type": "code",
   "execution_count": null,
   "source": [
    "open Plotly.NET\r\n",
    "\r\n",
    "let x :Object list = [[\"BB+\"; \"BB+\"; \"BB+\"; \"BB\"; \"BB\"; \"BB\"];[16; 17; 18; 16; 17; 18;]]\r\n",
    "\r\n",
    "let layout = \r\n",
    "    let obj = Layout()\r\n",
    "    obj?barmode <- \"relative\" // wordaround\r\n",
    "    obj\r\n",
    "\r\n",
    "[\r\n",
    "    Chart.Column(keys=[], values = [1;2;3;4;5;6])\r\n",
    "    Chart.Column(keys=[], values = [6;5;4;3;2;1])\r\n",
    "] \r\n",
    "|> Chart.Combine \r\n",
    "|> GenericChart.mapTrace(fun t-> \r\n",
    "                                t?x<-x // wordaround\r\n",
    "                                t) \r\n",
    "|> Chart.withLayout(layout)"
   ],
   "outputs": [
    {
     "data": {
      "text/html": [
       "<div id=\"425989e1-86d3-46ce-a6ef-53f2e19b6efb\" style=\"width: 600px; height: 600px;\"><!-- Plotly chart will be drawn inside this DIV --></div>\r\n",
       "<script type=\"text/javascript\">\r\n",
       "\n",
       "            var renderPlotly_425989e186d346cea6ef53f2e19b6efb = function() {\n",
       "            var fsharpPlotlyRequire = requirejs.config({context:'fsharp-plotly',paths:{plotly:'https://cdn.plot.ly/plotly-latest.min'}}) || require;\n",
       "            fsharpPlotlyRequire(['plotly'], function(Plotly) {\r\n",
       "\n",
       "            var data = [{\"type\":\"bar\",\"x\":[[\"BB+\",\"BB+\",\"BB+\",\"BB\",\"BB\",\"BB\"],[16,17,18,16,17,18]],\"y\":[1,2,3,4,5,6],\"marker\":{}},{\"type\":\"bar\",\"x\":[[\"BB+\",\"BB+\",\"BB+\",\"BB\",\"BB\",\"BB\"],[16,17,18,16,17,18]],\"y\":[6,5,4,3,2,1],\"marker\":{}}];\n",
       "            var layout = {\"barmode\":\"relative\"};\n",
       "            var config = {};\n",
       "            Plotly.newPlot('425989e1-86d3-46ce-a6ef-53f2e19b6efb', data, layout, config);\r\n",
       "});\n",
       "            };\n",
       "            if ((typeof(requirejs) !==  typeof(Function)) || (typeof(requirejs.config) !== typeof(Function))) {\n",
       "                var script = document.createElement(\"script\");\n",
       "                script.setAttribute(\"src\", \"https://cdnjs.cloudflare.com/ajax/libs/require.js/2.3.6/require.min.js\");\n",
       "                script.onload = function(){\n",
       "                    renderPlotly_425989e186d346cea6ef53f2e19b6efb();\n",
       "                };\n",
       "                document.getElementsByTagName(\"head\")[0].appendChild(script);\n",
       "            }\n",
       "            else {\n",
       "                renderPlotly_425989e186d346cea6ef53f2e19b6efb();\n",
       "            }\r\n",
       "</script>\r\n"
      ]
     },
     "metadata": {},
     "output_type": "display_data"
    }
   ],
   "metadata": {
    "dotnet_interactive": {
     "language": "fsharp"
    }
   }
  }
 ],
 "metadata": {
  "kernelspec": {
   "display_name": ".NET (C#)",
   "language": "C#",
   "name": ".net-csharp"
  },
  "language_info": {
   "file_extension": ".cs",
   "mimetype": "text/x-csharp",
   "name": "C#",
   "pygments_lexer": "csharp",
   "version": "9.0"
  },
  "orig_nbformat": 4
 },
 "nbformat": 4,
 "nbformat_minor": 2
}