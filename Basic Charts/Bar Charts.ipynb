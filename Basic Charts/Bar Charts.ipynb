{
 "cells": [
  {
   "cell_type": "markdown",
   "source": [
    "# Bar Charts\n",
    "\n",
    "## Imports"
   ],
   "metadata": {
    "dotnet_interactive": {
     "language": "fsharp"
    }
   }
  },
  {
   "cell_type": "code",
   "execution_count": null,
   "source": [
    "#r \"nuget: Plotly.NET, 2.0.0-preview.6\"\n",
    "#r \"nuget: newtonsoft.json\"\n",
    "#r \"nuget: Plotly.NET.Interactive, 2.0.0-preview.6\"\n",
    "open Plotly.NET\n"
   ],
   "outputs": [],
   "metadata": {
    "dotnet_interactive": {
     "language": "fsharp"
    }
   }
  },
  {
   "cell_type": "markdown",
   "source": [
    "## Basic Bar Chart with plotly.graph_objects"
   ],
   "metadata": {
    "dotnet_interactive": {
     "language": "fsharp"
    }
   }
  },
  {
   "cell_type": "code",
   "execution_count": null,
   "source": [
    "let animals = [\"giraffes\"; \"orangutans\"; \"monkeys\"];\n",
    "let sfValues = [20; 14; 23]\n",
    "Chart.Column (animals, sfValues);\n"
   ],
   "outputs": [],
   "metadata": {
    "dotnet_interactive": {
     "language": "fsharp"
    }
   }
  },
  {
   "cell_type": "markdown",
   "source": [
    "## Grouped Bar Chart"
   ],
   "metadata": {
    "dotnet_interactive": {
     "language": "fsharp"
    }
   }
  },
  {
   "cell_type": "code",
   "execution_count": null,
   "source": [
    "let animals = [\"giraffes\"; \"orangutans\"; \"monkeys\"];\n",
    "let sfValues = [20; 14; 23]\n",
    "let laValues = [12; 18; 29]\n",
    "\n",
    "[\n",
    "    Chart.Column (animals, sfValues, Name=\"SF Zoo\");\n",
    "    Chart.Column (animals, laValues, Name=\"LA Zoo\")\n",
    "]\n",
    "|> Chart.Combine\n"
   ],
   "outputs": [],
   "metadata": {
    "dotnet_interactive": {
     "language": "fsharp"
    }
   }
  },
  {
   "cell_type": "markdown",
   "source": [
    "## Stacked Bar Chart"
   ],
   "metadata": {}
  },
  {
   "cell_type": "code",
   "execution_count": null,
   "source": [
    "let animals = [\"giraffes\"; \"orangutans\"; \"monkeys\"];\n",
    "let sfValues = [20; 14; 23]\n",
    "let laValues = [12; 18; 29]\n",
    "\n",
    "[\n",
    "    Chart.StackedColumn (animals, sfValues, Name=\"SF Zoo\");\n",
    "    Chart.StackedColumn (animals, laValues, Name=\"LA Zoo\")\n",
    "]\n",
    "|> Chart.Combine\n"
   ],
   "outputs": [],
   "metadata": {
    "dotnet_interactive": {
     "language": "fsharp"
    }
   }
  },
  {
   "cell_type": "markdown",
   "source": [
    "## Bar Chart with Hover Text"
   ],
   "metadata": {}
  },
  {
   "cell_type": "code",
   "execution_count": null,
   "source": [
    "let products = [\"Product A\"; \"Product B\"; \"Product C\"];\n",
    "let labels = [\"27% market share\"; \"24% market share\"; \"19% market share\"]\n",
    "let sfValues = [20; 14; 23]\n",
    "\n",
    "Chart.Column (\n",
    "    products,\n",
    "    sfValues,\n",
    "    Labels=labels,\n",
    "    Opacity=0.6\n",
    ")\n",
    "|> Chart.withMarker (\n",
    "    Marker.init (\n",
    "        Color=\"rgb(158,202,225)\", \n",
    "        Line=Line.init (Width=1.5, Color=\"rgb(8,48,107)\")\n",
    "    )\n",
    ")\n",
    "|> Chart.withTitle (\"January 2013 Sales Report\")\n"
   ],
   "outputs": [],
   "metadata": {
    "dotnet_interactive": {
     "language": "fsharp"
    }
   }
  },
  {
   "cell_type": "markdown",
   "source": [
    "## Bar Chart with Direct Labels"
   ],
   "metadata": {}
  },
  {
   "cell_type": "code",
   "execution_count": null,
   "source": [
    "let products = [\"Product A\"; \"Product B\"; \"Product C\"];\n",
    "let sfValues = [20; 14; 23]\n",
    "Chart.Column (\n",
    "    products,\n",
    "    sfValues,\n",
    "    Labels= sfValues\n",
    ") |> GenericChart.mapTrace(fun t-> \n",
    "                            t?textposition<- \"auto\" //workaround\n",
    "                            t)\n"
   ],
   "outputs": [],
   "metadata": {
    "dotnet_interactive": {
     "language": "fsharp"
    }
   }
  },
  {
   "cell_type": "markdown",
   "source": [
    "## Rotated Bar Chart Labels"
   ],
   "metadata": {}
  },
  {
   "cell_type": "code",
   "execution_count": null,
   "source": [
    "let months = [\"Jan\"; \"Feb\"; \"Mar\"; \"Apr\"; \"May\"; \"Jun\";\n",
    "              \"Jul\"; \"Aug\"; \"Sep\"; \"Oct\"; \"Nov\"; \"Dec\"]\n",
    "let primaryProduct = [20; 14; 25; 16; 18; 22; 19; 15; 12; 16; 14; 17]\n",
    "let secondProduct = [19; 14; 22; 14; 16; 19; 15; 14; 10; 12; 12; 16]\n",
    "\n",
    "[\n",
    "    Chart.Column (months, primaryProduct, Name=\"Primary Product\")\n",
    "    |> Chart.withMarker (Marker.init (Color=\"indianred\"));\n",
    "\n",
    "    Chart.Column (months, secondProduct, Name=\"Second Product\")\n",
    "    |> Chart.withMarker (Marker.init (Color=\"lightSalmon\"))\n",
    "]\n",
    "|> Chart.Combine\n",
    "|> Chart.withX_Axis (Axis.LinearAxis.init (Tickangle= -45))\n"
   ],
   "outputs": [],
   "metadata": {
    "dotnet_interactive": {
     "language": "fsharp"
    }
   }
  },
  {
   "cell_type": "markdown",
   "source": [
    "## Customizing Individual Bar Colors"
   ],
   "metadata": {}
  },
  {
   "cell_type": "code",
   "execution_count": null,
   "source": [
    "let featureKeys = [\"Feature A\"; \"Feature B\"; \"Feature C\";\n",
    "                   \"Feature D\"; \"Feature E\"]\n",
    "let featureValues = [20; 14; 23; 25; 22]\n",
    "\n",
    "let colors = \n",
    "    [1..5]\n",
    "    |> List.mapi (fun i x -> if i = 1 then \"crimson\" else \"lightslategray\" )\n",
    "    |> List.toSeq\n",
    "\n",
    "let marker = Marker.init();\n",
    "marker?color<-colors // wordaround\n",
    "\n",
    "Chart.Column (featureKeys, featureValues, Marker=marker)\n"
   ],
   "outputs": [],
   "metadata": {
    "dotnet_interactive": {
     "language": "fsharp"
    }
   }
  },
  {
   "cell_type": "markdown",
   "source": [
    "## Customizing Individual Bar Widths"
   ],
   "metadata": {}
  },
  {
   "cell_type": "code",
   "execution_count": null,
   "source": [
    "let featureKeys = [1.; 2.; 3.; 5.5; 10.]\n",
    "let featureValues = [20; 14; 23; 25; 22]\n",
    "let width = [0.8; 0.8; 0.8; 3.5; 4.]\n",
    "Chart.Column (featureKeys, featureValues)\n",
    "|> Chart.withMarker(Marker.init(MultiSizes= width))\n",
    "|> GenericChart.mapTrace(fun t-> \n",
    "                                t?width<-width;\n",
    "                                t)  // wordaround\n",
    "\n"
   ],
   "outputs": [],
   "metadata": {
    "dotnet_interactive": {
     "language": "fsharp"
    }
   }
  },
  {
   "cell_type": "code",
   "execution_count": null,
   "source": [
    "let labels = [\"apples\"; \"oranges\"; \"pears\"; \"bananas\"]\n",
    "let widths = [10.; 20.; 20.; 50.]\n",
    "\n",
    "let data = \n",
    "    [\n",
    "        \"South\", [50.;80.;60.;70.]\n",
    "        \"North\", [50.; 20.;40.;30.]\n",
    "    ]\n",
    "\n",
    "let cumSum (xs: float list) =\n",
    "    xs |> Array.ofList |> Array.scan (+) LanguagePrimitives.GenericOne |> List.ofArray\n",
    "\n",
    "let findByKey key data = \n",
    "    (snd (List.find (fun (k,v) -> k = key) data))\n",
    "\n",
    "let layout =\n",
    "    let tmp = Layout()\n",
    "    tmp?barmode <- \"stack\"\n",
    "    tmp?uniformtext <- {|mode = \"hide\"; minsize = 10|}\n",
    "    tmp?title <- \"Marimekko Chart\"\n",
    "    tmp\n",
    "\n",
    "let transformToColumn (key: string) (values: float list) =\n",
    "    Chart.Column(values=(findByKey key data), keys=(Seq.map2 (-) (cumSum values) (widths)))\n",
    "    |> GenericChart.mapTrace(fun t -> \n",
    "        t.SetValue(\"customdata\", [ for l, v in (Seq.zip labels (Seq.map2 (fun x y -> x*y) widths (findByKey key data) )) do l, v])\n",
    "        t.SetValue(\"width\", widths)\n",
    "        t.SetValue(\"offset\", 0.)\n",
    "        t.SetValue(\"name\", key)\n",
    "        t.SetValue(\"textangle\", 0)\n",
    "        t.SetValue(\"textposition\", \"inside\")\n",
    "        t)\n",
    "    |> Chart.withX_Axis(Axis.LinearAxis.init(Tickvals = (Seq.map2 (-) (cumSum widths) (Seq.map (fun x -> x/2.) widths)), Range = StyleParam.Range.Values [|0.; 100.|], Ticktext = [ for l, w in Seq.zip labels widths do $\"{l}<br>{w}\"]))\n",
    "    |> Chart.withY_Axis(Axis.LinearAxis.init(Range = StyleParam.Range.Values [|0.; 100.|]))\n",
    "\n",
    "[\n",
    "    for key, values in data do \n",
    "        (transformToColumn key values)\n",
    "]\n",
    "|> Chart.Combine\n",
    "|> Chart.withLayout(layout)\n"
   ],
   "outputs": [
    {
     "data": {
      "text/html": [
       "<div id=\"78cc14cd-3418-41f3-a21c-d96f3df17b38\" style=\"width: 600px; height: 600px;\"><!-- Plotly chart will be drawn inside this DIV --></div>\n",
       "<script type=\"text/javascript\">\n",
       "\n",
       "            var renderPlotly_78cc14cd341841f3a21cd96f3df17b38 = function() {\n",
       "            var fsharpPlotlyRequire = requirejs.config({context:'fsharp-plotly',paths:{plotly:'https://cdn.plot.ly/plotly-latest.min'}}) || require;\n",
       "            fsharpPlotlyRequire(['plotly'], function(Plotly) {\n",
       "\n",
       "            var data = [{\"type\":\"bar\",\"x\":[-9.0,31.0,111.0,141.0],\"y\":[50.0,80.0,60.0,70.0],\"marker\":{},\"customdata\":[{\"Item1\":\"apples\",\"Item2\":500.0},{\"Item1\":\"oranges\",\"Item2\":1600.0},{\"Item1\":\"pears\",\"Item2\":1200.0},{\"Item1\":\"bananas\",\"Item2\":3500.0}],\"width\":[10.0,20.0,20.0,50.0],\"offset\":0.0,\"name\":\"South\",\"textangle\":0,\"textposition\":\"inside\"},{\"type\":\"bar\",\"x\":[-9.0,31.0,51.0,61.0],\"y\":[50.0,20.0,40.0,30.0],\"marker\":{},\"customdata\":[{\"Item1\":\"apples\",\"Item2\":500.0},{\"Item1\":\"oranges\",\"Item2\":400.0},{\"Item1\":\"pears\",\"Item2\":800.0},{\"Item1\":\"bananas\",\"Item2\":1500.0}],\"width\":[10.0,20.0,20.0,50.0],\"offset\":0.0,\"name\":\"North\",\"textangle\":0,\"textposition\":\"inside\"}];\n",
       "            var layout = {\"xaxis\":{\"range\":[0.0,100.0],\"tickvals\":[-4.0,1.0,21.0,26.0],\"ticktext\":[\"apples<br>10\",\"oranges<br>20\",\"pears<br>20\",\"bananas<br>50\"]},\"yaxis\":{\"range\":[0.0,100.0]},\"barmode\":\"stack\",\"uniformtext\":{\"minsize\":10,\"mode\":\"hide\"},\"title\":\"Marimekko Chart\"};\n",
       "            var config = {};\n",
       "            Plotly.newPlot('78cc14cd-3418-41f3-a21c-d96f3df17b38', data, layout, config);\n",
       "});\n",
       "            };\n",
       "            if ((typeof(requirejs) !==  typeof(Function)) || (typeof(requirejs.config) !== typeof(Function))) {\n",
       "                var script = document.createElement(\"script\");\n",
       "                script.setAttribute(\"src\", \"https://cdnjs.cloudflare.com/ajax/libs/require.js/2.3.6/require.min.js\");\n",
       "                script.onload = function(){\n",
       "                    renderPlotly_78cc14cd341841f3a21cd96f3df17b38();\n",
       "                };\n",
       "                document.getElementsByTagName(\"head\")[0].appendChild(script);\n",
       "            }\n",
       "            else {\n",
       "                renderPlotly_78cc14cd341841f3a21cd96f3df17b38();\n",
       "            }\n",
       "</script>\n"
      ]
     },
     "metadata": {},
     "output_type": "display_data"
    }
   ],
   "metadata": {
    "dotnet_interactive": {
     "language": "fsharp"
    }
   }
  },
  {
   "cell_type": "code",
   "execution_count": null,
   "source": [
    "open Plotly.NET\n",
    "\n",
    "let years = [ \"2016\"; \"2017\"; \"2018\" ]\n",
    "\n",
    "[\n",
    "    Chart.Column(years, [500; 600; 700], Name=\"expenses\", Marker=Marker.init(Color=\"crimson\"))\n",
    "        |> GenericChart.mapTrace(fun t-> \n",
    "                        t.SetValue(\"base\",[-500;-600;-700])// wordaround\n",
    "                        t) \n",
    "\n",
    "    ;Chart.Column(years, [300; 400; 700], Name=\"revenue\", Marker=Marker.init(Color=\"lightslategrey\"))\n",
    "         |> GenericChart.mapTrace(fun t-> \n",
    "                            t.SetValue(\"base\",0)\n",
    "                            t)  // wordaround\n",
    "]\n",
    "|> Chart.Combine"
   ],
   "outputs": [],
   "metadata": {
    "dotnet_interactive": {
     "language": "fsharp"
    }
   }
  },
  {
   "cell_type": "markdown",
   "source": [
    "## Colored and Styled Bar Chart"
   ],
   "metadata": {}
  },
  {
   "cell_type": "code",
   "execution_count": null,
   "source": [
    "open Plotly.NET\n",
    "\n",
    "let years = [ for year in 1995..2013 do year ]\n",
    "\n",
    "let layout =\n",
    "    let obj = Layout()\n",
    "    obj?title <- \"US Export of Plastic Scrap\"\n",
    "    obj?barmode <- \"group\"\n",
    "    obj?bargap <- 0.15\n",
    "    obj?legend <- {|x = 0.0; y = 1.0; bgcolor = \"rgba(255, 255, 255, 0)\"; bordercolor = \"rgba(255, 255, 255, 0)\"|}\n",
    "    obj?bargroupgap <- 0.1\n",
    "    obj?yaxis <- {|title = \"USD (millions)\"; titlefont_size = 16; tickfont_size = 14|}\n",
    "    obj?xaxis_tickfont_size <- 14\n",
    "    obj\n",
    "\n",
    "[\n",
    "    Chart.Column(years, [219; 146; 112; 127; 124; 180; 236; 207; 236; 263; 350; 430; 474; 526; 488; 537; 500; 439], Name = \"Rest of the World\", Marker=Marker.init(Color = \"rgb(55, 83, 109)\"))\n",
    "    Chart.Column(years, [16; 13; 10; 11; 28; 37; 43; 55; 56; 88; 105; 156; 270; 299; 340; 403; 549; 499], Name = \"China\", Marker=Marker.init(Color = \"rgb(26, 118, 255)\"))\n",
    "]\n",
    "|> Chart.Combine\n",
    "|> Chart.withLayout(layout)\n"
   ],
   "outputs": [],
   "metadata": {
    "dotnet_interactive": {
     "language": "fsharp"
    }
   }
  },
  {
   "cell_type": "markdown",
   "source": [
    "## Bar Chart with Relative Barmode"
   ],
   "metadata": {}
  },
  {
   "cell_type": "code",
   "execution_count": null,
   "source": [
    "open Plotly.NET\n",
    "\n",
    "let x = [1; 2; 3; 4]\n",
    "\n",
    "let layout = \n",
    "    let obj = Layout()\n",
    "    obj?barmode <- \"relative\"// wordaround\n",
    "    obj?title_text <- \"Relative Barmode\"// wordaround\n",
    "    obj\n",
    "\n",
    "[\n",
    "    Chart.Column(keys=x, values= [1.; 4.; 9.; 16.])\n",
    "    Chart.Column(keys=x, values= [6.; -8.; -4.5; 8.])\n",
    "    Chart.Column(keys=x, values= [-15.; -3.; 4.5; -8.])\n",
    "    Chart.Column(keys=x, values= [-1.; 3.; -3.; -4.])\n",
    "]\n",
    "|> Chart.Combine\n",
    "|> Chart.withLayout(layout)"
   ],
   "outputs": [],
   "metadata": {
    "dotnet_interactive": {
     "language": "fsharp"
    }
   }
  },
  {
   "cell_type": "markdown",
   "source": [
    "## Bar Chart with Sorted or Ordered Categories"
   ],
   "metadata": {}
  },
  {
   "cell_type": "code",
   "execution_count": null,
   "source": [
    "open Plotly.NET\r\n",
    "\r\n",
    "let x = ['b'; 'a'; 'c'; 'd']\r\n",
    "\r\n",
    "let layout = \r\n",
    "    let obj = Layout()\r\n",
    "    obj?barmode <- \"stack\"// wordaround\r\n",
    "    obj?xaxis <- {|categoryorder = \"category ascending\"|} // wordaround\r\n",
    "    obj\r\n",
    "\r\n",
    "[\r\n",
    "    Chart.Column(x, [2.;5.;1.;9.], Name = \"Montreal\")\r\n",
    "    Chart.Column(x, [1.;4.;9.;16.], Name = \"Ottawa\")\r\n",
    "    Chart.Column(x, [6.;8.;4.5;8.], Name = \"Toronto\")\r\n",
    "]\r\n",
    "|> Chart.Combine\r\n",
    "|> Chart.withLayout(layout)"
   ],
   "outputs": [],
   "metadata": {
    "dotnet_interactive": {
     "language": "fsharp"
    }
   }
  },
  {
   "cell_type": "code",
   "execution_count": null,
   "source": [
    "open Plotly.NET\r\n",
    "\r\n",
    "let x = ['b'; 'a'; 'c'; 'd']\r\n",
    "\r\n",
    "let layout = \r\n",
    "    let obj = Layout()\r\n",
    "    obj?barmode <- \"stack\"// wordaround\r\n",
    "    obj?xaxis <- {|categoryorder = \"array\"; categoryarray = ['d';'a';'c';'b']|}// wordaround\r\n",
    "    obj\r\n",
    "\r\n",
    "[\r\n",
    "    Chart.Column(x, [2.;5.;1.;9.], Name = \"Montreal\")\r\n",
    "    Chart.Column(x, [1.;4.;9.;16.], Name = \"Ottawa\")\r\n",
    "    Chart.Column(x, [6.;8.;4.5;8.], Name = \"Toronto\")\r\n",
    "]\r\n",
    "|> Chart.Combine\r\n",
    "|> Chart.withLayout(layout)"
   ],
   "outputs": [],
   "metadata": {
    "dotnet_interactive": {
     "language": "fsharp"
    }
   }
  },
  {
   "cell_type": "code",
   "execution_count": null,
   "source": [
    "open Plotly.NET\r\n",
    "\r\n",
    "let x = ['b'; 'a'; 'c'; 'd']\r\n",
    "\r\n",
    "let layout = \r\n",
    "    let obj = Layout()\r\n",
    "    obj?barmode <- \"stack\" // wordaround\r\n",
    "    obj?xaxis <- {|categoryorder = \"total descending\"|} // wordaround\r\n",
    "    obj\r\n",
    "\r\n",
    "[\r\n",
    "    Chart.Column(x, [2.;5.;1.;9.], Name = \"Montreal\")\r\n",
    "    Chart.Column(x, [1.;4.;9.;16.], Name = \"Ottawa\")\r\n",
    "    Chart.Column(x, [6.;8.;4.5;8.], Name = \"Toronto\")\r\n",
    "]\r\n",
    "|> Chart.Combine\r\n",
    "|> Chart.withLayout(layout)"
   ],
   "outputs": [],
   "metadata": {
    "dotnet_interactive": {
     "language": "fsharp"
    }
   }
  },
  {
   "cell_type": "markdown",
   "source": [
    "# Horizontal Bar Charts\r\n",
    "\r\n",
    "## Bar Charts With Multicategory Axis Type"
   ],
   "metadata": {}
  },
  {
   "cell_type": "code",
   "execution_count": null,
   "source": [
    "open Plotly.NET\r\n",
    "\r\n",
    "let x :Object list = [[\"BB+\"; \"BB+\"; \"BB+\"; \"BB\"; \"BB\"; \"BB\"];[16; 17; 18; 16; 17; 18;]]\r\n",
    "\r\n",
    "let layout = \r\n",
    "    let obj = Layout()\r\n",
    "    obj?barmode <- \"relative\" // wordaround\r\n",
    "    obj\r\n",
    "\r\n",
    "[\r\n",
    "    Chart.Column(keys=[], values = [1;2;3;4;5;6])\r\n",
    "    Chart.Column(keys=[], values = [6;5;4;3;2;1])\r\n",
    "] \r\n",
    "|> Chart.Combine \r\n",
    "|> GenericChart.mapTrace(fun t-> \r\n",
    "                                t?x<-x // wordaround\r\n",
    "                                t) \r\n",
    "|> Chart.withLayout(layout)"
   ],
   "outputs": [],
   "metadata": {
    "dotnet_interactive": {
     "language": "fsharp"
    }
   }
  }
 ],
 "metadata": {
  "kernelspec": {
   "display_name": ".NET (C#)",
   "language": "C#",
   "name": ".net-csharp"
  },
  "language_info": {
   "file_extension": ".cs",
   "mimetype": "text/x-csharp",
   "name": "C#",
   "pygments_lexer": "csharp",
   "version": "9.0"
  },
  "orig_nbformat": 4
 },
 "nbformat": 4,
 "nbformat_minor": 2
}