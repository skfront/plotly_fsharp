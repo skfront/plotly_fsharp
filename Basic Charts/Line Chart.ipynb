{
 "cells": [
  {
   "cell_type": "code",
   "execution_count": null,
   "source": [
    "#r \"nuget: Plotly.NET, 2.0.0-preview.6\"\r\n",
    "#r \"nuget: newtonsoft.json\"\r\n",
    "#r \"nuget: Plotly.NET.Interactive, 2.0.0-preview.6\"\r\n",
    "open Plotly.NET\r\n",
    "open System\r\n",
    "\r\n",
    "\r\n",
    "[ for x in 1.0 .. 100.0 -> (x, x ** 2.0) ]\r\n",
    "    |> Chart.Line"
   ],
   "outputs": [
    {
     "data": {
      "text/html": [
       "<div><div></div><div></div><div><strong>Installed Packages</strong><ul><li><span>newtonsoft.json, 13.0.1</span></li><li><span>Plotly.NET, 2.0.0-preview.6</span></li><li><span>Plotly.NET.Interactive, 2.0.0-preview.6</span></li></ul></div></div>"
      ]
     },
     "metadata": {},
     "output_type": "display_data"
    },
    {
     "data": {
      "text/markdown": [
       "Loading extensions from `Plotly.NET.Interactive.dll`"
      ]
     },
     "metadata": {},
     "output_type": "display_data"
    },
    {
     "data": {
      "text/markdown": [
       "Added Kernel Extension including formatters for Plotly.NET charts."
      ]
     },
     "metadata": {},
     "output_type": "display_data"
    }
   ],
   "metadata": {
    "dotnet_interactive": {
     "language": "fsharp"
    }
   }
  },
  {
   "cell_type": "markdown",
   "source": [
    "#### Line Chart of Function X=X and Y=X power 2 (x^2)"
   ],
   "metadata": {}
  },
  {
   "cell_type": "markdown",
   "source": [
    "## x and y arrays are created on X-axis and Y-axis."
   ],
   "metadata": {}
  },
  {
   "cell_type": "code",
   "execution_count": null,
   "source": [
    "open Plotly.NET\r\n",
    "\r\n",
    "\r\n",
    "let x  = [1.; 2.; 3.; 4.; 5.; 6.; 7.; 8.; 9.; 10.; ]\r\n",
    "let y = [10.; 20.; 30.; 40.; 50.; 60.; 70.; 86.; 95.; 100.]\r\n",
    "\r\n",
    "Chart.Line(x,y,Name=\"line\",ShowMarkers=true,MarkerSymbol=StyleParam.Symbol.Square)    \r\n",
    "        |>Chart.withX_AxisStyle(\"X-axis\")\r\n",
    "        |>Chart.withY_AxisStyle(\"Y-axis\")\r\n",
    "        |> Chart.withLineStyle(Width=2.,Dash=StyleParam.DrawingStyle.Solid) "
   ],
   "outputs": [
    {
     "data": {
      "text/html": [
       "<div id=\"4193922d-eea0-4981-85eb-9be2015e0427\" style=\"width: 600px; height: 600px;\"><!-- Plotly chart will be drawn inside this DIV --></div>\r\n",
       "<script type=\"text/javascript\">\r\n",
       "\n",
       "            var renderPlotly_4193922deea0498185eb9be2015e0427 = function() {\n",
       "            var fsharpPlotlyRequire = requirejs.config({context:'fsharp-plotly',paths:{plotly:'https://cdn.plot.ly/plotly-latest.min'}}) || require;\n",
       "            fsharpPlotlyRequire(['plotly'], function(Plotly) {\r\n",
       "\n",
       "            var data = [{\"type\":\"scatter\",\"x\":[1.0,2.0,3.0,4.0,5.0,6.0,7.0,8.0,9.0,10.0],\"y\":[10.0,20.0,30.0,40.0,50.0,60.0,70.0,86.0,95.0,100.0],\"mode\":\"lines+markers\",\"line\":{\"width\":2.0,\"dash\":\"solid\"},\"name\":\"line\",\"marker\":{\"symbol\":1}}];\n",
       "            var layout = {\"xaxis\":{\"title\":\"X-axis\"},\"yaxis\":{\"title\":\"Y-axis\"}};\n",
       "            var config = {};\n",
       "            Plotly.newPlot('4193922d-eea0-4981-85eb-9be2015e0427', data, layout, config);\r\n",
       "});\n",
       "            };\n",
       "            if ((typeof(requirejs) !==  typeof(Function)) || (typeof(requirejs.config) !== typeof(Function))) {\n",
       "                var script = document.createElement(\"script\");\n",
       "                script.setAttribute(\"src\", \"https://cdnjs.cloudflare.com/ajax/libs/require.js/2.3.6/require.min.js\");\n",
       "                script.onload = function(){\n",
       "                    renderPlotly_4193922deea0498185eb9be2015e0427();\n",
       "                };\n",
       "                document.getElementsByTagName(\"head\")[0].appendChild(script);\n",
       "            }\n",
       "            else {\n",
       "                renderPlotly_4193922deea0498185eb9be2015e0427();\n",
       "            }\r\n",
       "</script>\r\n"
      ]
     },
     "metadata": {},
     "output_type": "display_data"
    }
   ],
   "metadata": {
    "dotnet_interactive": {
     "language": "fsharp"
    }
   }
  }
 ],
 "metadata": {
  "orig_nbformat": 4,
  "language_info": {
   "file_extension": ".cs",
   "mimetype": "text/x-csharp",
   "name": "C#",
   "pygments_lexer": "csharp",
   "version": "9.0"
  },
  "kernelspec": {
   "display_name": ".NET (C#)",
   "language": "C#",
   "name": ".net-csharp"
  }
 },
 "nbformat": 4,
 "nbformat_minor": 2
}