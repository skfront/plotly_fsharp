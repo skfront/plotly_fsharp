{
 "cells": [
  {
   "cell_type": "markdown",
   "source": [
    "## Libraries"
   ],
   "metadata": {}
  },
  {
   "cell_type": "code",
   "execution_count": null,
   "source": [
    "#r \"nuget: Plotly.NET, 2.0.0-preview.6\"\r\n",
    "#r \"nuget: newtonsoft.json\"\r\n",
    "#r \"nuget: Plotly.NET.Interactive, 2.0.0-preview.6\"\r\n",
    "open Plotly.NET\r\n",
    "open System\r\n",
    "\r\n",
    "\r\n",
    "let random = System.Random();\r\n",
    "let nextFloat (min, max) = (random.NextDouble() * (max - min) + min);"
   ],
   "outputs": [
    {
     "data": {
      "text/html": [
       "<div><div></div><div><strong>Installing Packages</strong><ul><li><span>newtonsoft.json....</span></li><li><span>Plotly.NET....</span></li><li><span>Plotly.NET.Interactive....</span></li></ul></div><div></div></div>"
      ]
     },
     "metadata": {},
     "output_type": "display_data"
    }
   ],
   "metadata": {
    "dotnet_interactive": {
     "language": "fsharp"
    }
   }
  },
  {
   "cell_type": "markdown",
   "source": [
    "## Line Plots with"
   ],
   "metadata": {}
  },
  {
   "cell_type": "code",
   "execution_count": null,
   "source": [
    "open Plotly.NET\r\n",
    "\r\n",
    "\r\n",
    "let x  = [1952;1957; 1962; 1967; 1972; 1977; 1982; 1987; 1992; 1997; 2002; 2007]\r\n",
    "let y = [68.75; 69.96; 71.3; 72.13; 72.88; 74.21; 75.76; 76.86; 77.95; 78.61; 79.77;80.653]\r\n",
    "\r\n",
    "Chart.Spline(x,y,Name=\"Canada\")    \r\n",
    "        |>Chart.withX_AxisStyle(\"year\")\r\n",
    "        |>Chart.withY_AxisStyle(\"lifeExp\")\r\n",
    "        |>Chart.withTitle(\"Life expectancy in Canada\")\r\n",
    "        |> Chart.withLineStyle(Width=2.,Dash=StyleParam.DrawingStyle.Solid) "
   ],
   "outputs": [
    {
     "output_type": "display_data",
     "data": {
      "text/html": [
       "<div id=\"9b2f3f5b-315d-47d3-8f8f-05d53018b336\" style=\"width: 600px; height: 600px;\"><!-- Plotly chart will be drawn inside this DIV --></div>\r\n",
       "<script type=\"text/javascript\">\r\n",
       "\n",
       "            var renderPlotly_9b2f3f5b315d47d38f8f05d53018b336 = function() {\n",
       "            var fsharpPlotlyRequire = requirejs.config({context:'fsharp-plotly',paths:{plotly:'https://cdn.plot.ly/plotly-latest.min'}}) || require;\n",
       "            fsharpPlotlyRequire(['plotly'], function(Plotly) {\r\n",
       "\n",
       "            var data = [{\"type\":\"scatter\",\"x\":[1952,1957,1962,1967,1972,1977,1982,1987,1992,1997,2002],\"y\":[68.75,69.96,71.3,72.13,72.88,74.21,75.76,76.86,77.95,78.61,79.77],\"mode\":\"lines\",\"name\":\"Canada\",\"line\":{\"width\":2.0,\"dash\":\"solid\"},\"marker\":{}}];\n",
       "            var layout = {\"xaxis\":{\"title\":\"year\"},\"yaxis\":{\"title\":\"lifeExp\"},\"title\":\"Life expectancy in Canada\"};\n",
       "            var config = {};\n",
       "            Plotly.newPlot('9b2f3f5b-315d-47d3-8f8f-05d53018b336', data, layout, config);\r\n",
       "});\n",
       "            };\n",
       "            if ((typeof(requirejs) !==  typeof(Function)) || (typeof(requirejs.config) !== typeof(Function))) {\n",
       "                var script = document.createElement(\"script\");\n",
       "                script.setAttribute(\"src\", \"https://cdnjs.cloudflare.com/ajax/libs/require.js/2.3.6/require.min.js\");\n",
       "                script.onload = function(){\n",
       "                    renderPlotly_9b2f3f5b315d47d38f8f05d53018b336();\n",
       "                };\n",
       "                document.getElementsByTagName(\"head\")[0].appendChild(script);\n",
       "            }\n",
       "            else {\n",
       "                renderPlotly_9b2f3f5b315d47d38f8f05d53018b336();\n",
       "            }\r\n",
       "</script>\r\n"
      ]
     },
     "metadata": {}
    }
   ],
   "metadata": {
    "dotnet_interactive": {
     "language": "fsharp"
    }
   }
  },
  {
   "cell_type": "markdown",
   "source": [
    "## MultiLine Chart\r\n",
    "## Line Plots with column encoding color"
   ],
   "metadata": {}
  },
  {
   "cell_type": "code",
   "execution_count": null,
   "source": [
    "open Plotly.NET\r\n",
    "\r\n",
    "\r\n",
    "let x  = [1952;1957; 1962; 1967; 1972; 1977; 1982; 1987; 1992; 1997; 2002; 2007]\r\n",
    "let y =  [69.12; 70.30; 70.93; 71.1; 71.93; 73.49; 74.74; 76.32; 77.56; 78.3; 80.37; 81.235;] //Aus\r\n",
    "\r\n",
    "let y1 = [69.39; 70.26; 71.24; 71.52; 71.89; 72.22; 73.84; 74.32; 76.33; 77.55; 79.11; 80.204;] //New Zealand\r\n",
    "\r\n",
    "[\r\n",
    "Chart.Line(x,y,Name=\"Australia\")    \r\n",
    "        |> Chart.withLineStyle(Width=2.,Dash=StyleParam.DrawingStyle.Solid) \r\n",
    "Chart.Line(x,y1,Name=\"New Zealand\")    \r\n",
    "        |> Chart.withLineStyle(Width=2.,Dash=StyleParam.DrawingStyle.Solid) \r\n",
    "] \r\n",
    "|> Chart.Combine\r\n",
    "|>Chart.withX_AxisStyle(\"year\")\r\n",
    "|>Chart.withY_AxisStyle(\"lifeExp\")"
   ],
   "outputs": [
    {
     "output_type": "display_data",
     "data": {
      "text/html": [
       "<div id=\"7ac5b22c-f1fa-4582-aeb0-8fe5a6152880\" style=\"width: 600px; height: 600px;\"><!-- Plotly chart will be drawn inside this DIV --></div>\r\n",
       "<script type=\"text/javascript\">\r\n",
       "\n",
       "            var renderPlotly_7ac5b22cf1fa4582aeb08fe5a6152880 = function() {\n",
       "            var fsharpPlotlyRequire = requirejs.config({context:'fsharp-plotly',paths:{plotly:'https://cdn.plot.ly/plotly-latest.min'}}) || require;\n",
       "            fsharpPlotlyRequire(['plotly'], function(Plotly) {\r\n",
       "\n",
       "            var data = [{\"type\":\"scatter\",\"x\":[1952,1957,1962,1967,1972,1977,1982,1987,1992,1997,2002,2007],\"y\":[69.12,70.3,70.93,71.1,71.93,73.49,74.74,76.32,77.56,78.3,80.37,81.235],\"mode\":\"lines\",\"line\":{\"width\":2.0,\"dash\":\"solid\"},\"name\":\"Australia\",\"marker\":{}},{\"type\":\"scatter\",\"x\":[1952,1957,1962,1967,1972,1977,1982,1987,1992,1997,2002,2007],\"y\":[69.39,70.26,71.24,71.52,71.89,72.22,73.84,74.32,76.33,77.55,79.11,80.204],\"mode\":\"lines\",\"line\":{\"width\":2.0,\"dash\":\"solid\"},\"name\":\"New Zealand\",\"marker\":{}}];\n",
       "            var layout = {\"xaxis\":{\"title\":\"year\"},\"yaxis\":{\"title\":\"lifeExp\"}};\n",
       "            var config = {};\n",
       "            Plotly.newPlot('7ac5b22c-f1fa-4582-aeb0-8fe5a6152880', data, layout, config);\r\n",
       "});\n",
       "            };\n",
       "            if ((typeof(requirejs) !==  typeof(Function)) || (typeof(requirejs.config) !== typeof(Function))) {\n",
       "                var script = document.createElement(\"script\");\n",
       "                script.setAttribute(\"src\", \"https://cdnjs.cloudflare.com/ajax/libs/require.js/2.3.6/require.min.js\");\n",
       "                script.onload = function(){\n",
       "                    renderPlotly_7ac5b22cf1fa4582aeb08fe5a6152880();\n",
       "                };\n",
       "                document.getElementsByTagName(\"head\")[0].appendChild(script);\n",
       "            }\n",
       "            else {\n",
       "                renderPlotly_7ac5b22cf1fa4582aeb08fe5a6152880();\n",
       "            }\r\n",
       "</script>\r\n"
      ]
     },
     "metadata": {}
    }
   ],
   "metadata": {
    "dotnet_interactive": {
     "language": "fsharp"
    }
   }
  },
  {
   "cell_type": "markdown",
   "source": [
    "## Data Order in Line Charts\r\n",
    "Unsorted Input"
   ],
   "metadata": {}
  },
  {
   "cell_type": "code",
   "execution_count": null,
   "source": [
    "open Plotly.NET\r\n",
    "\r\n",
    "\r\n",
    "let x  = [1.; 3.; 2.; 4.;]\r\n",
    "let y = [1.; 2.; 3.; 4.;]\r\n",
    "\r\n",
    "Chart.Line(x,y,Name=\"line\",ShowMarkers=true,MarkerSymbol=StyleParam.Symbol.Square)    \r\n",
    "        |>Chart.withX_AxisStyle(\"X\")\r\n",
    "        |>Chart.withY_AxisStyle(\"Y\")\r\n",
    "        |> Chart.withLineStyle(Width=2.,Dash=StyleParam.DrawingStyle.Solid) "
   ],
   "outputs": [
    {
     "output_type": "display_data",
     "data": {
      "text/html": [
       "<div id=\"24f8d4bf-c5b0-49f8-a15e-5be9586a2170\" style=\"width: 600px; height: 600px;\"><!-- Plotly chart will be drawn inside this DIV --></div>\r\n",
       "<script type=\"text/javascript\">\r\n",
       "\n",
       "            var renderPlotly_24f8d4bfc5b049f8a15e5be9586a2170 = function() {\n",
       "            var fsharpPlotlyRequire = requirejs.config({context:'fsharp-plotly',paths:{plotly:'https://cdn.plot.ly/plotly-latest.min'}}) || require;\n",
       "            fsharpPlotlyRequire(['plotly'], function(Plotly) {\r\n",
       "\n",
       "            var data = [{\"type\":\"scatter\",\"x\":[1.0,3.0,2.0,4.0],\"y\":[1.0,2.0,3.0,4.0],\"mode\":\"lines+markers\",\"line\":{\"width\":2.0,\"dash\":\"solid\"},\"name\":\"line\",\"marker\":{\"symbol\":1}}];\n",
       "            var layout = {\"xaxis\":{\"title\":\"X\"},\"yaxis\":{\"title\":\"Y\"}};\n",
       "            var config = {};\n",
       "            Plotly.newPlot('24f8d4bf-c5b0-49f8-a15e-5be9586a2170', data, layout, config);\r\n",
       "});\n",
       "            };\n",
       "            if ((typeof(requirejs) !==  typeof(Function)) || (typeof(requirejs.config) !== typeof(Function))) {\n",
       "                var script = document.createElement(\"script\");\n",
       "                script.setAttribute(\"src\", \"https://cdnjs.cloudflare.com/ajax/libs/require.js/2.3.6/require.min.js\");\n",
       "                script.onload = function(){\n",
       "                    renderPlotly_24f8d4bfc5b049f8a15e5be9586a2170();\n",
       "                };\n",
       "                document.getElementsByTagName(\"head\")[0].appendChild(script);\n",
       "            }\n",
       "            else {\n",
       "                renderPlotly_24f8d4bfc5b049f8a15e5be9586a2170();\n",
       "            }\r\n",
       "</script>\r\n"
      ]
     },
     "metadata": {}
    }
   ],
   "metadata": {
    "dotnet_interactive": {
     "language": "fsharp"
    }
   }
  },
  {
   "cell_type": "markdown",
   "source": [
    "Sorted Input"
   ],
   "metadata": {
    "dotnet_interactive": {
     "language": "fsharp"
    }
   }
  },
  {
   "cell_type": "code",
   "execution_count": null,
   "source": [
    "open Plotly.NET\r\n",
    "\r\n",
    "\r\n",
    "let x  = [|1.; 3.; 2.; 4.;|]\r\n",
    "let y = [|1.; 2.; 3.; 4.;|]\r\n",
    "let result= Array.sort x\r\n",
    "//printfn \"%f\" x.[i]\r\n",
    "Chart.Line(result,x,Name=\"line\",ShowMarkers=true,MarkerSymbol=StyleParam.Symbol.Square)    \r\n",
    "        |>Chart.withX_AxisStyle(\"X\")\r\n",
    "        |>Chart.withY_AxisStyle(\"Y\")\r\n",
    "        |> Chart.withLineStyle(Width=2.,Dash=StyleParam.DrawingStyle.Solid) "
   ],
   "outputs": [
    {
     "output_type": "display_data",
     "data": {
      "text/html": [
       "<div id=\"4e6929ee-5bd5-4490-b941-0a89214d5a64\" style=\"width: 600px; height: 600px;\"><!-- Plotly chart will be drawn inside this DIV --></div>\r\n",
       "<script type=\"text/javascript\">\r\n",
       "\n",
       "            var renderPlotly_4e6929ee5bd54490b9410a89214d5a64 = function() {\n",
       "            var fsharpPlotlyRequire = requirejs.config({context:'fsharp-plotly',paths:{plotly:'https://cdn.plot.ly/plotly-latest.min'}}) || require;\n",
       "            fsharpPlotlyRequire(['plotly'], function(Plotly) {\r\n",
       "\n",
       "            var data = [{\"type\":\"scatter\",\"x\":[1.0,2.0,3.0,4.0],\"y\":[1.0,3.0,2.0,4.0],\"mode\":\"lines+markers\",\"line\":{\"width\":2.0,\"dash\":\"solid\"},\"name\":\"line\",\"marker\":{\"symbol\":1}}];\n",
       "            var layout = {\"xaxis\":{\"title\":\"X\"},\"yaxis\":{\"title\":\"Y\"}};\n",
       "            var config = {};\n",
       "            Plotly.newPlot('4e6929ee-5bd5-4490-b941-0a89214d5a64', data, layout, config);\r\n",
       "});\n",
       "            };\n",
       "            if ((typeof(requirejs) !==  typeof(Function)) || (typeof(requirejs.config) !== typeof(Function))) {\n",
       "                var script = document.createElement(\"script\");\n",
       "                script.setAttribute(\"src\", \"https://cdnjs.cloudflare.com/ajax/libs/require.js/2.3.6/require.min.js\");\n",
       "                script.onload = function(){\n",
       "                    renderPlotly_4e6929ee5bd54490b9410a89214d5a64();\n",
       "                };\n",
       "                document.getElementsByTagName(\"head\")[0].appendChild(script);\n",
       "            }\n",
       "            else {\n",
       "                renderPlotly_4e6929ee5bd54490b9410a89214d5a64();\n",
       "            }\r\n",
       "</script>\r\n"
      ]
     },
     "metadata": {}
    }
   ],
   "metadata": {
    "dotnet_interactive": {
     "language": "fsharp"
    }
   }
  },
  {
   "cell_type": "markdown",
   "source": [
    "## Connected Scatterplots"
   ],
   "metadata": {}
  },
  {
   "cell_type": "code",
   "execution_count": null,
   "source": [
    "open Plotly.NET\r\n",
    "\r\n",
    "let labels  = [\"1952\";\"1957\"; \"1962\"; \"1967\"; \"1972\"; \"1977\"; \"1982\"; \"1987\"; \"1992\"; \"1997\"; \"2002\"; \"2007\"]\r\n",
    "let x1 =  [47.622; 49.618; 51.52; 53.298; 56.024; 59.319; 61.484; 63.622; 62.745; 52.556; 46.634; 50.728;] //Botswana\r\n",
    "let x2 =  [68.75;69.96;71.3;72.13;72.88;74.21;75.76;76.86;77.95;78.61;79.77;80.653] //Canada\r\n",
    "let y1 =  [851.2411; 918.2325; 983.654; 1214.709; 2263.611; 3214.858; 4551.142; 6205.884; 7954.112; 8647.142; 11003.61; 12569.85;] //Botswana\r\n",
    "let y2 =  [11367.86;12489.95;13462.49;16076.59;18970.57;22090.88;22898.79;26626.52;26342.88;28954.93;33328.97;36319.24;] //Canada\r\n",
    "[\r\n",
    "Chart.Line(x1,y1,Name=\"Botswana\",\r\n",
    "        Labels=labels,\r\n",
    "        TextPosition=StyleParam.TextPosition.BottomRight,ShowMarkers=true,MarkerSymbol=StyleParam.Symbol.Square)\r\n",
    "Chart.Line(x2,y2,Name=\"Canada\",\r\n",
    "        Labels=labels,\r\n",
    "        TextPosition=StyleParam.TextPosition.BottomRight,ShowMarkers=true,MarkerSymbol=StyleParam.Symbol.Square\r\n",
    "    )\r\n",
    "]\r\n",
    "|>Chart.Combine\r\n",
    "|>Chart.withX_AxisStyle(\"lifeExp\")\r\n",
    "|>Chart.withY_AxisStyle(\"gdpPercap\")"
   ],
   "outputs": [
    {
     "output_type": "display_data",
     "data": {
      "text/html": [
       "<div id=\"9130aaf4-387e-403d-a916-6e7a66fc9724\" style=\"width: 600px; height: 600px;\"><!-- Plotly chart will be drawn inside this DIV --></div>\r\n",
       "<script type=\"text/javascript\">\r\n",
       "\n",
       "            var renderPlotly_9130aaf4387e403da9166e7a66fc9724 = function() {\n",
       "            var fsharpPlotlyRequire = requirejs.config({context:'fsharp-plotly',paths:{plotly:'https://cdn.plot.ly/plotly-latest.min'}}) || require;\n",
       "            fsharpPlotlyRequire(['plotly'], function(Plotly) {\r\n",
       "\n",
       "            var data = [{\"type\":\"scatter\",\"x\":[47.622,49.618,51.52,53.298,56.024,59.319,61.484,63.622,62.745,52.556,46.634,50.728],\"y\":[851.2411,918.2325,983.654,1214.709,2263.611,3214.858,4551.142,6205.884,7954.112,8647.142,11003.61,12569.85],\"mode\":\"lines+markers+text\",\"line\":{},\"name\":\"Botswana\",\"marker\":{\"symbol\":1},\"text\":[\"1952\",\"1957\",\"1962\",\"1967\",\"1972\",\"1977\",\"1982\",\"1987\",\"1992\",\"1997\",\"2002\",\"2007\"],\"textposition\":\"bottom right\"},{\"type\":\"scatter\",\"x\":[68.75,69.96,71.3,72.13,72.88,74.21,75.76,76.86,77.95,78.61,79.77,80.653],\"y\":[11367.86,12489.95,13462.49,16076.59,18970.57,22090.88,22898.79,26626.52,26342.88,28954.93,33328.97,36319.24],\"mode\":\"lines+markers+text\",\"line\":{},\"name\":\"Canada\",\"marker\":{\"symbol\":1},\"text\":[\"1952\",\"1957\",\"1962\",\"1967\",\"1972\",\"1977\",\"1982\",\"1987\",\"1992\",\"1997\",\"2002\",\"2007\"],\"textposition\":\"bottom right\"}];\n",
       "            var layout = {\"xaxis\":{\"title\":\"lifeExp\"},\"yaxis\":{\"title\":\"gdpPercap\"}};\n",
       "            var config = {};\n",
       "            Plotly.newPlot('9130aaf4-387e-403d-a916-6e7a66fc9724', data, layout, config);\r\n",
       "});\n",
       "            };\n",
       "            if ((typeof(requirejs) !==  typeof(Function)) || (typeof(requirejs.config) !== typeof(Function))) {\n",
       "                var script = document.createElement(\"script\");\n",
       "                script.setAttribute(\"src\", \"https://cdnjs.cloudflare.com/ajax/libs/require.js/2.3.6/require.min.js\");\n",
       "                script.onload = function(){\n",
       "                    renderPlotly_9130aaf4387e403da9166e7a66fc9724();\n",
       "                };\n",
       "                document.getElementsByTagName(\"head\")[0].appendChild(script);\n",
       "            }\n",
       "            else {\n",
       "                renderPlotly_9130aaf4387e403da9166e7a66fc9724();\n",
       "            }\r\n",
       "</script>\r\n"
      ]
     },
     "metadata": {}
    }
   ],
   "metadata": {
    "dotnet_interactive": {
     "language": "fsharp"
    }
   }
  },
  {
   "cell_type": "markdown",
   "source": [
    "## Line charts with markers\r\n",
    "\r\n",
    "The markers argument can be set to True to show markers on lines."
   ],
   "metadata": {}
  },
  {
   "cell_type": "code",
   "execution_count": null,
   "source": [
    "open Plotly.NET\r\n",
    "\r\n",
    "\r\n",
    "let x  = [1952;1957; 1962; 1967; 1972; 1977; 1982; 1987; 1992; 1997; 2002; 2007]\r\n",
    "let y =  [69.12; 70.30; 70.93; 71.1; 71.93; 73.49; 74.74; 76.32; 77.56; 78.3; 80.37; 81.235;] //Aus\r\n",
    "\r\n",
    "let y1 = [69.39; 70.26; 71.24; 71.52; 71.89; 72.22; 73.84; 74.32; 76.33; 77.55; 79.11; 80.204;] //New Zealand\r\n",
    "\r\n",
    "[\r\n",
    "Chart.Line(x,y,Name=\"Australia\",ShowMarkers=true)    \r\n",
    "        |> Chart.withLineStyle(Width=2.,Dash=StyleParam.DrawingStyle.Solid) \r\n",
    "Chart.Line(x,y1,Name=\"New Zealand\",ShowMarkers=true)    \r\n",
    "        |> Chart.withLineStyle(Width=2.,Dash=StyleParam.DrawingStyle.Solid) \r\n",
    "] \r\n",
    "|> Chart.Combine\r\n",
    "|>Chart.withX_AxisStyle(\"year\")\r\n",
    "|>Chart.withY_AxisStyle(\"lifeExp\")"
   ],
   "outputs": [
    {
     "output_type": "display_data",
     "data": {
      "text/html": [
       "<div id=\"dc36fad0-f0ac-4e91-8a36-c55b2061f074\" style=\"width: 600px; height: 600px;\"><!-- Plotly chart will be drawn inside this DIV --></div>\r\n",
       "<script type=\"text/javascript\">\r\n",
       "\n",
       "            var renderPlotly_dc36fad0f0ac4e918a36c55b2061f074 = function() {\n",
       "            var fsharpPlotlyRequire = requirejs.config({context:'fsharp-plotly',paths:{plotly:'https://cdn.plot.ly/plotly-latest.min'}}) || require;\n",
       "            fsharpPlotlyRequire(['plotly'], function(Plotly) {\r\n",
       "\n",
       "            var data = [{\"type\":\"scatter\",\"x\":[1952,1957,1962,1967,1972,1977,1982,1987,1992,1997,2002,2007],\"y\":[69.12,70.3,70.93,71.1,71.93,73.49,74.74,76.32,77.56,78.3,80.37,81.235],\"mode\":\"lines+markers\",\"line\":{\"width\":2.0,\"dash\":\"solid\"},\"name\":\"Australia\",\"marker\":{}},{\"type\":\"scatter\",\"x\":[1952,1957,1962,1967,1972,1977,1982,1987,1992,1997,2002,2007],\"y\":[69.39,70.26,71.24,71.52,71.89,72.22,73.84,74.32,76.33,77.55,79.11,80.204],\"mode\":\"lines+markers\",\"line\":{\"width\":2.0,\"dash\":\"solid\"},\"name\":\"New Zealand\",\"marker\":{}}];\n",
       "            var layout = {\"xaxis\":{\"title\":\"year\"},\"yaxis\":{\"title\":\"lifeExp\"}};\n",
       "            var config = {};\n",
       "            Plotly.newPlot('dc36fad0-f0ac-4e91-8a36-c55b2061f074', data, layout, config);\r\n",
       "});\n",
       "            };\n",
       "            if ((typeof(requirejs) !==  typeof(Function)) || (typeof(requirejs.config) !== typeof(Function))) {\n",
       "                var script = document.createElement(\"script\");\n",
       "                script.setAttribute(\"src\", \"https://cdnjs.cloudflare.com/ajax/libs/require.js/2.3.6/require.min.js\");\n",
       "                script.onload = function(){\n",
       "                    renderPlotly_dc36fad0f0ac4e918a36c55b2061f074();\n",
       "                };\n",
       "                document.getElementsByTagName(\"head\")[0].appendChild(script);\n",
       "            }\n",
       "            else {\n",
       "                renderPlotly_dc36fad0f0ac4e918a36c55b2061f074();\n",
       "            }\r\n",
       "</script>\r\n"
      ]
     },
     "metadata": {}
    }
   ],
   "metadata": {
    "dotnet_interactive": {
     "language": "fsharp"
    }
   }
  },
  {
   "cell_type": "markdown",
   "source": [
    "The symbol argument can be used to map a data field to the marker symbol."
   ],
   "metadata": {}
  },
  {
   "cell_type": "code",
   "execution_count": null,
   "source": [
    "open Plotly.NET\r\n",
    "\r\n",
    "\r\n",
    "let x  = [1952;1957; 1962; 1967; 1972; 1977; 1982; 1987; 1992; 1997; 2002; 2007]\r\n",
    "let y =  [69.12; 70.30; 70.93; 71.1; 71.93; 73.49; 74.74; 76.32; 77.56; 78.3; 80.37; 81.235;] //Aus\r\n",
    "\r\n",
    "let y1 = [69.39; 70.26; 71.24; 71.52; 71.89; 72.22; 73.84; 74.32; 76.33; 77.55; 79.11; 80.204;] //New Zealand\r\n",
    "\r\n",
    "[\r\n",
    "Chart.Line(x,y,Name=\"Australia\",ShowMarkers=true,MarkerSymbol=StyleParam.Symbol.Square)    \r\n",
    "        |> Chart.withLineStyle(Width=2.,Dash=StyleParam.DrawingStyle.Solid) \r\n",
    "Chart.Line(x,y1,Name=\"New Zealand\",ShowMarkers=true,MarkerSymbol=StyleParam.Symbol.Square)    \r\n",
    "        |> Chart.withLineStyle(Width=2.,Dash=StyleParam.DrawingStyle.Solid) \r\n",
    "] \r\n",
    "|> Chart.Combine\r\n",
    "|>Chart.withX_AxisStyle(\"year\")\r\n",
    "|>Chart.withY_AxisStyle(\"lifeExp\")"
   ],
   "outputs": [
    {
     "output_type": "display_data",
     "data": {
      "text/html": [
       "<div id=\"921347dd-ab37-4223-9781-e85e51bcd1e7\" style=\"width: 600px; height: 600px;\"><!-- Plotly chart will be drawn inside this DIV --></div>\r\n",
       "<script type=\"text/javascript\">\r\n",
       "\n",
       "            var renderPlotly_921347ddab3742239781e85e51bcd1e7 = function() {\n",
       "            var fsharpPlotlyRequire = requirejs.config({context:'fsharp-plotly',paths:{plotly:'https://cdn.plot.ly/plotly-latest.min'}}) || require;\n",
       "            fsharpPlotlyRequire(['plotly'], function(Plotly) {\r\n",
       "\n",
       "            var data = [{\"type\":\"scatter\",\"x\":[1952,1957,1962,1967,1972,1977,1982,1987,1992,1997,2002,2007],\"y\":[69.12,70.3,70.93,71.1,71.93,73.49,74.74,76.32,77.56,78.3,80.37,81.235],\"mode\":\"lines+markers\",\"line\":{\"width\":2.0,\"dash\":\"solid\"},\"name\":\"Australia\",\"marker\":{\"symbol\":1}},{\"type\":\"scatter\",\"x\":[1952,1957,1962,1967,1972,1977,1982,1987,1992,1997,2002,2007],\"y\":[69.39,70.26,71.24,71.52,71.89,72.22,73.84,74.32,76.33,77.55,79.11,80.204],\"mode\":\"lines+markers\",\"line\":{\"width\":2.0,\"dash\":\"solid\"},\"name\":\"New Zealand\",\"marker\":{\"symbol\":1}}];\n",
       "            var layout = {\"xaxis\":{\"title\":\"year\"},\"yaxis\":{\"title\":\"lifeExp\"}};\n",
       "            var config = {};\n",
       "            Plotly.newPlot('921347dd-ab37-4223-9781-e85e51bcd1e7', data, layout, config);\r\n",
       "});\n",
       "            };\n",
       "            if ((typeof(requirejs) !==  typeof(Function)) || (typeof(requirejs.config) !== typeof(Function))) {\n",
       "                var script = document.createElement(\"script\");\n",
       "                script.setAttribute(\"src\", \"https://cdnjs.cloudflare.com/ajax/libs/require.js/2.3.6/require.min.js\");\n",
       "                script.onload = function(){\n",
       "                    renderPlotly_921347ddab3742239781e85e51bcd1e7();\n",
       "                };\n",
       "                document.getElementsByTagName(\"head\")[0].appendChild(script);\n",
       "            }\n",
       "            else {\n",
       "                renderPlotly_921347ddab3742239781e85e51bcd1e7();\n",
       "            }\r\n",
       "</script>\r\n"
      ]
     },
     "metadata": {}
    }
   ],
   "metadata": {
    "dotnet_interactive": {
     "language": "fsharp"
    }
   }
  },
  {
   "cell_type": "markdown",
   "source": [
    "## Line Plot with go.Scatter\r\n",
    "Simple Line Plot"
   ],
   "metadata": {}
  },
  {
   "cell_type": "code",
   "execution_count": null,
   "source": [
    "let xs = [0. .. 9.]\r\n",
    "\r\n",
    "let ys = xs |> Seq.map (fun x-> x ** 2.)\r\n",
    "\r\n",
    "Chart.Scatter(xs, ys , StyleParam.Mode.Lines_Markers)"
   ],
   "outputs": [
    {
     "output_type": "display_data",
     "data": {
      "text/html": [
       "<div id=\"96385607-332f-4469-9cf7-9caa7b364d1a\" style=\"width: 600px; height: 600px;\"><!-- Plotly chart will be drawn inside this DIV --></div>\r\n",
       "<script type=\"text/javascript\">\r\n",
       "\n",
       "            var renderPlotly_96385607332f44699cf79caa7b364d1a = function() {\n",
       "            var fsharpPlotlyRequire = requirejs.config({context:'fsharp-plotly',paths:{plotly:'https://cdn.plot.ly/plotly-latest.min'}}) || require;\n",
       "            fsharpPlotlyRequire(['plotly'], function(Plotly) {\r\n",
       "\n",
       "            var data = [{\"type\":\"scatter\",\"x\":[0.0,1.0,2.0,3.0,4.0,5.0,6.0,7.0,8.0,9.0],\"y\":[0.0,1.0,4.0,9.0,16.0,25.0,36.0,49.0,64.0,81.0],\"mode\":\"lines+markers\",\"line\":{},\"marker\":{}}];\n",
       "            var layout = {};\n",
       "            var config = {};\n",
       "            Plotly.newPlot('96385607-332f-4469-9cf7-9caa7b364d1a', data, layout, config);\r\n",
       "});\n",
       "            };\n",
       "            if ((typeof(requirejs) !==  typeof(Function)) || (typeof(requirejs.config) !== typeof(Function))) {\n",
       "                var script = document.createElement(\"script\");\n",
       "                script.setAttribute(\"src\", \"https://cdnjs.cloudflare.com/ajax/libs/require.js/2.3.6/require.min.js\");\n",
       "                script.onload = function(){\n",
       "                    renderPlotly_96385607332f44699cf79caa7b364d1a();\n",
       "                };\n",
       "                document.getElementsByTagName(\"head\")[0].appendChild(script);\n",
       "            }\n",
       "            else {\n",
       "                renderPlotly_96385607332f44699cf79caa7b364d1a();\n",
       "            }\r\n",
       "</script>\r\n"
      ]
     },
     "metadata": {}
    }
   ],
   "metadata": {
    "dotnet_interactive": {
     "language": "fsharp"
    }
   }
  },
  {
   "cell_type": "markdown",
   "source": [
    "Line Plot Modes"
   ],
   "metadata": {}
  },
  {
   "cell_type": "code",
   "execution_count": null,
   "source": [
    "let n = 100;\r\n",
    "let series = [0..n]\r\n",
    "\r\n",
    "\r\n",
    "let generate() = series |> Seq.map (fun _-> nextFloat(-2., 2.))\r\n",
    "let random_xs =  series\r\n",
    "let random_ys0 = generate () |> Seq.map(fun x-> x + 5.)\r\n",
    "let random_ys1 = generate ()\r\n",
    "let random_ys2 = generate () |> Seq.map(fun x-> x - 5.)\r\n",
    "\r\n",
    "// Create traces\r\n",
    "[\r\n",
    "    Chart.Scatter(random_xs, random_ys0, StyleParam.Mode.Lines, Name=\"lines\");\r\n",
    "    Chart.Scatter(random_xs, random_ys1, StyleParam.Mode.Lines_Markers, Name=\"lines+markers\");\r\n",
    "    Chart.Scatter(random_xs, random_ys2, StyleParam.Mode.Markers, Name=\"markers\");\r\n",
    "] |> Chart.Combine"
   ],
   "outputs": [
    {
     "output_type": "display_data",
     "data": {
      "text/html": [
       "<div id=\"4b78c908-1525-4255-9ee4-dcce304915da\" style=\"width: 600px; height: 600px;\"><!-- Plotly chart will be drawn inside this DIV --></div>\r\n",
       "<script type=\"text/javascript\">\r\n",
       "\n",
       "            var renderPlotly_4b78c908152542559ee4dcce304915da = function() {\n",
       "            var fsharpPlotlyRequire = requirejs.config({context:'fsharp-plotly',paths:{plotly:'https://cdn.plot.ly/plotly-latest.min'}}) || require;\n",
       "            fsharpPlotlyRequire(['plotly'], function(Plotly) {\r\n",
       "\n",
       "            var data = [{\"type\":\"scatter\",\"x\":[0,1,2,3,4,5,6,7,8,9,10,11,12,13,14,15,16,17,18,19,20,21,22,23,24,25,26,27,28,29,30,31,32,33,34,35,36,37,38,39,40,41,42,43,44,45,46,47,48,49,50,51,52,53,54,55,56,57,58,59,60,61,62,63,64,65,66,67,68,69,70,71,72,73,74,75,76,77,78,79,80,81,82,83,84,85,86,87,88,89,90,91,92,93,94,95,96,97,98,99,100],\"y\":[3.8051247954392453,6.044664585518029,4.528515320983024,6.643217239362754,5.873955532384084,6.844314711095912,3.3433623445887877,4.511478715348746,4.962832632457294,4.522383848914124,4.360359108708966,6.289582153451434,5.453967142130233,4.698503586323235,5.103050126742129,3.4046247212237795,4.992754221890473,5.89787330054579,3.7696832701422665,6.182123999661824,5.321215526350409,5.908358416943047,6.015267762828277,5.120171043146481,3.7534453928253826,6.67479209400471,3.9131132685174763,4.183123874097655,5.804495667482026,3.3396585901918163,5.969927846905742,4.672847234491654,6.5484628917409395,3.4571917915983086,4.068035241713764,5.456123403485922,6.397493272739227,4.17930845971187,6.9466792437930955,4.825184100226119,6.239705668408287,3.1014714614029373,3.5753988756683652,4.031238036710414,5.761812978778879,5.316158191448151,3.9302147053788485,4.40447306884661,4.472049589023017,6.160475154947711,6.15362838616298,5.168668669727011,3.1131341048111834,3.919144558216978,3.9433815222901205,4.896766378496199,3.0293968226897516,6.408344277836543,5.889771846537371,6.199163438379375,5.931201442578436,6.160238470491133,5.70698304786672,4.623174042265478,5.552456002008382,6.6875118742173125,6.7411192617104945,4.996775350531924,3.630468344609471,6.6469267232562075,4.007131448484553,3.8134457621786026,5.951194056752694,5.944499169916147,6.942418331253537,5.219744064947471,5.332959541274681,4.984029726117863,6.358358064367603,5.437287201377231,5.744577388625861,6.508640199670866,6.711074285074638,6.644020512534315,4.186030204028837,3.8012591771787307,4.55971312968047,5.629318333523962,6.513810269308188,6.1712688632175645,5.426726580796171,6.989148994902684,5.289536613174498,3.747515805413721,5.893982657647683,3.079467197917154,4.394488413536218,5.952224833402887,5.478782034702032,6.074301104561566,5.575038929737657],\"mode\":\"lines\",\"name\":\"lines\",\"line\":{},\"marker\":{}},{\"type\":\"scatter\",\"x\":[0,1,2,3,4,5,6,7,8,9,10,11,12,13,14,15,16,17,18,19,20,21,22,23,24,25,26,27,28,29,30,31,32,33,34,35,36,37,38,39,40,41,42,43,44,45,46,47,48,49,50,51,52,53,54,55,56,57,58,59,60,61,62,63,64,65,66,67,68,69,70,71,72,73,74,75,76,77,78,79,80,81,82,83,84,85,86,87,88,89,90,91,92,93,94,95,96,97,98,99,100],\"y\":[0.9334393548469242,-1.2259952757628612,-0.1748771342331903,0.1533437064631582,0.34018262398437704,1.2174746129743172,-0.8313650651049638,-1.0232737730365589,0.7236374573426496,1.5638068372215175,0.04536709657188842,-1.9500137865310598,-1.5475153548398592,-1.5454139502464859,1.4225612429075696,1.4491641854164956,1.0629625353324053,-1.562856161763359,-0.24880317517034856,0.1277987445368427,-0.8881990718134674,0.48296508122373627,-0.5408005186080935,-0.779799857539963,-0.9820175464181311,0.5239091490041043,0.20367825133897277,-1.9494834877315366,1.8629511333363835,-1.1747443485887463,1.380734707871794,1.5052476914158315,-1.7159430401939635,1.8622482716395745,1.8111380337789367,0.7346354754337274,-0.11404858069217227,-0.509323193928843,0.8458475800444591,-0.4162154357955863,-1.6089218052145662,-0.3474078934394791,-1.2098271880344615,1.607462025996047,-1.618640515775718,1.939162781433744,-0.16294803198564245,-1.7070702443397932,1.4714214147401141,-1.3696969874993419,0.33152587820381196,0.5150809951662465,-1.2724147901276195,-1.0534976399752765,-0.5367619984488758,-1.5495257263768119,1.3148052428452321,-1.3950772766932273,-0.8646387471187109,1.8162734749802731,-0.9862036383646557,-0.8818815773734272,-0.8862249063729424,-0.10161819406860428,-1.8169278706502765,0.5401194051560569,1.7659292536629034,-1.4097636264794335,-1.3565519840254225,-1.312074232526158,-0.4367872338913321,-0.4277142707387518,-0.4087037418078183,-1.8325877393747623,-0.26327945024859134,1.4592088216260115,-0.3072077307418024,-0.14826254460414057,-1.161159341764245,-0.9211803278518749,-1.3131428190102534,-0.08925150432123408,-1.420904902471651,1.2326481208357252,0.4937297732074417,-1.134346287294452,0.7776624815434507,1.3375545997813134,0.39901027008845036,1.3606637601557483,1.4198302325884953,-0.7189713039989449,-1.644684446810132,1.0295741050641865,-1.4300117974309305,1.272959772158861,-1.4611829870665367,0.891791006034143,1.4243898966463235,-0.15875992093177516,-1.8267664722291597],\"mode\":\"lines+markers\",\"name\":\"lines+markers\",\"line\":{},\"marker\":{}},{\"type\":\"scatter\",\"x\":[0,1,2,3,4,5,6,7,8,9,10,11,12,13,14,15,16,17,18,19,20,21,22,23,24,25,26,27,28,29,30,31,32,33,34,35,36,37,38,39,40,41,42,43,44,45,46,47,48,49,50,51,52,53,54,55,56,57,58,59,60,61,62,63,64,65,66,67,68,69,70,71,72,73,74,75,76,77,78,79,80,81,82,83,84,85,86,87,88,89,90,91,92,93,94,95,96,97,98,99,100],\"y\":[-5.753184405506209,-3.3505182603143706,-4.216504352733727,-3.9329097536080098,-6.240759851057437,-6.076215263025936,-6.439827050752857,-3.7902181897266853,-4.995970820074888,-4.242317995635009,-5.536932212550627,-3.2339179349289826,-6.943458419266836,-3.8705837060094734,-3.8969521340434214,-6.460976674901776,-5.118873027208668,-3.595347967276046,-3.6825815833558244,-3.237543076387394,-6.5716253461184095,-4.8087738965678835,-5.717215744181171,-5.731904465114654,-6.717815929892387,-5.7830298239286195,-4.438277846872005,-3.4025759419438315,-4.536239222407453,-4.079608191307452,-4.198998736775945,-4.572652441250464,-4.00239942083247,-6.094413855622715,-3.5599584135040447,-4.7387332440068635,-5.204400549737923,-6.834442125556265,-5.265510375735122,-3.058131024268517,-4.782510467703692,-6.872227210492001,-6.605018909836662,-6.397018244209242,-5.043237554860878,-5.485053369069963,-6.701226027543296,-3.09984218892634,-5.533059663387509,-4.266063552939363,-4.342309959857869,-3.5128610266898113,-6.893028519997852,-4.921216844544381,-3.25514112611075,-3.944410508938325,-4.6333025161332,-5.4845998876190745,-4.215093823715622,-3.4577300271288167,-4.637937416153931,-6.037251108809025,-6.253978967319233,-3.916362628767436,-3.0433192588590643,-3.964279771300163,-6.231518514096512,-3.849044563644121,-3.3106252925054287,-6.158218890036558,-4.256576125163853,-5.284430901652403,-5.329837591540924,-3.6244505590873075,-5.455032608683702,-6.699398135626408,-5.203754986731221,-6.320197499971929,-3.688666910253776,-4.232762560822424,-6.081803796385324,-4.338435657945665,-4.869516278556323,-3.27017566946809,-6.737298231449582,-3.6861377100861343,-4.679623921252611,-6.0811825762880884,-5.839272729511965,-6.6155479045657195,-3.1054307278736637,-6.719800662118849,-5.619348301840643,-4.807780348606306,-5.420193608114586,-5.745259358894666,-3.6182482431727685,-5.6886562810692265,-6.353698985350178,-4.078957783560714,-6.2535348549734495],\"mode\":\"markers\",\"name\":\"markers\",\"line\":{},\"marker\":{}}];\n",
       "            var layout = {};\n",
       "            var config = {};\n",
       "            Plotly.newPlot('4b78c908-1525-4255-9ee4-dcce304915da', data, layout, config);\r\n",
       "});\n",
       "            };\n",
       "            if ((typeof(requirejs) !==  typeof(Function)) || (typeof(requirejs.config) !== typeof(Function))) {\n",
       "                var script = document.createElement(\"script\");\n",
       "                script.setAttribute(\"src\", \"https://cdnjs.cloudflare.com/ajax/libs/require.js/2.3.6/require.min.js\");\n",
       "                script.onload = function(){\n",
       "                    renderPlotly_4b78c908152542559ee4dcce304915da();\n",
       "                };\n",
       "                document.getElementsByTagName(\"head\")[0].appendChild(script);\n",
       "            }\n",
       "            else {\n",
       "                renderPlotly_4b78c908152542559ee4dcce304915da();\n",
       "            }\r\n",
       "</script>\r\n"
      ]
     },
     "metadata": {}
    }
   ],
   "metadata": {
    "dotnet_interactive": {
     "language": "fsharp"
    }
   }
  },
  {
   "cell_type": "markdown",
   "source": [
    "## Style Line Plots"
   ],
   "metadata": {}
  },
  {
   "cell_type": "code",
   "execution_count": null,
   "source": [
    "\r\n",
    "//  Add data\r\n",
    "let month = [\"January\";\"February\";\"March\";\"April\";\"May\";\"June\";\"July\";\"August\";\"September\";\"October\";\"November\";\"December\"]\r\n",
    "let high_2000 = [32.5; 37.6; 49.9; 53.0; 69.1; 75.4; 76.5; 76.6; 70.7; 60.6; 45.1; 29.3]\r\n",
    "let low_2000 = [13.8; 22.3; 32.5; 37.2; 49.9; 56.1; 57.7; 58.3; 51.2; 42.8; 31.6; 15.9]\r\n",
    "let high_2007 = [36.5; 26.6; 43.6; 52.3; 71.5; 81.4; 80.5; 82.2; 76.0; 67.3; 46.1; 35.0]\r\n",
    "let low_2007 = [23.6; 14.0; 27.0; 36.8; 47.6; 57.7; 58.9; 61.2; 53.3; 48.5; 31.0; 23.6]\r\n",
    "let high_2014 = [28.8; 28.5; 37.0; 56.8; 69.7; 79.7; 78.5; 77.8; 74.1; 62.6; 45.3; 39.9]\r\n",
    "let low_2014 = [12.7; 14.3; 18.6; 35.5; 49.9; 58.0; 60.0; 58.6; 51.7; 45.2; 32.2; 29.1]\r\n",
    "\r\n",
    "\r\n",
    "// Create and style traces\r\n",
    "let high2014Chart = Chart.Scatter(month, high_2014, StyleParam.Mode.Lines_Markers,  Name=\"High 2014\")\r\n",
    "                        |> Chart.withLineStyle(Color = \"firebrick\", Width=4.)\r\n",
    "\r\n",
    "let low2014Chart = Chart.Scatter(month, low_2014, StyleParam.Mode.Lines_Markers,  Name=\"Low 2014\")\r\n",
    "                        |> Chart.withLineStyle(Color = \"royalblue\", Width=4.)\r\n",
    "\r\n",
    "let high2007Chart = Chart.Scatter(month, high_2007, StyleParam.Mode.Lines_Markers,  Name=\"High 2007\")\r\n",
    "                        |> Chart.withLineStyle(Color = \"firebrick\", Width=4., Dash=StyleParam.DrawingStyle.Dash)  \r\n",
    "                        //dash options include 'dash', 'dot', and 'dashdot'\r\n",
    "\r\n",
    "let low2007Chart = Chart.Scatter(month, low_2007, StyleParam.Mode.Lines_Markers,  Name=\"Low 2007\")\r\n",
    "                        |> Chart.withLineStyle(Color = \"royalblue\", Width=4., Dash=StyleParam.DrawingStyle.Dash)  \r\n",
    "\r\n",
    "\r\n",
    "let high2000Chart = Chart.Scatter(month, high_2000, StyleParam.Mode.Lines_Markers,  Name=\"High 2000\")\r\n",
    "                        |> Chart.withLineStyle(Color = \"firebrick\", Width=4., Dash=StyleParam.DrawingStyle.Dot)\r\n",
    "\r\n",
    "let low2000Chart = Chart.Scatter(month, low_2000, StyleParam.Mode.Lines_Markers,  Name=\"Low 2000\")\r\n",
    "                        |> Chart.withLineStyle(Color = \"royalblue\", Width=4., Dash=StyleParam.DrawingStyle.Dot)  \r\n",
    "\r\n",
    "\r\n",
    "[\r\n",
    "    high2014Chart;\r\n",
    "    low2014Chart;\r\n",
    "    high2007Chart;\r\n",
    "    low2007Chart;\r\n",
    "    high2000Chart;\r\n",
    "    low2000Chart\r\n",
    "\r\n",
    "] \r\n",
    "    |> Chart.Combine\r\n",
    "    |> Chart.withTitle(\"Average High and Low Temperatures in New York\")\r\n",
    "    |> Chart.withX_AxisStyle (\"Month\")\r\n",
    "    |> Chart.withY_AxisStyle (\"Temperature (degrees F)\")"
   ],
   "outputs": [
    {
     "output_type": "display_data",
     "data": {
      "text/html": [
       "<div id=\"69a4084d-b6e9-4984-90cb-e7b0c959eecc\" style=\"width: 600px; height: 600px;\"><!-- Plotly chart will be drawn inside this DIV --></div>\r\n",
       "<script type=\"text/javascript\">\r\n",
       "\n",
       "            var renderPlotly_69a4084db6e9498490cbe7b0c959eecc = function() {\n",
       "            var fsharpPlotlyRequire = requirejs.config({context:'fsharp-plotly',paths:{plotly:'https://cdn.plot.ly/plotly-latest.min'}}) || require;\n",
       "            fsharpPlotlyRequire(['plotly'], function(Plotly) {\r\n",
       "\n",
       "            var data = [{\"type\":\"scatter\",\"x\":[\"January\",\"February\",\"March\",\"April\",\"May\",\"June\",\"July\",\"August\",\"September\",\"October\",\"November\",\"December\"],\"y\":[28.8,28.5,37.0,56.8,69.7,79.7,78.5,77.8,74.1,62.6,45.3,39.9],\"mode\":\"lines+markers\",\"name\":\"High 2014\",\"line\":{\"color\":\"firebrick\",\"width\":4.0},\"marker\":{}},{\"type\":\"scatter\",\"x\":[\"January\",\"February\",\"March\",\"April\",\"May\",\"June\",\"July\",\"August\",\"September\",\"October\",\"November\",\"December\"],\"y\":[12.7,14.3,18.6,35.5,49.9,58.0,60.0,58.6,51.7,45.2,32.2,29.1],\"mode\":\"lines+markers\",\"name\":\"Low 2014\",\"line\":{\"color\":\"royalblue\",\"width\":4.0},\"marker\":{}},{\"type\":\"scatter\",\"x\":[\"January\",\"February\",\"March\",\"April\",\"May\",\"June\",\"July\",\"August\",\"September\",\"October\",\"November\",\"December\"],\"y\":[36.5,26.6,43.6,52.3,71.5,81.4,80.5,82.2,76.0,67.3,46.1,35.0],\"mode\":\"lines+markers\",\"name\":\"High 2007\",\"line\":{\"color\":\"firebrick\",\"width\":4.0,\"dash\":\"dash\"},\"marker\":{}},{\"type\":\"scatter\",\"x\":[\"January\",\"February\",\"March\",\"April\",\"May\",\"June\",\"July\",\"August\",\"September\",\"October\",\"November\",\"December\"],\"y\":[23.6,14.0,27.0,36.8,47.6,57.7,58.9,61.2,53.3,48.5,31.0,23.6],\"mode\":\"lines+markers\",\"name\":\"Low 2007\",\"line\":{\"color\":\"royalblue\",\"width\":4.0,\"dash\":\"dash\"},\"marker\":{}},{\"type\":\"scatter\",\"x\":[\"January\",\"February\",\"March\",\"April\",\"May\",\"June\",\"July\",\"August\",\"September\",\"October\",\"November\",\"December\"],\"y\":[32.5,37.6,49.9,53.0,69.1,75.4,76.5,76.6,70.7,60.6,45.1,29.3],\"mode\":\"lines+markers\",\"name\":\"High 2000\",\"line\":{\"color\":\"firebrick\",\"width\":4.0,\"dash\":\"dot\"},\"marker\":{}},{\"type\":\"scatter\",\"x\":[\"January\",\"February\",\"March\",\"April\",\"May\",\"June\",\"July\",\"August\",\"September\",\"October\",\"November\",\"December\"],\"y\":[13.8,22.3,32.5,37.2,49.9,56.1,57.7,58.3,51.2,42.8,31.6,15.9],\"mode\":\"lines+markers\",\"name\":\"Low 2000\",\"line\":{\"color\":\"royalblue\",\"width\":4.0,\"dash\":\"dot\"},\"marker\":{}}];\n",
       "            var layout = {\"title\":\"Average High and Low Temperatures in New York\",\"xaxis\":{\"title\":\"Month\"},\"yaxis\":{\"title\":\"Temperature (degrees F)\"}};\n",
       "            var config = {};\n",
       "            Plotly.newPlot('69a4084d-b6e9-4984-90cb-e7b0c959eecc', data, layout, config);\r\n",
       "});\n",
       "            };\n",
       "            if ((typeof(requirejs) !==  typeof(Function)) || (typeof(requirejs.config) !== typeof(Function))) {\n",
       "                var script = document.createElement(\"script\");\n",
       "                script.setAttribute(\"src\", \"https://cdnjs.cloudflare.com/ajax/libs/require.js/2.3.6/require.min.js\");\n",
       "                script.onload = function(){\n",
       "                    renderPlotly_69a4084db6e9498490cbe7b0c959eecc();\n",
       "                };\n",
       "                document.getElementsByTagName(\"head\")[0].appendChild(script);\n",
       "            }\n",
       "            else {\n",
       "                renderPlotly_69a4084db6e9498490cbe7b0c959eecc();\n",
       "            }\r\n",
       "</script>\r\n"
      ]
     },
     "metadata": {}
    }
   ],
   "metadata": {
    "dotnet_interactive": {
     "language": "fsharp"
    }
   }
  },
  {
   "cell_type": "markdown",
   "source": [
    "## Connect Data Gaps"
   ],
   "metadata": {}
  },
  {
   "cell_type": "code",
   "execution_count": null,
   "source": [
    "\r\n",
    "let xs = [1; 2; 3; 4; 5; 6; 7; 8; 9; 10; 11; 12; 13; 14; 15]\r\n",
    "\r\n",
    "let chart = Chart.Scatter(xs,\r\n",
    "             [10.; 20.; nan; 15.; 10.; 5.; 15.;nan; 20.; 10.; 10.; 15.; 25.; 20.; 10.], \r\n",
    "             StyleParam.Mode.Lines_Markers, Name=\"<b>No</b> Gaps\")\r\n",
    "             |> GenericChart.mapTrace(fun t -> \r\n",
    "                                                t?connectgaps <- true\r\n",
    "                                                t)\r\n",
    "[\r\n",
    "    \r\n",
    "    chart;\r\n",
    "    Chart.Scatter(xs,\r\n",
    "             [5.; 15.; nan; 10.; 5.; 0.; 10.; nan; 15.; 5.; 5.; 10.; 20.; 15.; 5.], \r\n",
    "             StyleParam.Mode.Lines_Markers, Name=\"Gaps\")\r\n",
    "] |> Chart.Combine"
   ],
   "outputs": [
    {
     "output_type": "display_data",
     "data": {
      "text/html": [
       "<div id=\"0eb0cbf9-1f69-4a10-848e-c484d4e1f2e3\" style=\"width: 600px; height: 600px;\"><!-- Plotly chart will be drawn inside this DIV --></div>\r\n",
       "<script type=\"text/javascript\">\r\n",
       "\n",
       "            var renderPlotly_0eb0cbf91f694a10848ec484d4e1f2e3 = function() {\n",
       "            var fsharpPlotlyRequire = requirejs.config({context:'fsharp-plotly',paths:{plotly:'https://cdn.plot.ly/plotly-latest.min'}}) || require;\n",
       "            fsharpPlotlyRequire(['plotly'], function(Plotly) {\r\n",
       "\n",
       "            var data = [{\"type\":\"scatter\",\"x\":[1,2,3,4,5,6,7,8,9,10,11,12,13,14,15],\"y\":[10.0,20.0,\"NaN\",15.0,10.0,5.0,15.0,\"NaN\",20.0,10.0,10.0,15.0,25.0,20.0,10.0],\"mode\":\"lines+markers\",\"name\":\"<b>No</b> Gaps\",\"line\":{},\"marker\":{},\"connectgaps\":true},{\"type\":\"scatter\",\"x\":[1,2,3,4,5,6,7,8,9,10,11,12,13,14,15],\"y\":[5.0,15.0,\"NaN\",10.0,5.0,0.0,10.0,\"NaN\",15.0,5.0,5.0,10.0,20.0,15.0,5.0],\"mode\":\"lines+markers\",\"name\":\"Gaps\",\"line\":{},\"marker\":{}}];\n",
       "            var layout = {};\n",
       "            var config = {};\n",
       "            Plotly.newPlot('0eb0cbf9-1f69-4a10-848e-c484d4e1f2e3', data, layout, config);\r\n",
       "});\n",
       "            };\n",
       "            if ((typeof(requirejs) !==  typeof(Function)) || (typeof(requirejs.config) !== typeof(Function))) {\n",
       "                var script = document.createElement(\"script\");\n",
       "                script.setAttribute(\"src\", \"https://cdnjs.cloudflare.com/ajax/libs/require.js/2.3.6/require.min.js\");\n",
       "                script.onload = function(){\n",
       "                    renderPlotly_0eb0cbf91f694a10848ec484d4e1f2e3();\n",
       "                };\n",
       "                document.getElementsByTagName(\"head\")[0].appendChild(script);\n",
       "            }\n",
       "            else {\n",
       "                renderPlotly_0eb0cbf91f694a10848ec484d4e1f2e3();\n",
       "            }\r\n",
       "</script>\r\n"
      ]
     },
     "metadata": {}
    }
   ],
   "metadata": {
    "dotnet_interactive": {
     "language": "fsharp"
    }
   }
  },
  {
   "cell_type": "markdown",
   "source": [
    "## Interpolation with Line Plots"
   ],
   "metadata": {}
  },
  {
   "cell_type": "code",
   "execution_count": null,
   "source": [
    "let xs = [1; 2; 3; 4; 5]\r\n",
    "let ys = [1; 3; 2; 3; 1]\r\n",
    "\r\n",
    "let linear = Chart.Scatter(xs, ys, StyleParam.Mode.Lines_Markers,Name=\"linear\") \r\n",
    "            |> Chart.withLineStyle(Shape =StyleParam.Shape.Linear)\r\n",
    "\r\n",
    "let spline = Chart.Scatter(xs, ys |> Seq.map(fun y->y+5) ,StyleParam.Mode.Lines_Markers,Labels=[\"tweak line smoothness<br>with 'smoothing' in line object\"],Name=\"spline\") \r\n",
    "            |> Chart.withLineStyle(Shape =StyleParam.Shape.Spline)\r\n",
    "\r\n",
    "let vhv = Chart.Scatter(xs, ys |> Seq.map(fun y->y+10), StyleParam.Mode.Lines_Markers,Name=\"vhv\") \r\n",
    "            |> Chart.withLineStyle(Shape =StyleParam.Shape.Vhv)\r\n",
    "\r\n",
    "let hvh = Chart.Scatter(xs, ys |> Seq.map(fun y->y+15), StyleParam.Mode.Lines_Markers,Name=\"hvh\") \r\n",
    "            |> Chart.withLineStyle(Shape =StyleParam.Shape.Hvh)\r\n",
    "\r\n",
    "let vh = Chart.Scatter(xs, ys |> Seq.map(fun y->y+20), StyleParam.Mode.Lines_Markers,Name=\"vh\") \r\n",
    "            |> Chart.withLineStyle(Shape =StyleParam.Shape.Vh)\r\n",
    "\r\n",
    "let hv = Chart.Scatter(xs,  ys |> Seq.map(fun y->y+25), StyleParam.Mode.Lines_Markers,Name=\"hv\") \r\n",
    "            |> Chart.withLineStyle(Shape =StyleParam.Shape.Hv)\r\n",
    "\r\n",
    "[\r\n",
    "    linear;\r\n",
    "    spline;\r\n",
    "    vhv;\r\n",
    "    hvh;\r\n",
    "    vh;\r\n",
    "    hv  ]\r\n",
    "|> Chart.Combine\r\n",
    "|> Chart.withLegend(Legend.init(Y=0.5,TraceOrder=StyleParam.TraceOrder.Reversed))\r\n",
    "|> Chart.withLayout(Layout.init(Font=Font.init(Size=16.)))"
   ],
   "outputs": [
    {
     "output_type": "display_data",
     "data": {
      "text/html": [
       "<div id=\"0e857bd4-abf1-4060-85de-8d5c04c78149\" style=\"width: 600px; height: 600px;\"><!-- Plotly chart will be drawn inside this DIV --></div>\r\n",
       "<script type=\"text/javascript\">\r\n",
       "\n",
       "            var renderPlotly_0e857bd4abf1406085de8d5c04c78149 = function() {\n",
       "            var fsharpPlotlyRequire = requirejs.config({context:'fsharp-plotly',paths:{plotly:'https://cdn.plot.ly/plotly-latest.min'}}) || require;\n",
       "            fsharpPlotlyRequire(['plotly'], function(Plotly) {\r\n",
       "\n",
       "            var data = [{\"type\":\"scatter\",\"x\":[1,2,3,4,5],\"y\":[1,3,2,3,1],\"mode\":\"lines+markers\",\"name\":\"linear\",\"line\":{\"shape\":\"linear\"},\"marker\":{}},{\"type\":\"scatter\",\"x\":[1,2,3,4,5],\"y\":[6,8,7,8,6],\"mode\":\"lines+markers\",\"name\":\"spline\",\"line\":{\"shape\":\"spline\"},\"marker\":{},\"text\":[\"tweak line smoothness<br>with 'smoothing' in line object\"]},{\"type\":\"scatter\",\"x\":[1,2,3,4,5],\"y\":[11,13,12,13,11],\"mode\":\"lines+markers\",\"name\":\"vhv\",\"line\":{\"shape\":\"vhv\"},\"marker\":{}},{\"type\":\"scatter\",\"x\":[1,2,3,4,5],\"y\":[16,18,17,18,16],\"mode\":\"lines+markers\",\"name\":\"hvh\",\"line\":{\"shape\":\"hvh\"},\"marker\":{}},{\"type\":\"scatter\",\"x\":[1,2,3,4,5],\"y\":[21,23,22,23,21],\"mode\":\"lines+markers\",\"name\":\"vh\",\"line\":{\"shape\":\"vh\"},\"marker\":{}},{\"type\":\"scatter\",\"x\":[1,2,3,4,5],\"y\":[26,28,27,28,26],\"mode\":\"lines+markers\",\"name\":\"hv\",\"line\":{\"shape\":\"hv\"},\"marker\":{}}];\n",
       "            var layout = {\"legend\":{\"y\":0.5,\"traceorder\":\"reversed\"},\"font\":{\"size\":16.0}};\n",
       "            var config = {};\n",
       "            Plotly.newPlot('0e857bd4-abf1-4060-85de-8d5c04c78149', data, layout, config);\r\n",
       "});\n",
       "            };\n",
       "            if ((typeof(requirejs) !==  typeof(Function)) || (typeof(requirejs.config) !== typeof(Function))) {\n",
       "                var script = document.createElement(\"script\");\n",
       "                script.setAttribute(\"src\", \"https://cdnjs.cloudflare.com/ajax/libs/require.js/2.3.6/require.min.js\");\n",
       "                script.onload = function(){\n",
       "                    renderPlotly_0e857bd4abf1406085de8d5c04c78149();\n",
       "                };\n",
       "                document.getElementsByTagName(\"head\")[0].appendChild(script);\n",
       "            }\n",
       "            else {\n",
       "                renderPlotly_0e857bd4abf1406085de8d5c04c78149();\n",
       "            }\r\n",
       "</script>\r\n"
      ]
     },
     "metadata": {}
    }
   ],
   "metadata": {
    "dotnet_interactive": {
     "language": "fsharp"
    }
   }
  },
  {
   "cell_type": "markdown",
   "source": [
    "## Label Lines with Annotations"
   ],
   "metadata": {}
  },
  {
   "cell_type": "code",
   "execution_count": null,
   "source": [
    "let title = \"Main Source for News\"\r\n",
    "let labels = [\"Television\"; \"Newspaper\"; \"Internet\"; \"Radio\"]\r\n",
    "let colors = [\"rgb(67,67,67)\"; \"rgb(115,115,115)\"; \"rgb(49,130,189)\"; \"rgb(189,189,189)\"]\r\n",
    "\r\n",
    "let mode_size = [|8; 8; 12; 8|]\r\n",
    "let line_size = [|2.; 2.; 4.; 2.|]\r\n",
    "\r\n",
    "let x_data = [1 ..4 ] |> Seq.map(fun _-> [|2001 .. 2014|]) |> Seq.toArray\r\n",
    "\r\n",
    "let y_data = [|\r\n",
    "    [|74; 82; 80; 74; 73; 72; 74; 70; 70; 66; 66; 69|];\r\n",
    "    [|45; 42; 50; 46; 36; 36; 34; 35; 32; 31; 31; 28|];\r\n",
    "    [|13; 14; 20; 24; 20; 24; 24; 40; 35; 41; 43; 50|];\r\n",
    "    [|18; 21; 18; 21; 16; 14; 13; 18; 17; 16; 19; 23|]|]\r\n",
    "\r\n",
    "\r\n",
    "\r\n",
    "seq {\r\n",
    "    for i in 0..3 do\r\n",
    "        yield! [\r\n",
    "                Chart.Scatter(x_data.[i], y_data.[i], StyleParam.Mode.Lines,Name= labels.[i])\r\n",
    "                    |> Chart.withLineStyle(Width=line_size.[i], Color=colors.[i])\r\n",
    "\r\n",
    "                // endpoints\r\n",
    "                Chart.Scatter([x_data.[i].[0]; x_data.[i].[^0]],\r\n",
    "                              [y_data.[i].[0]; y_data.[i].[^0]],\r\n",
    "                              mode=StyleParam.Mode.Markers)\r\n",
    "                    |> Chart.withMarkerStyle(Size=mode_size.[i], Color=colors.[i])\r\n",
    "        ]        \r\n",
    "} |> Chart.Combine\r\n",
    "  |> Chart.withLayout(Layout.init(Autosize=false, Showlegend=false, Plot_bgcolor=\"white\"))\r\n",
    "  |> Chart.withX_Axis(Axis.LinearAxis.init(Showline=true,\r\n",
    "                                            Showgrid=false,\r\n",
    "                                            Showticklabels=true,\r\n",
    "                                            Linecolor=\"rgb(204, 204, 204)\",\r\n",
    "                                            Linewidth=2.,\r\n",
    "                                            Ticks=StyleParam.TickOptions.Outside,\r\n",
    "                                            Tickfont = Font.init(Family=StyleParam.FontFamily.Arial,\r\n",
    "                                                                 Size=12.,\r\n",
    "                                                                 Color=\"rgb(82, 82, 82)\")))\r\n",
    "\r\n",
    "    |> Chart.withY_Axis(Axis.LinearAxis.init(Showgrid=false,\r\n",
    "                                             Zeroline=false,\r\n",
    "                                             Showline=false,\r\n",
    "                                             Showticklabels=false))\r\n",
    "    |> Chart.withMarginSize(Autoexpand=false, Left=100, Right=20,Top=110)\r\n",
    "        // Adding labels\r\n",
    "    |> Chart.withAnnotations(seq {\r\n",
    "        for (y_trace, label, color) in Seq.zip3 y_data labels colors do\r\n",
    "\r\n",
    "        // labeling the left_side of the plot     \r\n",
    "        let a1 = Annotation.init(XRef=\"paper\", X=0.05, Y=y_trace.[0],\r\n",
    "                                  Text=  $\"{label} {y_trace.[0]}%%\",\r\n",
    "                                  ShowArrow=false,\r\n",
    "                                  Font=Font.init(Family=StyleParam.FontFamily.Arial, Size=16.))\r\n",
    "\r\n",
    "        a1?xanchor <-\"right\"  //workaround \r\n",
    "        a1?yanchor <-\"middle\" //workaround\r\n",
    "\r\n",
    "        //labeling the right_side of the plot\r\n",
    "        let a2 = Annotation.init(XRef=\"paper\", X=0.95, Y=y_trace.[11],\r\n",
    "                                  Text=  $\"{y_trace.[11]}%%\",\r\n",
    "                                  ShowArrow=false,\r\n",
    "                                  Font=Font.init(Family=StyleParam.FontFamily.Arial, Size=16.));\r\n",
    "\r\n",
    "        a2?xanchor <-\"left\"  //workaround \r\n",
    "        a2?yanchor <-\"middle\" //workaround\r\n",
    "\r\n",
    "        // Title\r\n",
    "        let a3 =  Annotation.init(XRef=\"paper\",YRef=\"paper\", X=0., Y=1.05,\r\n",
    "                                  Text=  \"Main Source for News\",\r\n",
    "                                  ShowArrow=false,\r\n",
    "                                  Font=Font.init(Family=StyleParam.FontFamily.Arial, \r\n",
    "                                                 Size=30.,\r\n",
    "                                                 Color=\"rgb(37,37,37)\"));\r\n",
    "        a3?xanchor <-\"left\"  //workaround \r\n",
    "        a3?yanchor <-\"bottom\" //workaround\r\n",
    "        \r\n",
    "\r\n",
    "        // Source\r\n",
    "        let a4 = Annotation.init(XRef=\"paper\",YRef=\"paper\", X=0.5, Y= -0.1,\r\n",
    "                                  Text=  \"Source: PewResearch Center & Storytelling with data\",\r\n",
    "                                  ShowArrow=false,\r\n",
    "                                  Font=Font.init(Family=StyleParam.FontFamily.Arial, \r\n",
    "                                                 Size=12.,\r\n",
    "                                                 Color=\"rgb(150,150,150)\"))\r\n",
    "\r\n",
    "        a4?xanchor <-\"center\"  //workaround \r\n",
    "        a4?yanchor <-\"top\" //workaround\r\n",
    "        \r\n",
    "        \r\n",
    "\r\n",
    "                                  \r\n",
    "        yield! [a1;a2;a3;a4]\r\n",
    "    })"
   ],
   "outputs": [
    {
     "output_type": "display_data",
     "data": {
      "text/html": [
       "<div id=\"11a6d32a-f3a4-4e5f-b888-ac8fe7bf1f89\" style=\"width: 600px; height: 600px;\"><!-- Plotly chart will be drawn inside this DIV --></div>\r\n",
       "<script type=\"text/javascript\">\r\n",
       "\n",
       "            var renderPlotly_11a6d32af3a44e5fb888ac8fe7bf1f89 = function() {\n",
       "            var fsharpPlotlyRequire = requirejs.config({context:'fsharp-plotly',paths:{plotly:'https://cdn.plot.ly/plotly-latest.min'}}) || require;\n",
       "            fsharpPlotlyRequire(['plotly'], function(Plotly) {\r\n",
       "\n",
       "            var data = [{\"type\":\"scatter\",\"x\":[2001,2002,2003,2004,2005,2006,2007,2008,2009,2010,2011,2012,2013,2014],\"y\":[74,82,80,74,73,72,74,70,70,66,66,69],\"mode\":\"lines\",\"name\":\"Television\",\"line\":{\"color\":\"rgb(67,67,67)\",\"width\":2.0},\"marker\":{}},{\"type\":\"scatter\",\"x\":[2001,2014],\"y\":[74,69],\"mode\":\"markers\",\"line\":{},\"marker\":{\"size\":8,\"color\":\"rgb(67,67,67)\"}},{\"type\":\"scatter\",\"x\":[2001,2002,2003,2004,2005,2006,2007,2008,2009,2010,2011,2012,2013,2014],\"y\":[45,42,50,46,36,36,34,35,32,31,31,28],\"mode\":\"lines\",\"name\":\"Newspaper\",\"line\":{\"color\":\"rgb(115,115,115)\",\"width\":2.0},\"marker\":{}},{\"type\":\"scatter\",\"x\":[2001,2014],\"y\":[45,28],\"mode\":\"markers\",\"line\":{},\"marker\":{\"size\":8,\"color\":\"rgb(115,115,115)\"}},{\"type\":\"scatter\",\"x\":[2001,2002,2003,2004,2005,2006,2007,2008,2009,2010,2011,2012,2013,2014],\"y\":[13,14,20,24,20,24,24,40,35,41,43,50],\"mode\":\"lines\",\"name\":\"Internet\",\"line\":{\"color\":\"rgb(49,130,189)\",\"width\":4.0},\"marker\":{}},{\"type\":\"scatter\",\"x\":[2001,2014],\"y\":[13,50],\"mode\":\"markers\",\"line\":{},\"marker\":{\"size\":12,\"color\":\"rgb(49,130,189)\"}},{\"type\":\"scatter\",\"x\":[2001,2002,2003,2004,2005,2006,2007,2008,2009,2010,2011,2012,2013,2014],\"y\":[18,21,18,21,16,14,13,18,17,16,19,23],\"mode\":\"lines\",\"name\":\"Radio\",\"line\":{\"color\":\"rgb(189,189,189)\",\"width\":2.0},\"marker\":{}},{\"type\":\"scatter\",\"x\":[2001,2014],\"y\":[18,23],\"mode\":\"markers\",\"line\":{},\"marker\":{\"size\":8,\"color\":\"rgb(189,189,189)\"}}];\n",
       "            var layout = {\"autosize\":false,\"plot_bgcolor\":\"white\",\"showlegend\":false,\"xaxis\":{\"ticks\":\"outside\",\"showticklabels\":true,\"showline\":true,\"linecolor\":\"rgb(204, 204, 204)\",\"linewidth\":2.0,\"showgrid\":false,\"tickfont\":{\"family\":\"Arial\",\"size\":12.0,\"color\":\"rgb(82, 82, 82)\"}},\"yaxis\":{\"showticklabels\":false,\"showline\":false,\"showgrid\":false,\"zeroline\":false},\"margin\":{\"l\":100,\"r\":20,\"t\":110,\"autoexpand\":false},\"annotations\":[{\"x\":0.05,\"y\":74,\"xref\":\"paper\",\"showarrow\":false,\"text\":\"Television 74%\",\"font\":{\"family\":\"Arial\",\"size\":16.0},\"xanchor\":\"right\",\"yanchor\":\"middle\"},{\"x\":0.95,\"y\":69,\"xref\":\"paper\",\"showarrow\":false,\"text\":\"69%\",\"font\":{\"family\":\"Arial\",\"size\":16.0},\"xanchor\":\"left\",\"yanchor\":\"middle\"},{\"x\":0.0,\"y\":1.05,\"xref\":\"paper\",\"yref\":\"paper\",\"showarrow\":false,\"text\":\"Main Source for News\",\"font\":{\"family\":\"Arial\",\"size\":30.0,\"color\":\"rgb(37,37,37)\"},\"xanchor\":\"left\",\"yanchor\":\"bottom\"},{\"x\":0.5,\"y\":-0.1,\"xref\":\"paper\",\"yref\":\"paper\",\"showarrow\":false,\"text\":\"Source: PewResearch Center & Storytelling with data\",\"font\":{\"family\":\"Arial\",\"size\":12.0,\"color\":\"rgb(150,150,150)\"},\"xanchor\":\"center\",\"yanchor\":\"top\"},{\"x\":0.05,\"y\":45,\"xref\":\"paper\",\"showarrow\":false,\"text\":\"Newspaper 45%\",\"font\":{\"family\":\"Arial\",\"size\":16.0},\"xanchor\":\"right\",\"yanchor\":\"middle\"},{\"x\":0.95,\"y\":28,\"xref\":\"paper\",\"showarrow\":false,\"text\":\"28%\",\"font\":{\"family\":\"Arial\",\"size\":16.0},\"xanchor\":\"left\",\"yanchor\":\"middle\"},{\"x\":0.0,\"y\":1.05,\"xref\":\"paper\",\"yref\":\"paper\",\"showarrow\":false,\"text\":\"Main Source for News\",\"font\":{\"family\":\"Arial\",\"size\":30.0,\"color\":\"rgb(37,37,37)\"},\"xanchor\":\"left\",\"yanchor\":\"bottom\"},{\"x\":0.5,\"y\":-0.1,\"xref\":\"paper\",\"yref\":\"paper\",\"showarrow\":false,\"text\":\"Source: PewResearch Center & Storytelling with data\",\"font\":{\"family\":\"Arial\",\"size\":12.0,\"color\":\"rgb(150,150,150)\"},\"xanchor\":\"center\",\"yanchor\":\"top\"},{\"x\":0.05,\"y\":13,\"xref\":\"paper\",\"showarrow\":false,\"text\":\"Internet 13%\",\"font\":{\"family\":\"Arial\",\"size\":16.0},\"xanchor\":\"right\",\"yanchor\":\"middle\"},{\"x\":0.95,\"y\":50,\"xref\":\"paper\",\"showarrow\":false,\"text\":\"50%\",\"font\":{\"family\":\"Arial\",\"size\":16.0},\"xanchor\":\"left\",\"yanchor\":\"middle\"},{\"x\":0.0,\"y\":1.05,\"xref\":\"paper\",\"yref\":\"paper\",\"showarrow\":false,\"text\":\"Main Source for News\",\"font\":{\"family\":\"Arial\",\"size\":30.0,\"color\":\"rgb(37,37,37)\"},\"xanchor\":\"left\",\"yanchor\":\"bottom\"},{\"x\":0.5,\"y\":-0.1,\"xref\":\"paper\",\"yref\":\"paper\",\"showarrow\":false,\"text\":\"Source: PewResearch Center & Storytelling with data\",\"font\":{\"family\":\"Arial\",\"size\":12.0,\"color\":\"rgb(150,150,150)\"},\"xanchor\":\"center\",\"yanchor\":\"top\"},{\"x\":0.05,\"y\":18,\"xref\":\"paper\",\"showarrow\":false,\"text\":\"Radio 18%\",\"font\":{\"family\":\"Arial\",\"size\":16.0},\"xanchor\":\"right\",\"yanchor\":\"middle\"},{\"x\":0.95,\"y\":23,\"xref\":\"paper\",\"showarrow\":false,\"text\":\"23%\",\"font\":{\"family\":\"Arial\",\"size\":16.0},\"xanchor\":\"left\",\"yanchor\":\"middle\"},{\"x\":0.0,\"y\":1.05,\"xref\":\"paper\",\"yref\":\"paper\",\"showarrow\":false,\"text\":\"Main Source for News\",\"font\":{\"family\":\"Arial\",\"size\":30.0,\"color\":\"rgb(37,37,37)\"},\"xanchor\":\"left\",\"yanchor\":\"bottom\"},{\"x\":0.5,\"y\":-0.1,\"xref\":\"paper\",\"yref\":\"paper\",\"showarrow\":false,\"text\":\"Source: PewResearch Center & Storytelling with data\",\"font\":{\"family\":\"Arial\",\"size\":12.0,\"color\":\"rgb(150,150,150)\"},\"xanchor\":\"center\",\"yanchor\":\"top\"}]};\n",
       "            var config = {};\n",
       "            Plotly.newPlot('11a6d32a-f3a4-4e5f-b888-ac8fe7bf1f89', data, layout, config);\r\n",
       "});\n",
       "            };\n",
       "            if ((typeof(requirejs) !==  typeof(Function)) || (typeof(requirejs.config) !== typeof(Function))) {\n",
       "                var script = document.createElement(\"script\");\n",
       "                script.setAttribute(\"src\", \"https://cdnjs.cloudflare.com/ajax/libs/require.js/2.3.6/require.min.js\");\n",
       "                script.onload = function(){\n",
       "                    renderPlotly_11a6d32af3a44e5fb888ac8fe7bf1f89();\n",
       "                };\n",
       "                document.getElementsByTagName(\"head\")[0].appendChild(script);\n",
       "            }\n",
       "            else {\n",
       "                renderPlotly_11a6d32af3a44e5fb888ac8fe7bf1f89();\n",
       "            }\r\n",
       "</script>\r\n"
      ]
     },
     "metadata": {}
    }
   ],
   "metadata": {
    "dotnet_interactive": {
     "language": "fsharp"
    }
   }
  },
  {
   "cell_type": "markdown",
   "source": [
    "## Filled Lines"
   ],
   "metadata": {}
  },
  {
   "cell_type": "code",
   "execution_count": null,
   "source": [
    "let x = [1.; 2.; 3.; 4.; 5.; 6.; 7.; 8.; 9.; 10.]\r\n",
    "let x_rev = x |> Seq.rev\r\n",
    "\r\n",
    "// Line 1\r\n",
    "let y1 = [1.; 2.; 3.; 4.; 5.; 6.; 7.; 8.; 9.; 10.]\r\n",
    "let y1_upper = [2.; 3.; 4.; 5.; 6.; 7.; 8.; 9.; 10.; 11.]\r\n",
    "let y1_lower = [0.; 1.; 2.; 3.; 4.; 5.; 6.; 7.; 8.; 9.]|> Seq.rev\r\n",
    "\r\n",
    "// Line 2\r\n",
    "let y2 = [5.; 2.5; 5.; 7.5; 5.; 2.5; 7.5; 4.5; 5.5; 5.]\r\n",
    "let y2_upper = [5.5; 3.; 5.5; 8.; 6.; 3.; 8.; 5.; 6.; 5.5]\r\n",
    "let y2_lower = [4.5; 2.; 4.4; 7.; 4.; 2.; 7.; 4.; 5.; 4.75] |> Seq.rev\r\n",
    "\r\n",
    "// Line 3\r\n",
    "let y3 = [10.; 8.; 6.; 4.; 2.; 0.; 2.; 4.; 2.; 0.]\r\n",
    "let y3_upper = [11.; 9.; 7.; 5.; 3.; 1.; 3.; 5.; 3.; 1.]\r\n",
    "let y3_lower = [9.; 7.; 5.; 3.; 1.; -5.; 1.; 3.; 1.; -1.]|> Seq.rev\r\n",
    "\r\n",
    "\r\n",
    "[\r\n",
    "    Chart.Scatter((Seq.append x x_rev),\r\n",
    "                  (Seq.append y1_upper y1_lower),\r\n",
    "                  StyleParam.Mode.Lines,\r\n",
    "                   Showlegend=false,\r\n",
    "                   Name=\"Fair\") \r\n",
    "        |> Chart.withLineStyle(Color=\"rgba(255,255,255,0)\")\r\n",
    "        |> GenericChart.mapTrace(fun t->  \r\n",
    "                                        t?fill<-StyleParam.Fill.toString(StyleParam.Fill.ToSelf)\r\n",
    "                                        t?fillcolor<-\"rgba(0,100,80,0.2)\"\r\n",
    "                                        t)\r\n",
    "\r\n",
    "    ;Chart.Scatter((Seq.append x x_rev),\r\n",
    "                  (Seq.append y2_upper y2_lower),\r\n",
    "                  StyleParam.Mode.Lines,\r\n",
    "                   Showlegend=false,\r\n",
    "                   Name=\"Premium\")\r\n",
    "        |> Chart.withLineStyle(Color=\"rgba(255,255,255,0)\")\r\n",
    "        |> GenericChart.mapTrace(fun t->  \r\n",
    "                                        t?fill<-StyleParam.Fill.toString(StyleParam.Fill.ToSelf)\r\n",
    "                                        t?fillcolor<-\"rgba(0,176,246,0.2)\"\r\n",
    "                                        t)\r\n",
    "\r\n",
    "\r\n",
    "\r\n",
    "    ;Chart.Scatter((Seq.append x x_rev),\r\n",
    "                  (Seq.append y3_upper y3_lower),\r\n",
    "                  StyleParam.Mode.Lines,\r\n",
    "                   Showlegend=false,\r\n",
    "                   Name=\"Ideal\")\r\n",
    "        |> Chart.withLineStyle(Color=\"rgba(255,255,255,0)\")\r\n",
    "        |> GenericChart.mapTrace(fun t->  \r\n",
    "                                        t?fill<-StyleParam.Fill.toString(StyleParam.Fill.ToSelf)\r\n",
    "                                        t?fillcolor<-\"rgba(231,107,243,0.2)\"\r\n",
    "                                        t)\r\n",
    "\r\n",
    "    ;Chart.Scatter(x,y1,StyleParam.Mode.Lines,Name=\"Fair\") \r\n",
    "        |> Chart.withLineStyle(Color=\"rgb(0,100,80)\")\r\n",
    "\r\n",
    "    ;Chart.Scatter(x,y2,StyleParam.Mode.Lines,Name=\"Premium\") \r\n",
    "        |> Chart.withLineStyle(Color=\"rgb(0,176,246)\")\r\n",
    "\r\n",
    "    ;Chart.Scatter(x,y3,StyleParam.Mode.Lines,Name=\"Ideal\") \r\n",
    "        |> Chart.withLineStyle(Color=\"rgb(231,107,243)\")\r\n",
    "\r\n",
    "] |> Chart.Combine"
   ],
   "outputs": [
    {
     "output_type": "display_data",
     "data": {
      "text/html": [
       "<div id=\"cf4e5a09-7d0f-4e37-80e7-7c5f8973d846\" style=\"width: 600px; height: 600px;\"><!-- Plotly chart will be drawn inside this DIV --></div>\r\n",
       "<script type=\"text/javascript\">\r\n",
       "\n",
       "            var renderPlotly_cf4e5a097d0f4e3780e77c5f8973d846 = function() {\n",
       "            var fsharpPlotlyRequire = requirejs.config({context:'fsharp-plotly',paths:{plotly:'https://cdn.plot.ly/plotly-latest.min'}}) || require;\n",
       "            fsharpPlotlyRequire(['plotly'], function(Plotly) {\r\n",
       "\n",
       "            var data = [{\"type\":\"scatter\",\"x\":[1.0,2.0,3.0,4.0,5.0,6.0,7.0,8.0,9.0,10.0,10.0,9.0,8.0,7.0,6.0,5.0,4.0,3.0,2.0,1.0],\"y\":[2.0,3.0,4.0,5.0,6.0,7.0,8.0,9.0,10.0,11.0,9.0,8.0,7.0,6.0,5.0,4.0,3.0,2.0,1.0,0.0],\"mode\":\"lines\",\"name\":\"Fair\",\"showlegend\":false,\"line\":{\"color\":\"rgba(255,255,255,0)\"},\"marker\":{},\"fill\":\"toself\",\"fillcolor\":\"rgba(0,100,80,0.2)\"},{\"type\":\"scatter\",\"x\":[1.0,2.0,3.0,4.0,5.0,6.0,7.0,8.0,9.0,10.0,10.0,9.0,8.0,7.0,6.0,5.0,4.0,3.0,2.0,1.0],\"y\":[5.5,3.0,5.5,8.0,6.0,3.0,8.0,5.0,6.0,5.5,4.75,5.0,4.0,7.0,2.0,4.0,7.0,4.4,2.0,4.5],\"mode\":\"lines\",\"name\":\"Premium\",\"showlegend\":false,\"line\":{\"color\":\"rgba(255,255,255,0)\"},\"marker\":{},\"fill\":\"toself\",\"fillcolor\":\"rgba(0,176,246,0.2)\"},{\"type\":\"scatter\",\"x\":[1.0,2.0,3.0,4.0,5.0,6.0,7.0,8.0,9.0,10.0,10.0,9.0,8.0,7.0,6.0,5.0,4.0,3.0,2.0,1.0],\"y\":[11.0,9.0,7.0,5.0,3.0,1.0,3.0,5.0,3.0,1.0,-1.0,1.0,3.0,1.0,-5.0,1.0,3.0,5.0,7.0,9.0],\"mode\":\"lines\",\"name\":\"Ideal\",\"showlegend\":false,\"line\":{\"color\":\"rgba(255,255,255,0)\"},\"marker\":{},\"fill\":\"toself\",\"fillcolor\":\"rgba(231,107,243,0.2)\"},{\"type\":\"scatter\",\"x\":[1.0,2.0,3.0,4.0,5.0,6.0,7.0,8.0,9.0,10.0],\"y\":[1.0,2.0,3.0,4.0,5.0,6.0,7.0,8.0,9.0,10.0],\"mode\":\"lines\",\"name\":\"Fair\",\"line\":{\"color\":\"rgb(0,100,80)\"},\"marker\":{}},{\"type\":\"scatter\",\"x\":[1.0,2.0,3.0,4.0,5.0,6.0,7.0,8.0,9.0,10.0],\"y\":[5.0,2.5,5.0,7.5,5.0,2.5,7.5,4.5,5.5,5.0],\"mode\":\"lines\",\"name\":\"Premium\",\"line\":{\"color\":\"rgb(0,176,246)\"},\"marker\":{}},{\"type\":\"scatter\",\"x\":[1.0,2.0,3.0,4.0,5.0,6.0,7.0,8.0,9.0,10.0],\"y\":[10.0,8.0,6.0,4.0,2.0,0.0,2.0,4.0,2.0,0.0],\"mode\":\"lines\",\"name\":\"Ideal\",\"line\":{\"color\":\"rgb(231,107,243)\"},\"marker\":{}}];\n",
       "            var layout = {};\n",
       "            var config = {};\n",
       "            Plotly.newPlot('cf4e5a09-7d0f-4e37-80e7-7c5f8973d846', data, layout, config);\r\n",
       "});\n",
       "            };\n",
       "            if ((typeof(requirejs) !==  typeof(Function)) || (typeof(requirejs.config) !== typeof(Function))) {\n",
       "                var script = document.createElement(\"script\");\n",
       "                script.setAttribute(\"src\", \"https://cdnjs.cloudflare.com/ajax/libs/require.js/2.3.6/require.min.js\");\n",
       "                script.onload = function(){\n",
       "                    renderPlotly_cf4e5a097d0f4e3780e77c5f8973d846();\n",
       "                };\n",
       "                document.getElementsByTagName(\"head\")[0].appendChild(script);\n",
       "            }\n",
       "            else {\n",
       "                renderPlotly_cf4e5a097d0f4e3780e77c5f8973d846();\n",
       "            }\r\n",
       "</script>\r\n"
      ]
     },
     "metadata": {}
    }
   ],
   "metadata": {
    "dotnet_interactive": {
     "language": "fsharp"
    }
   }
  }
 ],
 "metadata": {
  "orig_nbformat": 4,
  "language_info": {
   "file_extension": ".cs",
   "mimetype": "text/x-csharp",
   "name": "C#",
   "pygments_lexer": "csharp",
   "version": "9.0"
  },
  "kernelspec": {
   "display_name": ".NET (C#)",
   "language": "C#",
   "name": ".net-csharp"
  }
 },
 "nbformat": 4,
 "nbformat_minor": 2
}