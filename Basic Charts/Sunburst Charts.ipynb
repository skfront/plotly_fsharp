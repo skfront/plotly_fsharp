{
 "cells": [
  {
   "cell_type": "markdown",
   "source": [
    "## Basic Sunburst Plot with go.Sunburst"
   ],
   "metadata": {}
  },
  {
   "cell_type": "code",
   "execution_count": null,
   "source": [
    "#r \"nuget: Plotly.NET, 2.0.0-preview.6\"\n",
    "#r \"nuget: Plotly.NET.Interactive, 2.0.0-preview.6\"\n",
    "open Plotly.NET\n",
    "\n",
    "let labels=[\"Eve\"; \"Cain\"; \"Seth\"; \"Enos\"; \"Noam\"; \"Abel\"; \"Awan\"; \"Enoch\"; \"Azura\"]\n",
    "let parents=[\"\"; \"Eve\"; \"Eve\"; \"Seth\"; \"Seth\"; \"Eve\"; \"Eve\"; \"Awan\"; \"Eve\" ]\n",
    "let values=[10.; 14.; 12.; 10.; 2.; 6.; 6.; 4.; 4.]\n",
    "\n",
    "Chart.Sunburst(labels=labels, Values=values, parents=parents)\n",
    "|> Chart.withLayout(Layout.init(Margin = Margin.init(Top = 0., Left = 0., Right = 0., Bottom = 0.)))"
   ],
   "outputs": [],
   "metadata": {
    "dotnet_interactive": {
     "language": "fsharp"
    }
   }
  },
  {
   "cell_type": "markdown",
   "source": [
    "## Sunburst with Repeated Labels"
   ],
   "metadata": {}
  },
  {
   "cell_type": "code",
   "execution_count": null,
   "source": [
    "#r \"nuget: Plotly.NET, 2.0.0-preview.6\"\n",
    "#r \"nuget: Plotly.NET.Interactive, 2.0.0-preview.6\"\n",
    "open Plotly.NET\n",
    "\n",
    "let ids=[\n",
    "    \"North America\"; \"Europe\"; \"Australia\"; \"North America - Football\"; \"Soccer\";\n",
    "    \"North America - Rugby\"; \"Europe - Football\"; \"Rugby\";\n",
    "    \"Europe - American Football\";\"Australia - Football\"; \"Association\";\n",
    "    \"Australian Rules\"; \"Autstralia - American Football\"; \"Australia - Rugby\";\n",
    "    \"Rugby League\"; \"Rugby Union\"\n",
    "]\n",
    "let labels= [\n",
    "    \"North<br>America\"; \"Europe\"; \"Australia\"; \"Football\"; \"Soccer\"; \"Rugby\";\n",
    "    \"Football\"; \"Rugby\"; \"American<br>Football\"; \"Football\"; \"Association\";\n",
    "    \"Australian<br>Rules\"; \"American<br>Football\"; \"Rugby\"; \"Rugby<br>League\";\n",
    "    \"Rugby<br>Union\"\n",
    "]\n",
    "let  parents=[\n",
    "    \"\"; \"\"; \"\"; \"North America\"; \"North America\"; \"North America\"; \"Europe\";\n",
    "    \"Europe\"; \"Europe\";\"Australia\"; \"Australia - Football\"; \"Australia - Football\";\n",
    "    \"Australia - Football\"; \"Australia - Football\"; \"Australia - Rugby\";\n",
    "    \"Australia - Rugby\"\n",
    "]\n",
    "\n",
    "Chart.Sunburst(Ids=ids, labels=labels, parents=parents)\n",
    "|> Chart.withLayout(Layout.init(Margin = Margin.init(Top = 0., Left = 0., Right = 0., Bottom = 0.)))"
   ],
   "outputs": [],
   "metadata": {
    "dotnet_interactive": {
     "language": "fsharp"
    }
   }
  },
  {
   "cell_type": "markdown",
   "source": [
    "## Branchvalues"
   ],
   "metadata": {}
  },
  {
   "cell_type": "code",
   "execution_count": null,
   "source": [
    "#r \"nuget: Plotly.NET, 2.0.0-preview.6\"\n",
    "#r \"nuget: Plotly.NET.Interactive, 2.0.0-preview.6\"\n",
    "open Plotly.NET\n",
    "\n",
    "let labels = [ \"Eve\"; \"Cain\"; \"Seth\"; \"Enos\"; \"Noam\"; \"Abel\"; \"Awan\"; \"Enoch\"; \"Azura\"]\n",
    "let parents = [\"\";    \"Eve\";  \"Eve\";  \"Seth\"; \"Seth\"; \"Eve\";  \"Eve\";  \"Awan\";  \"Eve\" ]\n",
    "let values = [  65.;  14.;  12.;  10.;  2.;  6.;  6.;  4.;  4.]\n",
    "\n",
    "Chart.Sunburst(Values=values, labels=labels, parents=parents, Branchvalues = StyleParam.BranchValues.Total)\n",
    "|> Chart.withLayout(Layout.init(Margin = Margin.init(Top = 0., Left = 0., Right = 0., Bottom = 0.)))"
   ],
   "outputs": [],
   "metadata": {
    "dotnet_interactive": {
     "language": "fsharp"
    }
   }
  },
  {
   "cell_type": "markdown",
   "source": [
    "## Large Number of Slices"
   ],
   "metadata": {}
  },
  {
   "cell_type": "code",
   "execution_count": null,
   "source": [
    "#r \"nuget: Plotly.NET, 2.0.0-preview.6\"\n",
    "#r \"nuget: Plotly.NET.Interactive, 2.0.0-preview.6\"\n",
    "#r \"nuget: FSharp.Data\"\n",
    "open Plotly.NET\n",
    "open FSharp.Data\n",
    "\n",
    "type DFI = CsvProvider<\"https://raw.githubusercontent.com/plotly/datasets/718417069ead87650b90472464c7565dc8c2cb1c/sunburst-coffee-flavors-complete.csv\">\n",
    "type DFII = CsvProvider<\"https://raw.githubusercontent.com/plotly/datasets/718417069ead87650b90472464c7565dc8c2cb1c/coffee-flavors.csv\">\n",
    "let df1 = DFI.Load(\"https://raw.githubusercontent.com/plotly/datasets/718417069ead87650b90472464c7565dc8c2cb1c/sunburst-coffee-flavors-complete.csv\")\n",
    "let df2 = DFII.Load(\"https://raw.githubusercontent.com/plotly/datasets/718417069ead87650b90472464c7565dc8c2cb1c/coffee-flavors.csv\")\n",
    "\n",
    "\n",
    "\n",
    "\n",
    "[\n",
    "            (Chart.Sunburst(Ids=[for row in df1.Rows do row.Ids], labels=[for row in df1.Rows do row.Labels], parents=[for row in df1.Rows do row.Parents])\n",
    "                |> GenericChart.mapTrace(fun x -> x.SetValue(\"domain\", Domain.init(Row = 1, Column = 1)); x))\n",
    "            (Chart.Sunburst(Ids=[for row in df2.Rows do row.Ids], labels=[for row in df2.Rows do row.Labels], parents=[for row in df2.Rows do row.Parents], Maxdepth = 2)\n",
    "                |> GenericChart.mapTrace(fun x -> x.SetValue(\"domain\", Domain.init(Row = 1, Column = 2)); x))\n",
    "]\n",
    "|> Chart.Combine\n",
    "|> Chart.withLayout(Layout.init(Width = 1500., Margin = Margin.init(Top = 0., Left = 0., Right = 0., Bottom = 0.)))\n",
    "|> Chart.withLayoutGrid(LayoutGrid.init(Rows = 1, Columns = 2))"
   ],
   "outputs": [],
   "metadata": {
    "dotnet_interactive": {
     "language": "fsharp"
    }
   }
  },
  {
   "cell_type": "markdown",
   "source": [
    "## Controlling text orientation inside sunburst sectors"
   ],
   "metadata": {}
  },
  {
   "cell_type": "code",
   "execution_count": null,
   "source": [
    "#r \"nuget: Plotly.NET, 2.0.0-preview.6\"\n",
    "#r \"nuget: Plotly.NET.Interactive, 2.0.0-preview.6\"\n",
    "open Plotly.NET\n",
    "\n",
    "type DFI = CsvProvider<\"https://raw.githubusercontent.com/plotly/datasets/718417069ead87650b90472464c7565dc8c2cb1c/coffee-flavors.csv\">\n",
    "let df1 = DFI.Load(\"https://raw.githubusercontent.com/plotly/datasets/718417069ead87650b90472464c7565dc8c2cb1c/coffee-flavors.csv\")\n",
    "\n",
    "Chart.Sunburst(Ids=[for row in df1.Rows do row.Ids], labels=[for row in df1.Rows do row.Labels], parents=[for row in df1.Rows do row.Parents], Maxdepth = 2)\n",
    "|> GenericChart.mapTrace(fun x -> x.SetValue(\"insidetextorientation\", \"radial\"); x)\n",
    "|> Chart.withLayout(Layout.init(Margin = Margin.init(Top = 10., Left = 10., Right = 10., Bottom = 10.)))"
   ],
   "outputs": [],
   "metadata": {
    "dotnet_interactive": {
     "language": "fsharp"
    }
   }
  },
  {
   "cell_type": "markdown",
   "source": [
    "## Controlling text fontsize with uniformtext"
   ],
   "metadata": {}
  },
  {
   "cell_type": "code",
   "execution_count": null,
   "source": [
    "#r \"nuget: Plotly.NET, 2.0.0-preview.6\"\n",
    "#r \"nuget: Plotly.NET.Interactive, 2.0.0-preview.6\"\n",
    "open Plotly.NET\n",
    "\n",
    "type DFI = CsvProvider<\"https://raw.githubusercontent.com/plotly/datasets/718417069ead87650b90472464c7565dc8c2cb1c/sunburst-coffee-flavors-complete.csv\">\n",
    "let df1 = DFI.Load(\"https://raw.githubusercontent.com/plotly/datasets/718417069ead87650b90472464c7565dc8c2cb1c/sunburst-coffee-flavors-complete.csv\")\n",
    "\n",
    "let layout = \n",
    "    let tmp = Layout()\n",
    "    tmp?uniformtext <- {| minsize = 10; mode = \"hide\" |}\n",
    "    tmp\n",
    "\n",
    "Chart.Sunburst(Ids=[for row in df1.Rows do row.Ids], labels=[for row in df1.Rows do row.Labels], parents=[for row in df1.Rows do row.Parents])\n",
    "|> Chart.withLayout(layout)"
   ],
   "outputs": [],
   "metadata": {
    "dotnet_interactive": {
     "language": "fsharp"
    }
   }
  },
  {
   "cell_type": "markdown",
   "source": [
    "## Sunburst chart with a continuous colorscale"
   ],
   "metadata": {}
  },
  {
   "cell_type": "code",
   "execution_count": null,
   "source": [
    "#r \"nuget: Plotly.NET, 2.0.0-preview.6\"\n",
    "#r \"nuget: Plotly.NET.Interactive, 2.0.0-preview.6\"\n",
    "open Plotly.NET\n",
    "\n",
    "type DFI = CsvProvider<\"https://raw.githubusercontent.com/plotly/datasets/master/sales_success.csv\">\n",
    "let df1 = DFI.Load(\"https://raw.githubusercontent.com/plotly/datasets/master/sales_success.csv\")\n",
    "\n",
    "let levels = [\"salesperson\"; \"county\"; \"region\"]\n",
    "let colorColumns = [\"sales\"; \"calls\"]\n",
    "let valueColumn = \"calls\"\n",
    "\n",
    "let buildHierarchicalDataframe df levels valueColumn colorColumns = \n",
    "    0\n",
    "\n",
    "let layout = \n",
    "    let tmp = Layout()\n",
    "    tmp?uniformtext <- {| minsize = 10; mode = \"hide\" |}\n",
    "    tmp"
   ],
   "outputs": [],
   "metadata": {
    "dotnet_interactive": {
     "language": "fsharp"
    }
   }
  }
 ],
 "metadata": {
  "orig_nbformat": 4,
  "language_info": {
   "file_extension": ".cs",
   "mimetype": "text/x-csharp",
   "name": "C#",
   "pygments_lexer": "csharp",
   "version": "9.0"
  },
  "kernelspec": {
   "display_name": ".NET (C#)",
   "language": "C#",
   "name": ".net-csharp"
  }
 },
 "nbformat": 4,
 "nbformat_minor": 2
}