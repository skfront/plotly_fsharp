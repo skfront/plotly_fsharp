{
 "cells": [
  {
   "cell_type": "markdown",
   "source": [
    "## Basic Sankey Diagram"
   ],
   "metadata": {}
  },
  {
   "cell_type": "code",
   "execution_count": null,
   "source": [
    "#r \"nuget: Plotly.NET, 2.0.0-preview.6\"\n",
    "#r \"nuget: Plotly.NET.Interactive, 2.0.0-preview.6\"\n",
    "open Plotly.NET\n",
    "\n",
    "let nodes = [|\n",
    " Node.Create(\"A1\")\n",
    " Node.Create(\"A2\")\n",
    " Node.Create(\"B1\")\n",
    " Node.Create(\"B2\")\n",
    " Node.Create(\"C1\")\n",
    " Node.Create(\"C2\")\n",
    "|]\n",
    "\n",
    "Chart.Sankey(\n",
    "    nodeColor = \"blue\",\n",
    "    nodePadding = 15.,\n",
    "    nodeThicknes = 20.,\n",
    "    nodeLineColor = \"black\",\n",
    "    nodeLineWidth = 0.5,\n",
    "    nodes = (nodes |> Seq.ofArray),\n",
    "    links = [\n",
    "        Link.Create(src = nodes.[0], tgt = nodes.[2], value = 8.)\n",
    "        Link.Create(src = nodes.[1], tgt = nodes.[3], value = 4.)\n",
    "        Link.Create(src = nodes.[0], tgt = nodes.[3], value = 3.)\n",
    "        Link.Create(src = nodes.[2], tgt = nodes.[4], value = 8.)\n",
    "        Link.Create(src = nodes.[3], tgt = nodes.[4], value = 4.)\n",
    "        Link.Create(src = nodes.[3], tgt = nodes.[5], value = 2.)\n",
    "])\n",
    "|> Chart.withLayout(Layout.init(Title = \"Basic Sankey Diagram\", Font = Font.init(Size = 10.)))"
   ],
   "outputs": [],
   "metadata": {
    "dotnet_interactive": {
     "language": "fsharp"
    }
   }
  },
  {
   "cell_type": "markdown",
   "source": [
    "## Style Sankey Diagram"
   ],
   "metadata": {}
  },
  {
   "cell_type": "code",
   "execution_count": null,
   "source": [
    "#r \"nuget: FSharp.Data\"\n",
    "#r \"nuget: Plotly.NET, 2.0.0-preview.6\"\n",
    "#r \"nuget: Plotly.NET.Interactive, 2.0.0-preview.6\"\n",
    "open Plotly.NET\n",
    "\n",
    "let nodes = [|\n",
    " Node.Create(\"A1\")\n",
    " Node.Create(\"A2\")\n",
    " Node.Create(\"B1\")\n",
    " Node.Create(\"B2\")\n",
    " Node.Create(\"C1\")\n",
    " Node.Create(\"C2\")\n",
    "|]\n",
    "let links = [\n",
    "        Link.Create(src = nodes.[0], tgt = nodes.[2], value = 8.)\n",
    "        Link.Create(src = nodes.[1], tgt = nodes.[3], value = 4.)\n",
    "        Link.Create(src = nodes.[0], tgt = nodes.[3], value = 3.)\n",
    "        Link.Create(src = nodes.[2], tgt = nodes.[4], value = 8.)\n",
    "        Link.Create(src = nodes.[3], tgt = nodes.[4], value = 4.)\n",
    "        Link.Create(src = nodes.[3], tgt = nodes.[5], value = 2.)\n",
    "]\n",
    "\n",
    "Chart.Sankey(\n",
    "    nodes = nodes,\n",
    "    links = links,\n",
    "    nodePadding = 15.,\n",
    "    nodeThicknes = 20.,\n",
    "    nodeLineColor = \"black\",\n",
    "    nodeLineWidth = 0.5,\n",
    "    nodeColor = \"blue\")\n",
    "|> Chart.withLayout(Layout.init(Title = \"Basic Sankey Diagram\", Font = Font.init(Size = 10.)))"
   ],
   "outputs": [],
   "metadata": {
    "dotnet_interactive": {
     "language": "fsharp"
    }
   }
  },
  {
   "cell_type": "markdown",
   "source": [
    "## Define Node Position"
   ],
   "metadata": {}
  },
  {
   "cell_type": "code",
   "execution_count": null,
   "source": [
    "#r \"nuget: FSharp.Data\"\n",
    "#r \"nuget: Plotly.NET, 2.0.0-preview.6\"\n",
    "#r \"nuget: Plotly.NET.Interactive, 2.0.0-preview.6\"\n",
    "open Plotly.NET\n",
    "\n",
    "let trace = \n",
    "    let tmp = Trace(\"sankey\")\n",
    "    tmp?node <- {|\n",
    "                                label = [\"A\"; \"B\"; \"C\"; \"D\"; \"E\"; \"F\"]\n",
    "                                x = [0.2; 0.1; 0.5; 0.7; 0.3; 0.5]\n",
    "                                y = [0.7; 0.5; 0.2; 0.4; 0.2; 0.3]\n",
    "                                pad =10.\n",
    "                            |}\n",
    "    tmp?link <- {| source = [0; 0; 1; 2; 5; 4; 3; 5]\n",
    "                            target = [5; 3; 4; 3; 0; 2; 2; 3]\n",
    "                            value = [1; 2; 1; 1; 1; 1; 1; 2]|}\n",
    "    tmp?arrangement <- \"snap\"\n",
    "    tmp\n",
    "GenericChart.ofTraceObject(trace)\n"
   ],
   "outputs": [],
   "metadata": {
    "dotnet_interactive": {
     "language": "fsharp"
    }
   }
  }
 ],
 "metadata": {
  "orig_nbformat": 4,
  "language_info": {
   "file_extension": ".cs",
   "mimetype": "text/x-csharp",
   "name": "C#",
   "pygments_lexer": "csharp",
   "version": "9.0"
  },
  "kernelspec": {
   "display_name": ".NET (C#)",
   "language": "C#",
   "name": ".net-csharp"
  }
 },
 "nbformat": 4,
 "nbformat_minor": 2
}