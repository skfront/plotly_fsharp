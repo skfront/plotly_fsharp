{
 "cells": [
  {
   "cell_type": "code",
   "execution_count": null,
   "source": [
    "#r \"nuget: Plotly.NET, 2.0.0-preview.6\"\r\n",
    "#r \"nuget: newtonsoft.json\"\r\n",
    "#r \"nuget: Plotly.NET.Interactive, 2.0.0-preview.6\"\r\n",
    "open Plotly.NET\r\n"
   ],
   "outputs": [
    {
     "output_type": "display_data",
     "data": {
      "text/html": [
       "<div><div></div><div></div><div><strong>Installed Packages</strong><ul><li><span>newtonsoft.json, 13.0.1</span></li><li><span>Plotly.NET, 2.0.0-preview.6</span></li><li><span>Plotly.NET.Interactive, 2.0.0-preview.6</span></li></ul></div></div>"
      ]
     },
     "metadata": {}
    },
    {
     "output_type": "display_data",
     "data": {
      "text/markdown": [
       "Loading extensions from `Plotly.NET.Interactive.dll`"
      ]
     },
     "metadata": {}
    },
    {
     "output_type": "display_data",
     "data": {
      "text/markdown": [
       "Added Kernel Extension including formatters for Plotly.NET charts."
      ]
     },
     "metadata": {}
    }
   ],
   "metadata": {
    "dotnet_interactive": {
     "language": "fsharp"
    }
   }
  },
  {
   "cell_type": "markdown",
   "source": [
    "## Hover Text with Bubble Charts"
   ],
   "metadata": {}
  },
  {
   "cell_type": "code",
   "execution_count": null,
   "source": [
    "let x=[1; 2; 3; 4]\r\n",
    "let y=[10; 11; 12; 13]\r\n",
    "\r\n",
    "let marker = Marker.init(MultiSizes=[40; 60; 80; 100])\r\n",
    "marker?color <- [\"rgb(93, 164, 214)\"; \"rgb(255, 144, 14)\";  \"rgb(44, 160, 101)\"; \"rgb(255, 65, 54)\"] //workaround\r\n",
    "\r\n",
    "let labels = [\"A<br>size: 40\"; \"B<br>size: 60\"; \"C<br>size: 80\"; \"D<br>size: 100\"];\r\n",
    "Chart.Scatter(x,y,StyleParam.Mode.Markers, Labels=labels)\r\n",
    "    |> Chart.withMarker(marker)\r\n"
   ],
   "outputs": [
    {
     "output_type": "display_data",
     "data": {
      "text/html": [
       "<div id=\"0f32609f-2f09-4dab-9fd1-91d71d3a1310\" style=\"width: 600px; height: 600px;\"><!-- Plotly chart will be drawn inside this DIV --></div>\r\n",
       "<script type=\"text/javascript\">\r\n",
       "\n",
       "            var renderPlotly_0f32609f2f094dab9fd191d71d3a1310 = function() {\n",
       "            var fsharpPlotlyRequire = requirejs.config({context:'fsharp-plotly',paths:{plotly:'https://cdn.plot.ly/plotly-latest.min'}}) || require;\n",
       "            fsharpPlotlyRequire(['plotly'], function(Plotly) {\r\n",
       "\n",
       "            var data = [{\"type\":\"scatter\",\"x\":[1,2,3,4],\"y\":[10,11,12,13],\"mode\":\"markers\",\"line\":{},\"marker\":{\"size\":[40,60,80,100],\"color\":[\"rgb(93, 164, 214)\",\"rgb(255, 144, 14)\",\"rgb(44, 160, 101)\",\"rgb(255, 65, 54)\"]},\"text\":[\"A<br>size: 40\",\"B<br>size: 60\",\"C<br>size: 80\",\"D<br>size: 100\"]}];\n",
       "            var layout = {};\n",
       "            var config = {};\n",
       "            Plotly.newPlot('0f32609f-2f09-4dab-9fd1-91d71d3a1310', data, layout, config);\r\n",
       "});\n",
       "            };\n",
       "            if ((typeof(requirejs) !==  typeof(Function)) || (typeof(requirejs.config) !== typeof(Function))) {\n",
       "                var script = document.createElement(\"script\");\n",
       "                script.setAttribute(\"src\", \"https://cdnjs.cloudflare.com/ajax/libs/require.js/2.3.6/require.min.js\");\n",
       "                script.onload = function(){\n",
       "                    renderPlotly_0f32609f2f094dab9fd191d71d3a1310();\n",
       "                };\n",
       "                document.getElementsByTagName(\"head\")[0].appendChild(script);\n",
       "            }\n",
       "            else {\n",
       "                renderPlotly_0f32609f2f094dab9fd191d71d3a1310();\n",
       "            }\r\n",
       "</script>\r\n"
      ]
     },
     "metadata": {}
    }
   ],
   "metadata": {
    "dotnet_interactive": {
     "language": "fsharp"
    }
   }
  },
  {
   "cell_type": "markdown",
   "source": [
    "## Bubble Charts with Colorscale"
   ],
   "metadata": {}
  },
  {
   "cell_type": "code",
   "execution_count": null,
   "source": [
    "let x=[1.; 3.2; 5.4; 7.6; 9.8; 12.5;]\r\n",
    "let y=[1.; 3.2; 5.4; 7.6; 9.8; 12.5;]\r\n",
    "\r\n",
    "let marker = Marker.init(MultiSizes=[15; 30; 55; 70; 90; 110],Showscale=true)\r\n",
    "marker?color <- [120; 125; 130; 135; 140; 145] //workaround\r\n",
    "\r\n",
    "Chart.Scatter(x,y,StyleParam.Mode.Markers)\r\n",
    "    |> Chart.withMarker(marker)\r\n"
   ],
   "outputs": [
    {
     "output_type": "display_data",
     "data": {
      "text/html": [
       "<div id=\"7f3c89dc-6f1a-4922-a5cc-552febdfe16b\" style=\"width: 600px; height: 600px;\"><!-- Plotly chart will be drawn inside this DIV --></div>\r\n",
       "<script type=\"text/javascript\">\r\n",
       "\n",
       "            var renderPlotly_7f3c89dc6f1a4922a5cc552febdfe16b = function() {\n",
       "            var fsharpPlotlyRequire = requirejs.config({context:'fsharp-plotly',paths:{plotly:'https://cdn.plot.ly/plotly-latest.min'}}) || require;\n",
       "            fsharpPlotlyRequire(['plotly'], function(Plotly) {\r\n",
       "\n",
       "            var data = [{\"type\":\"scatter\",\"x\":[1.0,3.2,5.4,7.6,9.8,12.5],\"y\":[1.0,3.2,5.4,7.6,9.8,12.5],\"mode\":\"markers\",\"line\":{},\"marker\":{\"size\":[15,30,55,70,90,110],\"showscale\":true,\"color\":[120,125,130,135,140,145]}}];\n",
       "            var layout = {};\n",
       "            var config = {};\n",
       "            Plotly.newPlot('7f3c89dc-6f1a-4922-a5cc-552febdfe16b', data, layout, config);\r\n",
       "});\n",
       "            };\n",
       "            if ((typeof(requirejs) !==  typeof(Function)) || (typeof(requirejs.config) !== typeof(Function))) {\n",
       "                var script = document.createElement(\"script\");\n",
       "                script.setAttribute(\"src\", \"https://cdnjs.cloudflare.com/ajax/libs/require.js/2.3.6/require.min.js\");\n",
       "                script.onload = function(){\n",
       "                    renderPlotly_7f3c89dc6f1a4922a5cc552febdfe16b();\n",
       "                };\n",
       "                document.getElementsByTagName(\"head\")[0].appendChild(script);\n",
       "            }\n",
       "            else {\n",
       "                renderPlotly_7f3c89dc6f1a4922a5cc552febdfe16b();\n",
       "            }\r\n",
       "</script>\r\n"
      ]
     },
     "metadata": {}
    }
   ],
   "metadata": {
    "dotnet_interactive": {
     "language": "fsharp"
    }
   }
  }
 ],
 "metadata": {
  "orig_nbformat": 4,
  "language_info": {
   "file_extension": ".cs",
   "mimetype": "text/x-csharp",
   "name": "C#",
   "pygments_lexer": "csharp",
   "version": "9.0"
  },
  "kernelspec": {
   "display_name": ".NET (C#)",
   "language": "C#",
   "name": ".net-csharp"
  }
 },
 "nbformat": 4,
 "nbformat_minor": 2
}